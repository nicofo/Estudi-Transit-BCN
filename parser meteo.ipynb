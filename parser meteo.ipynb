{
 "cells": [
  {
   "cell_type": "code",
   "execution_count": 6,
   "metadata": {
    "collapsed": true
   },
   "outputs": [],
   "source": [
    "cap=\"date;time;temp_out;hi_temp;low_temp;out_hum;dew_pt;wind_speed;wind_dir;wind_run;hi_speed;hi_dir;wind_chill;heat_index;thw_index;thsw_index;bar;rain;rain_rate;solar_rad;solar_energy;hi_solar_rad;uv_index;uv_dose;hi_uv;heat_d-d;cool_d-d;in_temp;in_hum;in_dew;in_heat;in_emc;in_air_density;et;wind_samp;wind_tx;iss_recept;arc_int\\n\""
   ]
  },
  {
   "cell_type": "markdown",
   "metadata": {},
   "source": [
    "http://coo.icm.csic.es/site-page/meteorological-data"
   ]
  },
  {
   "cell_type": "code",
   "execution_count": 7,
   "metadata": {
    "collapsed": true
   },
   "outputs": [],
   "source": [
    "files=['meteo/2010_all_data.txt','meteo/2011_all_data.txt','meteo/2012_all_data.txt','meteo/2013_all_data.txt','meteo/2014_all_data.txt','meteo/2015_all_data.txt']"
   ]
  },
  {
   "cell_type": "code",
   "execution_count": 8,
   "metadata": {
    "collapsed": false
   },
   "outputs": [],
   "source": [
    "for i in files:\n",
    "    fo = open(i, \"r\")\n",
    "    save=i.replace(\".txt\", \".csv\")\n",
    "    fi = open(save, \"w\")\n",
    "    fi.write(cap)\n",
    "    fo.readline()\n",
    "    fo.readline()\n",
    "    for line in fo:\n",
    "        arr=line.split()\n",
    "        strOut=arr[0]\n",
    "        for part in arr[1:]:\n",
    "            strOut=strOut+\";\"+part\n",
    "        strOut=strOut+\"\\n\"\n",
    "        fi.write(strOut)\n",
    "    fi.close()\n",
    "    fo.close()"
   ]
  },
  {
   "cell_type": "code",
   "execution_count": null,
   "metadata": {
    "collapsed": true
   },
   "outputs": [],
   "source": []
  }
 ],
 "metadata": {
  "kernelspec": {
   "display_name": "Python 2",
   "language": "python",
   "name": "python2"
  },
  "language_info": {
   "codemirror_mode": {
    "name": "ipython",
    "version": 2
   },
   "file_extension": ".py",
   "mimetype": "text/x-python",
   "name": "python",
   "nbconvert_exporter": "python",
   "pygments_lexer": "ipython2",
   "version": "2.7.11"
  }
 },
 "nbformat": 4,
 "nbformat_minor": 0
}
