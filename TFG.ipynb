{
 "cells": [
  {
   "cell_type": "markdown",
   "metadata": {},
   "source": [
    "\n",
    "\n",
    "TITOL\n",
    "============"
   ]
  },
  {
   "cell_type": "markdown",
   "metadata": {
    "collapsed": true,
    "scrolled": false
   },
   "source": []
  },
  {
   "cell_type": "markdown",
   "metadata": {},
   "source": [
    "Dades d'incidencies de trànsit a Barcelona de la **Guardia Urbana de Barcelona** descarregades el dia 28 d'Abril del 2016 de [OpenDataBcn](http://opendata.bcn.cat/opendata/ca/catalog/GUARDIA%20URBANA)"
   ]
  },
  {
   "cell_type": "markdown",
   "metadata": {},
   "source": [
    "Carrega de les dades\n",
    "---------------"
   ]
  },
  {
   "cell_type": "markdown",
   "metadata": {},
   "source": [
    "Importem tots els *CSV* a Pandas DataFrame. <br> \n",
    "Hi ha hagut molts problemes ja que ho importavem amb cofificació UTF-8 i hem descobert que es Latín 1(iso-8859-1) <br>\n",
    "Els vehicles van amb OS2-850"
   ]
  },
  {
   "cell_type": "code",
   "execution_count": 2,
   "metadata": {
    "collapsed": false,
    "scrolled": false
   },
   "outputs": [
    {
     "name": "stderr",
     "output_type": "stream",
     "text": [
      "C:\\Users\\nicol\\Anaconda2\\lib\\site-packages\\IPython\\core\\interactiveshell.py:2902: DtypeWarning: Columns (0,2,4,6,7,8,9,10,13,16,17,18,19) have mixed types. Specify dtype option on import or set low_memory=False.\n",
      "  interactivity=interactivity, compiler=compiler, result=result)\n",
      "C:\\Users\\nicol\\Anaconda2\\lib\\site-packages\\IPython\\core\\interactiveshell.py:2902: DtypeWarning: Columns (16,27,28,29,30,31,32) have mixed types. Specify dtype option on import or set low_memory=False.\n",
      "  interactivity=interactivity, compiler=compiler, result=result)\n",
      "C:\\Users\\nicol\\Anaconda2\\lib\\site-packages\\IPython\\core\\interactiveshell.py:2902: DtypeWarning: Columns (5,19,20,21,22,23,24) have mixed types. Specify dtype option on import or set low_memory=False.\n",
      "  interactivity=interactivity, compiler=compiler, result=result)\n"
     ]
    }
   ],
   "source": [
    "\n",
    "import pandas as pd\n",
    "general=dict()\n",
    "temps=dict()\n",
    "persones=dict()\n",
    "vehicles=dict()\n",
    "tipus=dict()\n",
    "causa=dict()\n",
    "sizeYears=6\n",
    "\n",
    "general[0]=pd.read_csv(\"general/ACCIDENTS_GU_BCN_2010.csv\",sep=',', encoding='utf-8')\n",
    "persones[0]=pd.read_csv(\"persones/ACCIDENTS_PERSONES_GU_BCN_201\"+str(0)+\".csv\",sep=';', encoding='iso-8859-1')\n",
    "causa[0]=pd.read_csv(\"causalitat/ACCIDENTS_CAUSES_GU_BCN_201\"+str(0)+\".csv\",sep=';', encoding='cp437')\n",
    "tipus[0]=pd.read_csv(\"tipologia/ACCIDENTS_TIPUS_GU_BCN_201\"+str(0)+\".csv\",sep=';', encoding='cp850')\n",
    "vehicles[0]=pd.read_csv(\"vehicles/2010_ACCIDENTS_VEHICLES_GU_BCN_2010.csv\",sep=';', encoding='cp850')\n",
    "\n",
    "general[1]=pd.read_csv(\"general/ACCIDENTS_GU_BCN_2011.csv\",sep=',', encoding='utf-8')\n",
    "persones[1]=pd.read_csv(\"persones/ACCIDENTS_PERSONES_GU_BCN_201\"+str(1)+\".csv\",sep=';', encoding='iso-8859-1')\n",
    "causa[1]=pd.read_csv(\"causalitat/ACCIDENTS_CAUSES_GU_BCN_201\"+str(1)+\".csv\",sep=';', encoding='cp437')\n",
    "tipus[1]=pd.read_csv(\"tipologia/ACCIDENTS_TIPUS_GU_BCN_201\"+str(1)+\".csv\",sep=';', encoding='cp850')\n",
    "vehicles[1]=pd.read_csv(\"vehicles/2011_ACCIDENTS_VEHICLES_GU_BCN_2011.csv\",sep=';', encoding='cp850')\n",
    "\n",
    "general[2]=pd.read_csv(\"general/ACCIDENTS_GU_BCN_2012.csv\",sep=',', encoding='utf-8')\n",
    "persones[2]=pd.read_csv(\"persones/ACCIDENTS_PERSONES_GU_BCN_201\"+str(2)+\".csv\",sep=';', encoding='iso-8859-1')\n",
    "causa[2]=pd.read_csv(\"causalitat/ACCIDENTS_CAUSES_GU_BCN_201\"+str(2)+\".csv\",sep=';', encoding='cp437')\n",
    "tipus[2]=pd.read_csv(\"tipologia/ACCIDENTS_TIPUS_GU_BCN_201\"+str(2)+\".csv\",sep=';', encoding='cp850')\n",
    "vehicles[2]=pd.read_csv(\"vehicles/2012_ACCIDENTS_VEHICLES_GU_BCN_2012.csv\",sep=';', encoding='cp850')\n",
    "\n",
    "general[3]=pd.read_csv(\"general/ACCIDENTS_GU_BCN_2013.csv\",sep=',', encoding='utf-8')\n",
    "persones[3]=pd.read_csv(\"persones/ACCIDENTS_PERSONES_GU_BCN_201\"+str(3)+\".csv\",sep=';', encoding='iso-8859-1')\n",
    "causa[3]=pd.read_csv(\"causalitat/ACCIDENTS_CAUSES_GU_BCN_201\"+str(3)+\".csv\",sep=';', encoding='cp437')\n",
    "tipus[3]=pd.read_csv(\"tipologia/ACCIDENTS_TIPUS_GU_BCN_201\"+str(3)+\".csv\",sep=';', encoding='cp850')\n",
    "vehicles[3]=pd.read_csv(\"vehicles/2013_ACCIDENTS_VEHICLES_GU_BCN_2013.csv\",sep=';', encoding='cp850')\n",
    "\n",
    "general[4]=pd.read_csv(\"general/ACCIDENTS_GU_BCN_2014.csv\",sep=';', encoding='utf-8')\n",
    "persones[4]=pd.read_csv(\"persones/ACCIDENTS_PERSONES_GU_BCN_201\"+str(4)+\".csv\",sep=';', encoding='iso-8859-1')\n",
    "causa[4]=pd.read_csv(\"causalitat/ACCIDENTS_CAUSES_GU_BCN_201\"+str(4)+\".csv\",sep=';', encoding='cp437')\n",
    "tipus[4]=pd.read_csv(\"tipologia/ACCIDENTS_TIPUS_GU_BCN_201\"+str(4)+\".csv\",sep=';', encoding='cp850')\n",
    "vehicles[4]=pd.read_csv(\"vehicles/2014_ACCIDENTS_VEHICLES_GU_BCN_2014.csv\",sep=';', encoding='cp850')\n",
    "\n",
    "general[5]=pd.read_csv(\"general/ACCIDENTS_GU_BCN_2015.csv\",sep=';', encoding='utf-8')\n",
    "persones[5]=pd.read_csv(\"persones/ACCIDENTS_PERSONES_GU_BCN_201\"+str(5)+\".csv\",sep=';', encoding='iso-8859-1')\n",
    "causa[5]=pd.read_csv(\"causalitat/ACCIDENTS_CAUSES_GU_BCN_201\"+str(5)+\".csv\",sep=';', encoding='iso-8859-1')\n",
    "tipus[5]=pd.read_csv(\"tipologia/ACCIDENTS_TIPUS_GU_BCN_201\"+str(5)+\".csv\",sep=';', encoding='cp850')\n",
    "vehicles[5]=pd.read_csv(\"vehicles/2015_ACCIDENTS_VEHICLES_GU_BCN_2015.csv\",sep=';', encoding='cp850')\n",
    "\n",
    "    #cotxes.append(pd.read_csv(\"vehicles/\"+i+\"_ACCIDENTS_VEHICLES_GU_BCN_201\"+i+\".csv\",sep=';', encoding='iso-8859-1')\n",
    "    #data = pd.merge(pd.merge(pd.merge(general,cotxes), persones), tipus).T.drop_duplicates().T\n",
    "\n",
    "#data.to_csv(\"dadesAccidents.csv\", sep=';', encoding='utf32')\n",
    "#general[5].columns=['Hola']+general[5].columns[1:]\n",
    "\n",
    "#data.count()\n",
    "temps[0]=pd.read_csv(\"meteo/2010_all_data.csv\",sep=';', encoding='utf-8')\n",
    "temps[1]=pd.read_csv(\"meteo/2011_all_data.csv\",sep=';', encoding='utf-8')\n",
    "temps[2]=pd.read_csv(\"meteo/2012_all_data.csv\",sep=';', encoding='utf-8')\n",
    "temps[3]=pd.read_csv(\"meteo/2013_all_data.csv\",sep=';', encoding='utf-8')\n",
    "temps[4]=pd.read_csv(\"meteo/2014_all_data.csv\",sep=';', encoding='utf-8')\n",
    "temps[5]=pd.read_csv(\"meteo/2015_all_data.csv\",sep=';', encoding='utf-8')\n",
    "meteo = pd.concat(temps.values())\n",
    "cruilles=pd.read_csv('cruilles.csv', encoding='utf-8')"
   ]
  },
  {
   "cell_type": "code",
   "execution_count": 3,
   "metadata": {
    "collapsed": false
   },
   "outputs": [
    {
     "data": {
      "text/plain": [
       "Número d'expedient,Codi districte,Nom districte,Codi barri,Nom barri,Codi carrer,Nom carrer,Num postal caption,Descripció dia setmana,Dia setmana,Descripció tipus dia,NK Any,Mes de any,Nom mes,Dia de mes,Hora de dia,Descripció torn,Descripció causa vianant,Número de morts,Número de lesionats lleus,Número de lesionats greus,Número de vehicles implicats,Coordenada UTM (Y),Coordenada UTM (X)    object\n",
       "dtype: object"
      ]
     },
     "execution_count": 3,
     "metadata": {},
     "output_type": "execute_result"
    }
   ],
   "source": [
    "general[5].dtypes"
   ]
  },
  {
   "cell_type": "markdown",
   "metadata": {},
   "source": [
    "Neteja de les Dades\n",
    "-----------"
   ]
  },
  {
   "cell_type": "markdown",
   "metadata": {},
   "source": [
    "### Headres\n",
    "Canviem els **headres**.<br>\n",
    "Treiem els accents, els espais i els apostrofs. També ho posem tot en minuscula.\n",
    "<br>**Referencies:**<br>\n",
    "http://stackoverflow.com/questions/517923/what-is-the-best-way-to-remove-accents-in-a-python-unicode-string <br>"
   ]
  },
  {
   "cell_type": "code",
   "execution_count": 4,
   "metadata": {
    "collapsed": false,
    "scrolled": false
   },
   "outputs": [
    {
     "name": "stdout",
     "output_type": "stream",
     "text": [
      "0\n",
      "1\n",
      "2\n",
      "3\n",
      "4\n",
      "5\n",
      "Index([u'NmeroDexpedient', u'CodiDistricte', u'NomDistricte', u'CodiBarri',\n",
      "       u'NomBarri', u'CodiCarrer', u'NomCarrer', u'NumPostalCaption',\n",
      "       u'DescripciDiaSetmana', u'DiaSetmana', u'DescripciTipusDia', u'NkAny',\n",
      "       u'MesDeAny', u'NomMes', u'DiaDeMes', u'HoraDeDia', u'DescripciTorn',\n",
      "       u'DescripciTipusAccident', u'CoordenadaUtmy', u'CoordenadaUtmx'],\n",
      "      dtype='object')\n",
      "Index([u'NumeroDexpedient', u'CodiDistricte', u'NomDistricte', u'CodiBarri',\n",
      "       u'NomBarri', u'CodiCarrer', u'NomCarrer', u'NumPostalCaption',\n",
      "       u'DescripcioDiaSetmana', u'DiaSetmana', u'DescripcioTipusDia', u'NkAny',\n",
      "       u'MesDeAny', u'NomMes', u'DiaDeMes', u'HoraDeDia', u'DescripcioTorn',\n",
      "       u'DescripcioCausaMediata', u'CoordenadaUtmy', u'CoordenadaUtmx'],\n",
      "      dtype='object')\n"
     ]
    },
    {
     "data": {
      "text/plain": [
       "9056"
      ]
     },
     "execution_count": 4,
     "metadata": {},
     "output_type": "execute_result"
    }
   ],
   "source": [
    "import re\n",
    "import unicodedata\n",
    "\n",
    "def remove_accents(input_str):\n",
    "    nfkd_form = unicodedata.normalize('NFKD', input_str)\n",
    "    return u\"\".join([c for c in nfkd_form if not unicodedata.combining(c)])\n",
    "\n",
    "def firstUpper(x):\n",
    "    x=x[0].upper()+x[1:]\n",
    "    return x\n",
    "\n",
    "def convertHeader(x):\n",
    "    #to Lower case\n",
    "    if \" \" in x:\n",
    "        x = x.lower() \n",
    "    x = remove_accents(x)\n",
    "    \n",
    "    # Replace spaces for  \"\"\n",
    "    words=x.split()\n",
    "    words=[firstUpper(x) for x in words]\n",
    "    x=\"\".join(words)\n",
    "    \n",
    "    # Replace all character that is not a letter or space for \"\"\n",
    "    x = re.sub('[^a-z, A-Z\\ ]+', \"\", x)\n",
    "    \n",
    "    \n",
    "    \n",
    "    return x\n",
    "\n",
    "\n",
    "for i in range(sizeYears):\n",
    "    general[i].columns=general[i].columns.map(convertHeader)\n",
    "    persones[i].columns=persones[i].columns.map(convertHeader)\n",
    "    tipus[i].columns=tipus[i].columns.map(convertHeader)\n",
    "    vehicles[i].columns=vehicles[i].columns.map(convertHeader)\n",
    "    print i\n",
    "    causa[i].columns=causa[i].columns.map(convertHeader)\n",
    "\n",
    "print tipus[i].columns\n",
    "print causa[i].columns\n",
    "general[0]['NumeroDexpedient'].count()\n",
    "\n"
   ]
  },
  {
   "cell_type": "code",
   "execution_count": 13,
   "metadata": {
    "collapsed": false
   },
   "outputs": [
    {
     "name": "stdout",
     "output_type": "stream",
     "text": [
      "Index([u'NumeroDexpedient', u'CodiDistricte', u'NomDistricte', u'CodiBarri',\n",
      "       u'NomBarri', u'CodiCarrer', u'NomCarrer', u'NumPostalCaption',\n",
      "       u'DescripcioDiaSetmana', u'DiaSetmana', u'DescripcioTipusDia', u'NkAny',\n",
      "       u'MesDeAny', u'NomMes', u'DiaDeMes', u'HoraDeDia', u'DescripcioTorn',\n",
      "       u'DescripcioCausaVianant', u'NumeroDeMorts', u'NumeroDeLesionatsLleus',\n",
      "       u'NumeroDeLesionatsGreus', u'NumeroDeVehiclesImplicats',\n",
      "       u'CoordenadaUtmy', u'CoordenadaUtmx', u'DataNumeric', u'Data',\n",
      "       u'CoordUTM', u'Lat', u'Lon', u'LatLonStr', u'LatLon', u'Pluja',\n",
      "       u'DescripciTipusDia', u'MonumentProper', u'DistMonumentProper',\n",
      "       u'creuaments', u'DescripciTipusAccident', u'DescripcioCausaMediata'],\n",
      "      dtype='object')\n"
     ]
    }
   ],
   "source": [
    "print general[i].columns"
   ]
  },
  {
   "cell_type": "markdown",
   "metadata": {},
   "source": [
    "### Noves Columnes\n",
    "Adherim columnes que ens poden ser utils:\n",
    "\n",
    "+ DataNumeric(Per ordenació)\n",
    "+ Data(Per mostrar)\n",
    "+ Lat(Latitud de coordenades LatLon)\n",
    "+ Lon(Longitud de coordenades LatLon)\n",
    "\n",
    "Ho posarem als DataFrames *general* ja que son els que utilitzarem de base\n",
    "\n",
    "Utilitzarem el Package [UTM](https://pypi.python.org/pypi/utm) per pasar de UTM a LatLon"
   ]
  },
  {
   "cell_type": "code",
   "execution_count": null,
   "metadata": {
    "collapsed": false
   },
   "outputs": [],
   "source": [
    "import utm\n",
    "#Functions for mapping\n",
    "diesFestius=['01/01','06/01','01/05', '24/06', '15/08','11/09','24/09','12/10','01/11','06/12', '08/12','25/12', '26/12']\n",
    "def toStr(x):\n",
    "    return str(x)\n",
    "\n",
    "def toInt(x):\n",
    "    return int(x)\n",
    "def to2Dig(x):\n",
    "    return \"%02d\" % (x,)\n",
    "def utmToLat(x):\n",
    "    coor=x.split(\"/\")\n",
    "    try:\n",
    "        lat=utm.to_latlon(float(str(coor[0]).replace(',', '.')), float(str(coor[1]).replace(',', '.')),  31, 'T')[0]\n",
    "    except:\n",
    "        lat=-1\n",
    "    return lat\n",
    "def utmToLon(x):\n",
    "    coor=x.split(\"/\")\n",
    "    try:\n",
    "        lat=utm.to_latlon(float(str(coor[0]).replace(',', '.')), float(str(coor[1]).replace(',', '.')),  31, 'T')[1]    \n",
    "    except:\n",
    "        lat=-1\n",
    "    return lat\n",
    "def toNormal(x):\n",
    "    arr=x.split(\",\")\n",
    "    return (float(arr[0]),float(arr[1]))\n",
    "\n",
    "def horesMeteo(x):\n",
    "    result=x.split(':')\n",
    "    return result[0]\n",
    "\n",
    "def recentPlogut(dia, hora, index):\n",
    "    arrDia=dia.split('/')\n",
    "    diaAqui=arrDia[0]+'/'+arrDia[1]+'/'+'1'+str(index)\n",
    "    arrPlujes=temps[index][temps[index]['date']==diaAqui]['rain_rate']\n",
    "    if len(arrPlujes)<=0:\n",
    "        return False\n",
    "    if sum(arrPlujes)<0.1:\n",
    "        return False\n",
    "    return True\n",
    "\n",
    "#contem dissabte com festiu\n",
    "def esLaborable(dia, diaSetmana):\n",
    "    if diaSetmana=='Diumenge' or diaSetmana=='Dissabte':\n",
    "        return 'Festiu'\n",
    "    diaSp=dia.split('/')\n",
    "    if (diaSp[0]+'/'+diaSp[1]) in diesFestius:\n",
    "        return 'Festiu'\n",
    "    return 'Laboral'\n",
    "    \n",
    "    \n",
    "for i in range(sizeYears):\n",
    "    general[i]['DataNumeric']=general[i][\"NkAny\"].map(toStr)+\"\"+ general[i][\"MesDeAny\"].map(to2Dig)+''+general[i][\"DiaDeMes\"].map(to2Dig)\n",
    "    general[i]['DataNumeric']=general[i]['DataNumeric'].map(toInt)\n",
    "    general[i]['Data']=general[i][\"DiaDeMes\"].map(to2Dig)+\"/\"+ general[i][\"MesDeAny\"].map(to2Dig)+'/'+general[i][\"NkAny\"].map(to2Dig)\n",
    "    general[i]['CoordUTM']=general[i][\"CoordenadaUtmx\"].map(toStr)+\"/\"+general[i][\"CoordenadaUtmy\"].map(toStr)\n",
    "    general[i]['Lat']=general[i]['CoordUTM'].map(utmToLat)\n",
    "    general[i]['Lon']=general[i]['CoordUTM'].map(utmToLon)\n",
    "    general[i]['LatLonStr']=general[i]['Lat'].map(toStr)+\", \"+general[i]['Lon'].map(toStr)\n",
    "    general[i]['LatLon']=general[i]['LatLonStr'].map(toNormal)\n",
    "    temps[i]['Hora']=temps[i]['time'].map(horesMeteo)\n",
    "    general[i]['Pluja'] = [recentPlogut(info['Data'], info['HoraDeDia'], i) for index, info in general[i].iterrows()]\n",
    "    general[i]['DescripciTipusDia'] =[esLaborable(info['Data'], info['DescripcioDiaSetmana']) for index, info in general[i].iterrows()]\n"
   ]
  },
  {
   "cell_type": "code",
   "execution_count": null,
   "metadata": {
    "collapsed": false
   },
   "outputs": [],
   "source": [
    "general[0][general[0]['Lat']==-1]"
   ]
  },
  {
   "cell_type": "markdown",
   "metadata": {},
   "source": [
    "Monuments Propers\n",
    "--------------\n",
    "Busquem si es troba a prop d'un monument"
   ]
  },
  {
   "cell_type": "code",
   "execution_count": null,
   "metadata": {
    "collapsed": false
   },
   "outputs": [],
   "source": [
    "monumentsRev={(41.395372, 2.161961):\"Casa Mila\", (41.384171, 2.176306):\"Catedral de Barcelona\", (41.381751, 2.171600):\"Boqueria\", (41.375834, 2.177833):\"monument Cristobal Colon\", (41.413578, 2.153006):\"Parc Güell\",(41.403590, 2.174367): \"Sagrada familia\"}\n",
    "monuments={\"Casa Mila\":(41.395372, 2.161961), \"Catedral de Barcelona\":(41.384171, 2.176306), \"Boqueria\":(41.381751, 2.171600), \"monument Cristobal Colon\":(41.375834, 2.177833), \"Parc Güell\":(41.413578, 2.153006),\"Sagrada familia\":(41.403590, 2.174367)}\n",
    "distMeters=500"
   ]
  },
  {
   "cell_type": "code",
   "execution_count": null,
   "metadata": {
    "collapsed": false
   },
   "outputs": [],
   "source": [
    "from geopy.distance import vincenty\n",
    "def closerMonument(x):\n",
    "    lastLoc=(0,0)\n",
    "    lastDist=2000\n",
    "    for loc in monumentsRev.keys():\n",
    "        tmpDist=vincenty(loc, x).meters\n",
    "        if tmpDist<= distMeters and tmpDist<lastDist:\n",
    "            lastLoc, lastDist= loc, tmpDist\n",
    "    if lastLoc == (0,0):\n",
    "        return \"\"\n",
    "    return monumentsRev[lastLoc]\n",
    "def closerMonumentDist(x):\n",
    "    lastLoc=(0,0)\n",
    "    lastDist=2000 \n",
    "    for loc in monumentsRev.keys():\n",
    "        tmpDist=vincenty(loc, x).meters\n",
    "        if tmpDist<= distMeters and tmpDist<lastDist:\n",
    "            lastLoc, lastDist= loc, tmpDist\n",
    "    if lastLoc == (0,0):\n",
    "        return lastDist\n",
    "    return lastDist\n",
    "    \n",
    "for i in range(sizeYears):\n",
    "    general[i]['MonumentProper']= general[i]['LatLon'].map(closerMonument)\n",
    "    general[i]['DistMonumentProper']= general[i]['LatLon'].map(closerMonumentDist)"
   ]
  },
  {
   "cell_type": "code",
   "execution_count": null,
   "metadata": {
    "collapsed": false,
    "scrolled": true
   },
   "outputs": [],
   "source": [
    "general[0][general[0]['MonumentProper'] ==\"Sagrada familia\" ].NumeroDexpedient.count()"
   ]
  },
  {
   "cell_type": "code",
   "execution_count": null,
   "metadata": {
    "collapsed": false,
    "scrolled": true
   },
   "outputs": [],
   "source": [
    "print general[0].dtypes\n",
    "print tipus[0].dtypes\n",
    "print vehicles[0].dtypes\n",
    "print persones[0].dtypes"
   ]
  },
  {
   "cell_type": "markdown",
   "metadata": {},
   "source": [
    "# Cruïlles de BCN\n"
   ]
  },
  {
   "cell_type": "code",
   "execution_count": null,
   "metadata": {
    "collapsed": false
   },
   "outputs": [],
   "source": [
    "#!/usr/bin/python\n",
    "\n",
    "import threading\n",
    "import time\n",
    "\n",
    "class myThread (threading.Thread):\n",
    "    def __init__(self, threadID, df):\n",
    "        threading.Thread.__init__(self)\n",
    "        self.threadID = threadID\n",
    "        self.df=df\n",
    "    def run(self):\n",
    "        print \"Starting \" + str(self.threadID)\n",
    "        # Get lock to synchronize threads\n",
    "        threadLock.acquire()\n",
    "        print_time(df)\n",
    "        # Free lock to release next thread\n",
    "        threadLock.release()\n",
    "\n",
    "def calculateCruillaProxima(threadName, delay, counter):\n",
    "    self.df['creuaments']=''\n",
    "    for index, info in general[i].iterrows():\n",
    "        self.df.set_value(index, 'creuaments', [(infoCru['lat'],infoCru['lon'])for indexCru, infoCru in cruilles.iterrows() if vincenty(info['LatLon'], (infoCru['lat'],infoCru['lon'])).meters <= 50])\n",
    "    self.df.to_csv('netejats/general201'+i+'.csv', index=False)\n",
    "\n",
    "threadLock = threading.Lock()\n",
    "threads = []\n",
    "\n",
    "# Create new threads\n",
    "thread1 = myThread(1, general[0])\n",
    "thread2 = myThread(2, general[1])\n",
    "thread3 = myThread(3, general[2])\n",
    "thread4 = myThread(4, general[3])\n",
    "thread5 = myThread(5, general[4])\n",
    "thread6 = myThread(6, general[5])\n",
    "# Start new Threads\n",
    "thread1.start()\n",
    "thread2.start()\n",
    "thread3.start()\n",
    "thread4.start()\n",
    "thread5.start()\n",
    "thread6.start()\n",
    "# Add threads to thread list\n",
    "threads.append(thread1)\n",
    "threads.append(thread2)\n",
    "threads.append(thread3)\n",
    "threads.append(thread4)\n",
    "threads.append(thread5)\n",
    "threads.append(thread6)\n",
    "\n",
    "# Wait for all threads to complete\n",
    "for t in threads:\n",
    "    t.join()\n",
    "print \"Exiting Main Thread\""
   ]
  },
  {
   "cell_type": "code",
   "execution_count": null,
   "metadata": {
    "collapsed": false
   },
   "outputs": [],
   "source": [
    "\n",
    "from geopy.distance import vincenty\n",
    "import timeit\n",
    "\n",
    "start = timeit.default_timer()\n",
    "import numpy as np\n",
    "for i in range(sizeYears):\n",
    "    general[i]['creuaments']=''\n",
    "    \n",
    "    for index, info in general[i].iterrows():\n",
    "        if info['Lat']!= -1 and info['Lon']!=-1:\n",
    "            general[i].set_value(index, 'creuaments', [(infoCru['lat'],infoCru['lon'])for indexCru, infoCru in cruilles.iterrows() if vincenty(info['LatLon'], (infoCru['lat'],infoCru['lon'])).meters <= 50])\n",
    "                \n",
    "    general[i].to_csv('netejats/general201'+str(i)+'.csv', index=False, encoding='utf-8')\n",
    "    \n",
    "\n",
    "stop = timeit.default_timer()\n",
    "\n",
    "print stop - start \n",
    "    #general[i].to_csv('netejats/general201'+i+'.csv', index=False)\n",
    "#createJSMultiCruilles('cruillesRadi', (pd.concat(general.values())).groupby('creuaments')['NumeroDexpedient'].count().keys())"
   ]
  },
  {
   "cell_type": "code",
   "execution_count": 5,
   "metadata": {
    "collapsed": true
   },
   "outputs": [],
   "source": [
    "for i in range(sizeYears):\n",
    "\n",
    "    general[i]=pd.read_csv('netejats/general201'+str(i)+'.csv',sep=',', encoding='utf-8')"
   ]
  },
  {
   "cell_type": "markdown",
   "metadata": {},
   "source": [
    "## Mes noves columnes"
   ]
  },
  {
   "cell_type": "code",
   "execution_count": null,
   "metadata": {
    "collapsed": false
   },
   "outputs": [],
   "source": []
  },
  {
   "cell_type": "code",
   "execution_count": null,
   "metadata": {
    "collapsed": false
   },
   "outputs": [],
   "source": [
    "def descripcioAc(num, i):\n",
    "    try:\n",
    "        res= tipus[i][tipus[i]['NumeroDexpedient']==num]['DescripcioTipusAccident'].iloc[0]\n",
    "    except:\n",
    "        try:\n",
    "            res= tipus[i][tipus[i]['NumeroDexpedient']==num]['DescripciTipusAccident'].iloc[0]\n",
    "        except:\n",
    "            try:\n",
    "                res= tipus[i][tipus[i]['NmeroDexpedient']==num]['DescripciTipusAccident'].iloc[0]\n",
    "            except:\n",
    "                res=''\n",
    "\n",
    "    return res\n",
    "def causaMediata(num, i):\n",
    "    try:\n",
    "        res= causa[i][causa[i]['NumeroDexpedient']==num]['DescripcioCausaMediata'].iloc[0]\n",
    "    except:\n",
    "        res=  'No hi ha causa mediata'\n",
    "    return res\n",
    "for i in range(sizeYears):\n",
    "    general[i]['DescripciTipusAccident']=[descripcioAc(info['NumeroDexpedient'], i) for index, info in general[i].iterrows()]\n",
    "    general[i]['DescripcioCausaMediata']=[causaMediata(info['NumeroDexpedient'], i) for index, info in general[i].iterrows()]\n",
    "\n",
    "general[0]"
   ]
  },
  {
   "cell_type": "code",
   "execution_count": null,
   "metadata": {
    "collapsed": true
   },
   "outputs": [],
   "source": [
    "import random\n",
    "def createJSMultiCruilles(name, keys):\n",
    "\n",
    "    #mesosAny={'1':'de Gener','2': 'de Febrer','3': 'de Març','4':\"d'Abril\",'5': 'de Maig','6': 'de Juny','7': 'de Juliol','8': \"d'Agost\",'9': 'de Setembre','10': \"d'Octubre\",'11': 'de Novembre','12': 'de Desembre'}\n",
    "\n",
    "\n",
    "\n",
    "    #print dates\n",
    "    fout= open(name+\"Multi.js\", 'w')\n",
    "    posarComaEntre=False\n",
    "    fout.write('var '+name+' = {\\n')\n",
    "    fout.write('  \"type\": \"FeatureCollection\",\\n')\n",
    "    fout.write('  \"features\": [\\n')\n",
    "    for i in keys:\n",
    "        \n",
    "        \n",
    "        if posarComaEntre:\n",
    "            fout.write(',\\n')\n",
    "        posarComaEntre=True\n",
    "\n",
    "        fout.write('    {\\n')\n",
    "        fout.write('      \"type\": \"Feature\",\\n')\n",
    "        fout.write('      \"properties\": {\\n')\n",
    "        if len (i)==0 or i=='' or i==[]:\n",
    "            fout.write('        \"color\": \"'+ '#000000\"')\n",
    "            \n",
    "        else:\n",
    "            fout.write('        \"color\": \"'+ '#{:06x}'.format(random.randint(0, 0xffffff))+'\",\\n')\n",
    "            \n",
    "        fout.write('        \"num\": \"'+ str(i)+'\"\\n')\n",
    "        fout.write('      },\\n')\n",
    "        fout.write('      \"geometry\": { \\n')\n",
    "        fout.write('        \"type\":\"MultiPoint\",\\n')\n",
    "        fout.write('        \"coordinates\":[')\n",
    "        posarComa=False\n",
    "        for j in range(sizeYears):\n",
    "            for coord in general[j][general[j]['creuaments']==i]['LatLon']: \n",
    "                if posarComa:\n",
    "                    fout.write(', ')\n",
    "                posarComa=True\n",
    "                coordNorm=coord.replace('(','').replace(')', '').split(',')\n",
    "                #coord=utm.to_latlon(float(str(info[\"Coordenada UTM (X)\"]).replace(',', '.')), float(str(info[\"Coordenada UTM (Y)\"]).replace(',', '.')),  31, 'T')\n",
    "                fout.write('['+\"%.6f\" % float(coordNorm[1])+', '+\"%.6f\" % float(coordNorm[0]) +']')\n",
    "\n",
    "        fout.write(']\\n      }\\n')\n",
    "        fout.write('    }')            \n",
    "    fout.write('\\n  ]\\n')\n",
    "    fout.write('};')\n",
    "\n",
    "    fout.close()"
   ]
  },
  {
   "cell_type": "code",
   "execution_count": null,
   "metadata": {
    "collapsed": false
   },
   "outputs": [],
   "source": [
    "createJSMultiCruilles('cruillesRadi', (pd.concat(general.values())).groupby('creuaments')['NumeroDexpedient'].count().keys())"
   ]
  },
  {
   "cell_type": "markdown",
   "metadata": {},
   "source": [
    "### Eliminació de columnes \n",
    "Eliminem totes les columnes que no necessitarem"
   ]
  },
  {
   "cell_type": "code",
   "execution_count": null,
   "metadata": {
    "collapsed": false,
    "scrolled": false
   },
   "outputs": [],
   "source": [
    "for i in range(sizeYears):\n",
    "    general[i].drop('CoordUTM', axis=1, inplace=True)\n",
    "    '''\n",
    "    persones[i].drop('column_name', axis=1, inplace=True)\n",
    "    tipus[i].drop('column_name', axis=1, inplace=True)\n",
    "    vehicles[i].drop('column_name', axis=1, inplace=True)\n",
    "    '''"
   ]
  },
  {
   "cell_type": "code",
   "execution_count": null,
   "metadata": {
    "collapsed": true
   },
   "outputs": [],
   "source": [
    "for i in range(sizeYears):                \n",
    "    general[i].to_csv('netejats/general201'+str(i)+'.csv', index=False, encoding='utf-8')\n",
    "    "
   ]
  },
  {
   "cell_type": "markdown",
   "metadata": {},
   "source": [
    "UTILITIES\n",
    "============="
   ]
  },
  {
   "cell_type": "markdown",
   "metadata": {},
   "source": [
    "General utilities\n",
    "---------------"
   ]
  },
  {
   "cell_type": "code",
   "execution_count": null,
   "metadata": {
    "collapsed": true
   },
   "outputs": [],
   "source": [
    "import random\n",
    "def createJSMulti(name, clusterHere):\n",
    "\n",
    "    #mesosAny={'1':'de Gener','2': 'de Febrer','3': 'de Març','4':\"d'Abril\",'5': 'de Maig','6': 'de Juny','7': 'de Juliol','8': \"d'Agost\",'9': 'de Setembre','10': \"d'Octubre\",'11': 'de Novembre','12': 'de Desembre'}\n",
    "\n",
    "\n",
    "\n",
    "    #print dates\n",
    "    fout= open(name+\"Multi.js\", 'w')\n",
    "    posarComaEntre=False\n",
    "    fout.write('var '+name+' = {\\n')\n",
    "    fout.write('  \"type\": \"FeatureCollection\",\\n')\n",
    "    fout.write('  \"features\": [\\n')\n",
    "    for i in clusterHere.keys():\n",
    "        \n",
    "        \n",
    "        if posarComaEntre:\n",
    "            fout.write(',\\n')\n",
    "        posarComaEntre=True\n",
    "\n",
    "        fout.write('    {\\n')\n",
    "        fout.write('      \"type\": \"Feature\",\\n')\n",
    "        fout.write('      \"properties\": {\\n')\n",
    "        fout.write('        \"color\": \"'+ '#{:06x}'.format(random.randint(0, 0xffffff))+'\",\\n')\n",
    "        fout.write('        \"num\": \"'+ str(i)+'\"\\n')\n",
    "\n",
    "        \n",
    "        fout.write('      },\\n')\n",
    "        fout.write('      \"geometry\": { \\n')\n",
    "        fout.write('        \"type\":\"MultiPoint\",\\n')\n",
    "        fout.write('        \"coordinates\":[')\n",
    "        posarComa=False\n",
    "        for coord in clusterHere[i]: \n",
    "            if posarComa:\n",
    "                fout.write(', ')\n",
    "            posarComa=True\n",
    "            \n",
    "            #coord=utm.to_latlon(float(str(info[\"Coordenada UTM (X)\"]).replace(',', '.')), float(str(info[\"Coordenada UTM (Y)\"]).replace(',', '.')),  31, 'T')\n",
    "            fout.write('['+\"%.6f\" % coord[1]+', '+\"%.6f\" % coord[0] +']')\n",
    "                 \n",
    "        fout.write(']\\n      }\\n')\n",
    "        fout.write('    }')            \n",
    "    fout.write('\\n  ]\\n')\n",
    "    fout.write('};')\n",
    "\n",
    "    fout.close()\n"
   ]
  },
  {
   "cell_type": "markdown",
   "metadata": {},
   "source": [
    "## K-Means"
   ]
  },
  {
   "cell_type": "code",
   "execution_count": null,
   "metadata": {
    "collapsed": false
   },
   "outputs": [],
   "source": [
    "import numpy as np\n",
    "from sklearn import metrics\n",
    "from sklearn.cluster import KMeans\n",
    "from sklearn.datasets.samples_generator import make_blobs\n",
    "af = KMeans(max_iter=400, n_clusters=1000)\n",
    "def toParArray(x):\n",
    "    return [x[0],x[1]]\n",
    "allCoord=[]\n",
    "for i in range(sizeYears):\n",
    "    allCoord= allCoord + np.array(general[i]['LatLon'].values).tolist()\n",
    "clusterPerAcc=af.fit_predict(allCoord)\n"
   ]
  },
  {
   "cell_type": "code",
   "execution_count": null,
   "metadata": {
    "collapsed": false
   },
   "outputs": [],
   "source": [
    "het=[]\n",
    "clustersMeans=dict()\n",
    "clusterPerAcc\n",
    "print len(clusterPerAcc),len(allCoord)\n",
    "#print clusterPerAcc\n",
    "#print af.core_sample_indices_.tolist()\n",
    "print \n",
    "for i in range(len(clusterPerAcc)):\n",
    "    try:\n",
    "        clustersMeans[clusterPerAcc[i]]+= [allCoord[i]]\n",
    "    except:\n",
    "        clustersMeans[clusterPerAcc[i]]= [allCoord[i]]\n",
    "    #het.append([i[1], i[0]])\n",
    "\n",
    "print clustersMeans.keys()"
   ]
  },
  {
   "cell_type": "code",
   "execution_count": null,
   "metadata": {
    "collapsed": false
   },
   "outputs": [],
   "source": [
    "createJSMulti('means',clustersMeans)"
   ]
  },
  {
   "cell_type": "markdown",
   "metadata": {},
   "source": [
    "## DBSCAN\n",
    "Distancia entre cruïlla i cruïlla en LatLon 0.00141826\n",
    "http://www.wolframalpha.com/input/?i=distance%28%2841.386489,+2.150543%29,+%2841.387350,+2.151670%29%29"
   ]
  },
  {
   "cell_type": "code",
   "execution_count": null,
   "metadata": {
    "collapsed": false
   },
   "outputs": [],
   "source": [
    "import numpy as np\n",
    "from sklearn import metrics\n",
    "from sklearn.cluster import DBSCAN\n",
    "from sklearn.datasets.samples_generator import make_blobs\n",
    "af = DBSCAN(eps= 0.00141826)\n",
    "def toParArray(x):\n",
    "    return [x[0],x[1]]\n",
    "allCoord=[]\n",
    "for i in range(sizeYears):\n",
    "    allCoord= allCoord + np.array(general[i]['LatLon'].values).tolist()\n",
    "clusterPerAcc=af.fit_predict(allCoord)"
   ]
  },
  {
   "cell_type": "code",
   "execution_count": null,
   "metadata": {
    "collapsed": false
   },
   "outputs": [],
   "source": [
    "het=[]\n",
    "clustersDCSCAN=dict()\n",
    "clusterPerAcc\n",
    "print len(clusterPerAcc),len(allCoord)\n",
    "#print clusterPerAcc\n",
    "#print af.core_sample_indices_.tolist()\n",
    "print \n",
    "for i in range(len(clusterPerAcc)):\n",
    "    try:\n",
    "        clustersDCSCAN[clusterPerAcc[i]]+= [allCoord[i]]\n",
    "    except:\n",
    "        clustersDCSCAN[clusterPerAcc[i]]= [allCoord[i]]\n",
    "    #het.append([i[1], i[0]])\n",
    "\n",
    "print clustersDCSCAN.keys()"
   ]
  },
  {
   "cell_type": "code",
   "execution_count": null,
   "metadata": {
    "collapsed": true
   },
   "outputs": [],
   "source": [
    "createJSMulti('dcscan',clustersDCSCAN)"
   ]
  },
  {
   "cell_type": "markdown",
   "metadata": {},
   "source": [
    "## AffinityPropagation"
   ]
  },
  {
   "cell_type": "code",
   "execution_count": null,
   "metadata": {
    "collapsed": false
   },
   "outputs": [],
   "source": [
    "import numpy as np\n",
    "from sklearn.cluster import  AffinityPropagation\n",
    "from sklearn import metrics\n",
    "from sklearn.datasets.samples_generator import make_blobs\n",
    "af = AffinityPropagation()\n",
    "def toParArray(x):\n",
    "    return [x[0],x[1]]\n",
    "allCoord=[]\n",
    "for i in range(sizeYears):\n",
    "    allCoord= allCoord + np.array(general[i]['LatLon'].values).tolist()\n",
    "for i in range(len(allCoord)/100):\n",
    "    af.fit(allCoord[100*i:100*(i+1)])"
   ]
  },
  {
   "cell_type": "code",
   "execution_count": null,
   "metadata": {
    "collapsed": false
   },
   "outputs": [],
   "source": []
  },
  {
   "cell_type": "code",
   "execution_count": null,
   "metadata": {
    "collapsed": false,
    "scrolled": true
   },
   "outputs": [],
   "source": [
    "het=[]\n",
    "clustersAFFPRO=dict()\n",
    "#print clusterPerAcc\n",
    "#print af.core_sample_indices_.tolist()\n",
    "algo=0\n",
    "for i in range(len(allCoord)):\n",
    "    try:\n",
    "        clustersAFFPRO[af.predict(allCoord[i])]+= [allCoord[i]]\n",
    "    except:\n",
    "        clustersAFFPRO[clusterPerAcc[i]]= [allCoord[i]]\n",
    "    #het.append([i[1], i[0]])\n",
    "    if ++algo>100:\n",
    "        break\n",
    "\n",
    "print clustersAFFPRO.keys()"
   ]
  },
  {
   "cell_type": "code",
   "execution_count": null,
   "metadata": {
    "collapsed": true
   },
   "outputs": [],
   "source": [
    "createJSMulti('affinity',clustersAFFPRO)"
   ]
  },
  {
   "cell_type": "markdown",
   "metadata": {},
   "source": [
    "Dictionary and DataFrame utilities\n",
    "------------------------"
   ]
  },
  {
   "cell_type": "code",
   "execution_count": 17,
   "metadata": {
    "collapsed": false,
    "scrolled": false
   },
   "outputs": [],
   "source": [
    "import numpy as np\n",
    "import matplotlib\n",
    "#matplotlib.rcParams['text.usetex'] = True\n",
    "#matplotlib.rcParams['text.latex.unicode'] = True\n",
    "import matplotlib.pyplot as plt\n",
    "def countTypes(df, name):\n",
    "    return df.groupby(name)['NumeroDexpedient'].count()\n",
    "\n",
    "def countTypesDict(df, name):\n",
    "    return df.groupby(name)['NumeroDexpedient'].count().to_dict()\n",
    "   \n",
    "def dictMean(D):\n",
    "    return round(np.mean(D.values()),2)\n",
    "\n",
    "\n",
    "def printDict(D):\n",
    "    for key in D.keys():\n",
    "        print key+\": \"+ str(D[key])\n",
    "\n",
    "def getDictTop(D):\n",
    "    final= dict()\n",
    "    dtmp = sorted(D.items(), key=lambda x:x[1])\n",
    "    i=0\n",
    "    for k,v in dtmp[::-1]:\n",
    "        if i>9:\n",
    "            return final\n",
    "        final[k]=v\n",
    "        i+=1\n",
    "    return final\n",
    "\n",
    "        \n",
    "def printSortDict(D):\n",
    "    \n",
    "    dtmp = sorted(D.items(), key=lambda x:x[1])\n",
    "    for v,k in dtmp[::-1]:\n",
    "        try:\n",
    "            print ''+str(v)+\": \"+str(round(float(k),2))\n",
    "        except:\n",
    "            print ''+v+\": \"+str(round(float(k),2))"
   ]
  },
  {
   "cell_type": "markdown",
   "metadata": {},
   "source": [
    "Plot Utilities\n",
    "-----------------"
   ]
  },
  {
   "cell_type": "code",
   "execution_count": 18,
   "metadata": {
    "collapsed": false
   },
   "outputs": [],
   "source": [
    "\n",
    "\n",
    "def plotTypes(df, name):\n",
    "    general[i][name].value_counts().plot(kind='bar')\n",
    "\n",
    "def plotDict(D, average=False, plotName=None):\n",
    "    \n",
    "    plt.barh(range(len(D)), D.values(), align='center')\n",
    "    plt.yticks(range(len(D)), D.keys())\n",
    "    if average:\n",
    "        plt.axvline(dictMean(D), color='r', linestyle='dashed', linewidth=2)\n",
    "    plt.tight_layout()\n",
    "    if not plotName is None:\n",
    "        plt.savefig('Memoria/figuras/'+plotName+'.eps', format='eps', dpi=1000)\n",
    "        \n",
    "    plt.show()\n",
    "    \n",
    "        \n",
    "    \n",
    "def plotStackDict(D1, D2, name1=\"\", name2=\"\", plotName=None):\n",
    "    p1 = plt.barh(range(len(D1)), D1.values(),color='r', align='center')\n",
    "    p2 = plt.barh(range(len(D2)), D2.values(), color='g',align='center',\n",
    "                 left=D1.values())\n",
    "\n",
    "    \n",
    "    plt.yticks(range(len(D1)), D1.keys())\n",
    "    plt.legend((p1[0], p2[0]), (name1, name2), loc='upper left', bbox_to_anchor=(1.02, 1), borderaxespad=0)\n",
    "    plt.tight_layout()\n",
    "    if not plotName is None:\n",
    "        plt.savefig('Memoria/figuras/'+plotName+'.eps', format='eps', dpi=1000)\n",
    "    plt.show()\n",
    "    \n",
    "def plotStackDictTri(D1, D2, D3, name1=\"\", name2=\"\", name3=\"\", plotName=None):\n",
    "    p1 = plt.barh(range(len(D1)), D1.values(),color='r', align='center')\n",
    "    p2 = plt.barh(range(len(D2)), D2.values(), color='g',align='center',\n",
    "                 left=D1.values())\n",
    "    p3 = plt.barh(range(len(D3)), D3.values(), color='b',align='center',\n",
    "                 left=D1.values()+D2.values())\n",
    "\n",
    "    \n",
    "    plt.yticks(range(len(D1)), D1.keys())\n",
    "    plt.legend((p1[0], p2[0], p3[0]), (name1, name2, name3), loc='upper left', bbox_to_anchor=(1.02, 1), borderaxespad=0)\n",
    "    plt.tight_layout()\n",
    "    if not plotName is None:\n",
    "        plt.savefig('Memoria/figuras/'+plotName+'.eps', format='eps', dpi=1000)\n",
    "    plt.show()\n",
    "\n",
    "\n",
    "def pieDict(D, plotName=None):\n",
    "    suma=float(sum(D.values()))\n",
    "    valuesPercent=[float(x)/suma for x in D.values()]\n",
    "    plt.axis(\"equal\")\n",
    "    plt.pie(valuesPercent,labels=D.keys(),autopct=None)\n",
    "    plt.tight_layout()\n",
    "    if not plotName is None:\n",
    "        plt.savefig('Memoria/figuras/'+plotName+'.eps', format='eps', dpi=1000)\n",
    "    plt.show()"
   ]
  },
  {
   "cell_type": "markdown",
   "metadata": {},
   "source": [
    "General Utilities\n",
    "--------------"
   ]
  },
  {
   "cell_type": "code",
   "execution_count": 21,
   "metadata": {
    "collapsed": false
   },
   "outputs": [],
   "source": [
    "def numPlotbyType(dflist,name):\n",
    "    totals= dict()\n",
    "    %matplotlib inline\n",
    "    for i in range(sizeYears):\n",
    "        tmp= countTypesDict(dflist[i],name)\n",
    "        print \"201\"+str(i)+\":\"\n",
    "        printSortDict(tmp)\n",
    "        plotDict(tmp,plotName=(name+'201'+str(i)))\n",
    "        for key in tmp.keys():\n",
    "            try:\n",
    "                totals[key]= totals[key]+ tmp[key]\n",
    "            except:\n",
    "                totals[key]= tmp[key]\n",
    "    print \"Totals:\"\n",
    "    printSortDict(totals)\n",
    "    plotDict(totals,plotName=(name+'TotalsBar'))\n",
    "    totalsMean = dict()\n",
    "    for key in totals.keys():\n",
    "        totalsMean[key]= float(totals[key])/float(sizeYears)\n",
    "    print \"Mean Anual:\"\n",
    "    printSortDict(totalsMean)\n",
    "    pieDict(totalsMean,plotName=(name+'MeanPie'))\n",
    "\n",
    "def numPlotbyTypeTop10(dflist,name):\n",
    "    totals= dict()\n",
    "    %matplotlib inline\n",
    "    for i in range(sizeYears):\n",
    "        tmp= countTypesDict(dflist[i],name)\n",
    "        topTmp=getDictTop(tmp)\n",
    "        print \"201\"+str(i)+\" top 10:\"\n",
    "        printSortDict(topTmp)\n",
    "        plotDict(topTmp,plotName=(name+'Top201'+str(i)))\n",
    "        for key in tmp.keys():\n",
    "            try:\n",
    "                totals[key]= totals[key]+ tmp[key]\n",
    "            except:\n",
    "                totals[key]= tmp[key]\n",
    "    print \"Totals top 10:\"\n",
    "    topTot=getDictTop(totals)\n",
    "    printSortDict(topTot)\n",
    "    plotDict(topTot,plotName=(name+'TopTotalsBar'))   \n",
    "    totalsMean = dict()\n",
    "    for key in totals.keys():\n",
    "        totalsMean[key]= round(float(totals[key])/float(sizeYears),2)\n",
    "    print \"Mean Anual:\"\n",
    "    topTotM=getDictTop(totalsMean)\n",
    "    printSortDict(topTotM)\n",
    "    pieDict(topTotM,plotName=(name+'TopMeanPie'))\n",
    "def numPlotbyTypeTop10Direct(dflist,name):\n",
    "    totals= dict()\n",
    "    %matplotlib inline\n",
    "    for i in range(sizeYears):\n",
    "        tmp= countTypesDict(dflist[i],name)\n",
    "        \n",
    "        for key in tmp.keys():\n",
    "            try:\n",
    "                totals[key]= totals[key]+ tmp[key]\n",
    "            except:\n",
    "                totals[key]= tmp[key]\n",
    "    print \"Totals top 10:\"\n",
    "    topTot=getDictTop(totals)\n",
    "    printSortDict(topTot)\n",
    "    plotDict(topTot,plotName=(name+'TopTotalsBar'))   \n",
    "    totalsMean = dict()\n",
    "    for key in totals.keys():\n",
    "        totalsMean[key]= round(float(totals[key])/float(sizeYears),2)\n",
    "    print \"Mean Anual:\"\n",
    "    topTotM=getDictTop(totalsMean)\n",
    "    printSortDict(topTotM)\n",
    "    pieDict(topTotM,plotName=(name+'TopMeanPie'))\n"
   ]
  },
  {
   "cell_type": "markdown",
   "metadata": {},
   "source": [
    "Anàlisis inicial de les dades\n",
    "============"
   ]
  },
  {
   "cell_type": "markdown",
   "metadata": {},
   "source": [
    "Números\n",
    "-------------------"
   ]
  },
  {
   "cell_type": "markdown",
   "metadata": {},
   "source": [
    "Accidents\n",
    "-----\n",
    "Accidents per any"
   ]
  },
  {
   "cell_type": "code",
   "execution_count": null,
   "metadata": {
    "collapsed": false
   },
   "outputs": [],
   "source": [
    "print \"Num. Accidents per any\"\n",
    "accidents= dict()\n",
    "for i in range(sizeYears):\n",
    "    numA =  len(general[i].index)\n",
    "    print \"201\"+str(i)+\": \"+ str(numA)\n",
    "    accidents[\"201\"+str(i)]=numA\n",
    "print \"MEAN: \"+ str(dictMean(accidents))\n",
    "%matplotlib inline\n",
    "plotDict(accidents, True,plotName= 'TotalAccidentsPerAny')\n",
    "\n"
   ]
  },
  {
   "cell_type": "markdown",
   "metadata": {},
   "source": [
    "Per districte i any"
   ]
  },
  {
   "cell_type": "code",
   "execution_count": null,
   "metadata": {
    "collapsed": false
   },
   "outputs": [],
   "source": [
    "print \"Num. Accidents per districte i any\"\n",
    "numPlotbyType(general, \"NomDistricte\")"
   ]
  },
  {
   "cell_type": "markdown",
   "metadata": {},
   "source": [
    "Accidents per barri"
   ]
  },
  {
   "cell_type": "code",
   "execution_count": null,
   "metadata": {
    "collapsed": false,
    "scrolled": false
   },
   "outputs": [],
   "source": [
    "print \"Num. Accidents per barri i any\"\n",
    "numPlotbyTypeTop10(general, \"NomBarri\")"
   ]
  },
  {
   "cell_type": "markdown",
   "metadata": {},
   "source": [
    "Per carrers"
   ]
  },
  {
   "cell_type": "code",
   "execution_count": null,
   "metadata": {
    "collapsed": false
   },
   "outputs": [],
   "source": [
    "print \"Num. Accidents per Carrer i any\"\n",
    "numPlotbyTypeTop10(general, \"NomCarrer\")"
   ]
  },
  {
   "cell_type": "markdown",
   "metadata": {},
   "source": [
    "Per Mes"
   ]
  },
  {
   "cell_type": "code",
   "execution_count": null,
   "metadata": {
    "collapsed": false
   },
   "outputs": [],
   "source": [
    "print \"Num. Accidents per Mes i any\"\n",
    "numPlotbyType(general, \"NomMes\")"
   ]
  },
  {
   "cell_type": "markdown",
   "metadata": {},
   "source": [
    "Num accidents segons dia setmana"
   ]
  },
  {
   "cell_type": "code",
   "execution_count": null,
   "metadata": {
    "collapsed": false,
    "scrolled": false
   },
   "outputs": [],
   "source": [
    "print \"Num. Accidents per setmana i any\"\n",
    "numPlotbyType(general, \"DescripcioDiaSetmana\")"
   ]
  },
  {
   "cell_type": "markdown",
   "metadata": {},
   "source": [
    "Persones\n",
    "---------------\n",
    "Persones implicades per any"
   ]
  },
  {
   "cell_type": "code",
   "execution_count": null,
   "metadata": {
    "collapsed": false
   },
   "outputs": [],
   "source": [
    "print \"Num. Persones implicades per any\"\n",
    "accidents= dict()\n",
    "for i in range(sizeYears):\n",
    "    numA = len(persones[i].index)\n",
    "    print \"201\"+str(i)+\":\"+ str(numA)\n",
    "    accidents[\"201\"+str(i)]=numA\n",
    "%matplotlib inline\n",
    "print \"MEAN: \"+ str(dictMean(accidents))\n",
    "plotDict(accidents, True,plotName= 'TotalPersonesImplicadesPerAny')\n"
   ]
  },
  {
   "cell_type": "markdown",
   "metadata": {},
   "source": [
    "Per sexe"
   ]
  },
  {
   "cell_type": "code",
   "execution_count": null,
   "metadata": {
    "collapsed": false
   },
   "outputs": [],
   "source": [
    "print \"Num. Persones implicades per any i sexe\"\n",
    "dictH= dict()\n",
    "dictD= dict()\n",
    "for i in range(sizeYears):\n",
    "    numH = len(persones[i][persones[i][\"DescripcioSexe\"]==\"Home\"].index)\n",
    "    numD = len(persones[i][persones[i][\"DescripcioSexe\"]==\"Dona\"].index)\n",
    "    print \"201\"+str(i)+\": Homes \"+ str(numH)+\"  Dones \"+ str(numD)\n",
    "    dictH[\"201\"+str(i)]=numH\n",
    "    dictD[\"201\"+str(i)]=numD\n",
    "%matplotlib inline\n",
    "print \"MEAN: Homes \"+ str(dictMean(dictH))+\"  Dones \"+ str(dictMean(dictD))\n",
    "plotStackDict(dictH, dictD,\"Homes\", \"Dones\", plotName= 'TotalPersonesImplicadesPerSexeAny')\n",
    "sumH= sum(dictH.values())\n",
    "sumD= sum(dictD.values())\n",
    "print \"Totals: Homes \"+ str(sumH)+\"  Dones \"+ str(sumD)\n",
    "pieDict({\"Homes\": sumH, \"Dones\":sumD }, plotName= 'PieMeanPersonesImplicadesPerSexeAny')\n"
   ]
  },
  {
   "cell_type": "markdown",
   "metadata": {},
   "source": [
    "Tipus de persona \n",
    "# TODO"
   ]
  },
  {
   "cell_type": "code",
   "execution_count": null,
   "metadata": {
    "collapsed": false
   },
   "outputs": [],
   "source": [
    "print \"Num. Vehicles implicats per any\"\n",
    "accidents= dict()\n",
    "for i in range(sizeYears):\n",
    "    numA =  len(general[i].index)\n",
    "    print \"201\"+str(i)+\": \"+ str(numA)\n",
    "    accidents[\"201\"+str(i)]=numA\n",
    "print \"MEAN: \"+ str(dictMean(accidents))\n",
    "%matplotlib inline\n",
    "plotDict(accidents, True, plotName= 'TipusPersonesImplicadesAny')\n"
   ]
  },
  {
   "cell_type": "markdown",
   "metadata": {},
   "source": [
    "Vehicles\n",
    "----------\n",
    "Total vehicles implicats"
   ]
  },
  {
   "cell_type": "code",
   "execution_count": null,
   "metadata": {
    "collapsed": false,
    "scrolled": true
   },
   "outputs": [],
   "source": [
    "print \"Num. Vehicles implicats per any\"\n",
    "accidents= dict()\n",
    "for i in range(sizeYears):\n",
    "    numA = len(vehicles[i].index)\n",
    "    print \"201\"+str(i)+\":\"+ str(numA)\n",
    "    accidents[\"201\"+str(i)]=numA\n",
    "%matplotlib inline\n",
    "print \"MEAN: \"+ str(dictMean(accidents))\n",
    "plotDict(accidents, True, plotName= 'VehiclesTotalsImplicadesAny')"
   ]
  },
  {
   "cell_type": "code",
   "execution_count": null,
   "metadata": {
    "collapsed": false,
    "scrolled": true
   },
   "outputs": [],
   "source": [
    "\n",
    "for i in range(sizeYears):\n",
    "    print \"201\"+str(i)+\":\"\n",
    "    print \"Total accidents:\"\n",
    "    print general[i].NumeroDexpedient.count()\n",
    "    print \"Total tipus:\"\n",
    "    print tipus[i].NumeroDexpedient.count()\n",
    "    print \"Total vehicles implicats:\"\n",
    "    print vehicles[i].CodiDexpedient.count()\n",
    "\n",
    "    print \"Per districte :\"\n",
    "    print countTypesDict(general[i],\"NomDistricte\")\n",
    "    print \"Per Barri :\"\n",
    "    print countTypes(general[i],\"NomBarri\")\n",
    "    print \"Per carrer :\"\n",
    "    print countTypes(general[i],\"NomCarrer\")\n",
    "    print \"Per numero postal :\"\n",
    "    print countTypes(general[i],\"NumPostalCaption\")\n",
    "    print \"Per dia de la setmana:\"\n",
    "    print countTypes(general[i],\"NumPostalCaption\")\n",
    "    print \"------------------------\\n\\n\"\n",
    "    \n",
    "    "
   ]
  },
  {
   "cell_type": "code",
   "execution_count": null,
   "metadata": {
    "collapsed": true
   },
   "outputs": [],
   "source": [
    "finalGeneral = pd.concat(general.values())"
   ]
  },
  {
   "cell_type": "code",
   "execution_count": null,
   "metadata": {
    "collapsed": false
   },
   "outputs": [],
   "source": [
    "print \"Num. accidents implicades per any i pluja\"\n",
    "dictPluja= dict()\n",
    "dictNoPluja= dict()\n",
    "for i in range(sizeYears):\n",
    "    numPluja = len(general[i][general[i][\"Pluja\"]==True].index)\n",
    "    numNoPluja = len(general[i][general[i][\"Pluja\"]==False].index)\n",
    "    print \"201\"+str(i)+\": Pluja \"+ str(numPluja)+\"  No pluja \"+ str(numNoPluja)\n",
    "    dictPluja[\"201\"+str(i)]=numPluja\n",
    "    dictNoPluja[\"201\"+str(i)]=numNoPluja\n",
    "%matplotlib inline\n",
    "print \"MEAN: Pluja \"+ str(dictMean(dictPluja))+\"  No pluja \"+ str(dictMean(dictNoPluja))\n",
    "plotStackDict(dictPluja, dictNoPluja,\"Pluja\", \"No Pluja\", plotName= 'AccidentsTotalPlujesAny')\n",
    "sumH= sum(dictPluja.values())\n",
    "sumD= sum(dictNoPluja.values())\n",
    "print \"Totals: Pluja \"+ str(sumH)+\"  No Pluja \"+ str(sumD)\n",
    "pieDict({\"Pluja\": sumH, \"No Pluja\":sumD }, plotName= 'AccidentsTotalMeanPiePlujesAny')\n",
    "\n",
    "dictPluja= dict()\n",
    "dictNoPluja= dict()\n",
    "dictDiesPluja= dict()\n",
    "dictDiesNoPluja= dict()\n",
    "for i in range(sizeYears):\n",
    "    dfPlogut= general[i][general[i][\"Pluja\"]==True]\n",
    "    diesPloguts=countTypesDict(dfPlogut, 'Data').keys()\n",
    "    totsDies=countTypesDict(general[i], 'Data')\n",
    "    for data in totsDies.keys():\n",
    "        if data in diesPloguts:\n",
    "            try:\n",
    "                dictPluja[\"201\"+str(i)]+=totsDies[data]\n",
    "                dictDiesPluja[\"201\"+str(i)]+=1\n",
    "            except:\n",
    "                dictPluja[\"201\"+str(i)]=totsDies[data]\n",
    "                dictDiesPluja[\"201\"+str(i)]=1\n",
    "        else:\n",
    "            try:\n",
    "                dictNoPluja[\"201\"+str(i)]+=totsDies[data]\n",
    "                dictDiesNoPluja[\"201\"+str(i)]+=1\n",
    "            except:\n",
    "                dictNoPluja[\"201\"+str(i)]=totsDies[data]\n",
    "                dictDiesNoPluja[\"201\"+str(i)]=1\n",
    "totalDiesPluja=0\n",
    "totalDiesNoPluja=0\n",
    "for i in range(sizeYears):\n",
    "    dictPluja[\"201\"+str(i)]=dictPluja[\"201\"+str(i)]*1.0/dictDiesPluja[\"201\"+str(i)]\n",
    "    dictNoPluja[\"201\"+str(i)]=dictNoPluja[\"201\"+str(i)]*1.0/dictDiesNoPluja[\"201\"+str(i)] \n",
    "    totalDiesPluja+=dictPluja[\"201\"+str(i)]\n",
    "    totalDiesNoPluja+=dictNoPluja[\"201\"+str(i)]\n",
    "dictPluja[\"Mean\"]=totalDiesPluja*1.0/sizeYears\n",
    "dictNoPluja[\"Mean\"]=totalDiesNoPluja*1.0/sizeYears\n",
    "print 'Mitja accidents per dia de pluja o no'\n",
    "plotStackDict(dictPluja, dictNoPluja,\"Pluja\", \"No Pluja\", plotName= 'AccidentsDiaPlujesAny')\n",
    "print \"Mitja d'accidents per dia de pluja\", dictPluja[\"Mean\"],'i per di de no pluja',dictNoPluja[\"Mean\"]\n",
    "pieDict({\"Pluja\": dictPluja[\"Mean\"], \"No Pluja\":dictNoPluja[\"Mean\"] }, plotName= 'AccidentsDiaMeanPiePlujesAny')"
   ]
  },
  {
   "cell_type": "markdown",
   "metadata": {},
   "source": [
    "## Algunes conclusions\n",
    "- El mes amb mes accidents és l'Octubre\n",
    "- El mes amb menys accidents és l'Agost\n",
    "- EL dia laborable amb menys accidents es el dilluns i el divendres amb més\n",
    "- Al cap de setmana baixen els accidents sobretot diumenge.\n",
    "- Segons les dades "
   ]
  },
  {
   "cell_type": "code",
   "execution_count": null,
   "metadata": {
    "collapsed": true
   },
   "outputs": [],
   "source": []
  },
  {
   "cell_type": "markdown",
   "metadata": {
    "collapsed": true
   },
   "source": [
    "Grafiques de les Dades\n",
    "-----------\n",
    "**TODO**"
   ]
  },
  {
   "cell_type": "code",
   "execution_count": null,
   "metadata": {
    "collapsed": true,
    "scrolled": false
   },
   "outputs": [],
   "source": []
  },
  {
   "cell_type": "markdown",
   "metadata": {},
   "source": [
    "Heat Map\n",
    "------------\n"
   ]
  },
  {
   "cell_type": "markdown",
   "metadata": {},
   "source": [
    "[Mapa](http://nicofo.github.io/Estudi-Transit-BCN/mapa.html)\n",
    "**TODO**\n",
    "\n",
    "CANVIAR"
   ]
  },
  {
   "cell_type": "code",
   "execution_count": null,
   "metadata": {
    "collapsed": false,
    "scrolled": false
   },
   "outputs": [],
   "source": [
    "def createJSMulti():\n",
    "\n",
    "    #mesosAny={'1':'de Gener','2': 'de Febrer','3': 'de Març','4':\"d'Abril\",'5': 'de Maig','6': 'de Juny','7': 'de Juliol','8': \"d'Agost\",'9': 'de Setembre','10': \"d'Octubre\",'11': 'de Novembre','12': 'de Desembre'}\n",
    "\n",
    "\n",
    "\n",
    "    \n",
    "    #print dates\n",
    "    fout= open(\"accidentsMulti.js\", 'w')\n",
    "    for i in range(sizeYears):\n",
    "        result = general[i]#pd.concat(general)\n",
    "        result.sort_values(by='DataNumeric', ascending=False)\n",
    "        dates=result.groupby(['Data'])['Data']\n",
    "        posarComaEntre=False\n",
    "        fout.write('var accidents'+str(i)+' = {\\n')\n",
    "        fout.write('  \"type\": \"FeatureCollection\",\\n')\n",
    "        fout.write('  \"features\": [\\n')\n",
    "        for data in dates.groups:\n",
    "\n",
    "\n",
    "            if posarComaEntre:\n",
    "                fout.write(',\\n')\n",
    "            posarComaEntre=True\n",
    "            dataInfo=result[result['Data'] == data]\n",
    "\n",
    "            fout.write('    {\\n')\n",
    "            fout.write('      \"type\": \"Feature\",\\n')\n",
    "            fout.write('      \"properties\": {\\n')\n",
    "            fout.write('        \"start\": \"'+ str(dataInfo[\"Data\"].iloc[0])+'\",\\n')\n",
    "\n",
    "\n",
    "            fout.write('      },\\n')\n",
    "            fout.write('      \"geometry\": { \\n')\n",
    "            fout.write('        \"type\":\"MultiPoint\",\\n')\n",
    "            fout.write('        \"coordinates\":[')\n",
    "            posarComa=False\n",
    "            for index, info in result[result['Data'] == data].iterrows(): \n",
    "                try:\n",
    "\n",
    "                    if posarComa:\n",
    "                        fout.write(', ')\n",
    "                    posarComa=True\n",
    "\n",
    "                    #coord=utm.to_latlon(float(str(info[\"Coordenada UTM (X)\"]).replace(',', '.')), float(str(info[\"Coordenada UTM (Y)\"]).replace(',', '.')),  31, 'T')\n",
    "                    fout.write('['+str(info['Lon'])+', '+ str(info['Lat'])+']')\n",
    "                except:\n",
    "                    print float(str(info[\"Coordenada UTM (X)\"]).replace(',', '.')), float(str(info[\"Coordenada UTM (Y)\"]).replace(',', '.'))\n",
    "\n",
    "            fout.write(']\\n      }\\n')\n",
    "            fout.write('    }')            \n",
    "        fout.write('\\n  ]\\n')\n",
    "        fout.write('};\\n')\n",
    "\n",
    "    fout.close()\n",
    "\n",
    "createJSMulti()"
   ]
  },
  {
   "cell_type": "markdown",
   "metadata": {
    "collapsed": true,
    "scrolled": false
   },
   "source": [
    "## Avançat"
   ]
  },
  {
   "cell_type": "code",
   "execution_count": null,
   "metadata": {
    "collapsed": true
   },
   "outputs": [],
   "source": []
  },
  {
   "cell_type": "code",
   "execution_count": null,
   "metadata": {
    "collapsed": true
   },
   "outputs": [],
   "source": [
    "finalGeneral = pd.concat(general.values())"
   ]
  },
  {
   "cell_type": "code",
   "execution_count": 11,
   "metadata": {
    "collapsed": false
   },
   "outputs": [
    {
     "name": "stdout",
     "output_type": "stream",
     "text": [
      "Num. accidents implicades per any i pluja\n",
      "2010: Pluja 326  No pluja 8730\n",
      "2011: Pluja 1452  No pluja 7379\n",
      "2012: Pluja 932  No pluja 8321\n",
      "2013: Pluja 1684  No pluja 7773\n",
      "2014: Pluja 1803  No pluja 7877\n",
      "2015: Pluja 1224  No pluja 8784\n",
      "MEAN: Pluja 1236.83  No pluja 8144.0\n"
     ]
    },
    {
     "data": {
      "image/png": "[encoded data removed]",
      "text/plain": [
       "<matplotlib.figure.Figure at 0x406a0b70>"
      ]
     },
     "metadata": {},
     "output_type": "display_data"
    },
    {
     "name": "stdout",
     "output_type": "stream",
     "text": [
      "Totals: Pluja 7421  No Pluja 48864\n"
     ]
    },
    {
     "data": {
      "image/png": "[encoded data removed]",
      "text/plain": [
       "<matplotlib.figure.Figure at 0x41407278>"
      ]
     },
     "metadata": {},
     "output_type": "display_data"
    },
    {
     "name": "stdout",
     "output_type": "stream",
     "text": [
      "Mitja accidents per dia de pluja o no\n"
     ]
    },
    {
     "data": {
      "image/png": "[encoded data removed]",
      "text/plain": [
       "<matplotlib.figure.Figure at 0x41b57588>"
      ]
     },
     "metadata": {},
     "output_type": "display_data"
    },
    {
     "name": "stdout",
     "output_type": "stream",
     "text": [
      "Mitja d'accidents per dia de pluja 25.6241402902 i per di de no pluja 25.6593713219\n"
     ]
    },
    {
     "data": {
      "image/png": "[encoded data removed]",
      "text/plain": [
       "<matplotlib.figure.Figure at 0x40a364e0>"
      ]
     },
     "metadata": {},
     "output_type": "display_data"
    },
    {
     "name": "stdout",
     "output_type": "stream",
     "text": [
      "Mediana d'accidents per dia de pluja 27.0 i per di de no pluja 26.0\n"
     ]
    },
    {
     "data": {
      "image/png": "[encoded data removed]",
      "text/plain": [
       "<matplotlib.figure.Figure at 0x40d30a58>"
      ]
     },
     "metadata": {},
     "output_type": "display_data"
    }
   ],
   "source": [
    "print \"Num. accidents implicades per any i pluja\"\n",
    "dictPluja= dict()\n",
    "dictNoPluja= dict()\n",
    "for i in range(sizeYears):\n",
    "    numPluja = len(general[i][general[i][\"Pluja\"]==True].index)\n",
    "    numNoPluja = len(general[i][general[i][\"Pluja\"]==False].index)\n",
    "    print \"201\"+str(i)+\": Pluja \"+ str(numPluja)+\"  No pluja \"+ str(numNoPluja)\n",
    "    dictPluja[\"201\"+str(i)]=numPluja\n",
    "    dictNoPluja[\"201\"+str(i)]=numNoPluja\n",
    "%matplotlib inline\n",
    "print \"MEAN: Pluja \"+ str(dictMean(dictPluja))+\"  No pluja \"+ str(dictMean(dictNoPluja))\n",
    "plotStackDict(dictPluja, dictNoPluja,\"Pluja\", \"No Pluja\", plotName= 'AccidentsTotalPlujesAny')\n",
    "sumH= sum(dictPluja.values())\n",
    "sumD= sum(dictNoPluja.values())\n",
    "print \"Totals: Pluja \"+ str(sumH)+\"  No Pluja \"+ str(sumD)\n",
    "pieDict({\"Pluja\": sumH, \"No Pluja\":sumD }, plotName= 'AccidentsTotalMeanPiePlujesAny')\n",
    "\n",
    "dictPluja= dict()\n",
    "dictNoPluja= dict()\n",
    "dictDiesPluja= dict()\n",
    "dictDiesNoPluja= dict()\n",
    "for i in range(sizeYears):\n",
    "    dfPlogut= general[i][general[i][\"Pluja\"]==True]\n",
    "    diesPloguts=countTypesDict(dfPlogut, 'Data').keys()\n",
    "    totsDies=countTypesDict(general[i], 'Data')\n",
    "    for data in totsDies.keys():\n",
    "        if data in diesPloguts:\n",
    "            try:\n",
    "                dictPluja[\"201\"+str(i)]+=totsDies[data]\n",
    "                dictDiesPluja[\"201\"+str(i)]+=1\n",
    "            except:\n",
    "                dictPluja[\"201\"+str(i)]=totsDies[data]\n",
    "                dictDiesPluja[\"201\"+str(i)]=1\n",
    "        else:\n",
    "            try:\n",
    "                dictNoPluja[\"201\"+str(i)]+=totsDies[data]\n",
    "                dictDiesNoPluja[\"201\"+str(i)]+=1\n",
    "            except:\n",
    "                dictNoPluja[\"201\"+str(i)]=totsDies[data]\n",
    "                dictDiesNoPluja[\"201\"+str(i)]=1\n",
    "totalDiesPluja=0\n",
    "totalDiesNoPluja=0\n",
    "for i in range(sizeYears):\n",
    "    dictPluja[\"201\"+str(i)]=dictPluja[\"201\"+str(i)]*1.0/dictDiesPluja[\"201\"+str(i)]\n",
    "    dictNoPluja[\"201\"+str(i)]=dictNoPluja[\"201\"+str(i)]*1.0/dictDiesNoPluja[\"201\"+str(i)] \n",
    "    totalDiesPluja+=dictPluja[\"201\"+str(i)]\n",
    "    totalDiesNoPluja+=dictNoPluja[\"201\"+str(i)]\n",
    "dictPluja[\"Mean\"]=totalDiesPluja*1.0/sizeYears\n",
    "dictNoPluja[\"Mean\"]=totalDiesNoPluja*1.0/sizeYears\n",
    "print 'Mitja accidents per dia de pluja o no'\n",
    "plotStackDict(dictPluja, dictNoPluja,\"Pluja\", \"No Pluja\", plotName= 'AccidentsDiaPlujesAny')\n",
    "print \"Mitja d'accidents per dia de pluja\", dictPluja[\"Mean\"],'i per di de no pluja',dictNoPluja[\"Mean\"]\n",
    "pieDict({\"Pluja\": dictPluja[\"Mean\"], \"No Pluja\":dictNoPluja[\"Mean\"] }, plotName= 'AccidentsDiaMeanPiePlujesAny')\n",
    "\n",
    "acDiesPloguts=[]\n",
    "acDiesNoPloguts=[]\n",
    "\n",
    "import numpy\n",
    "def median(lst):\n",
    "    return numpy.median(numpy.array(lst))\n",
    "\n",
    "\n",
    "for i in range(sizeYears):\n",
    "    result = general[i][general[i][\"Pluja\"]==True]\n",
    "    dates=result.groupby(['Data'])['Data']\n",
    "    for data in dates.groups:\n",
    "            dataInfo=result[result['Data'] == data]\n",
    "            acDiesPloguts.append(dataInfo['NumeroDexpedient'].count())\n",
    "    result = general[i][general[i][\"Pluja\"]==False]\n",
    "    dates=result.groupby(['Data'])['Data']\n",
    "    for data in dates.groups:\n",
    "            dataInfo=result[result['Data'] == data]\n",
    "            acDiesNoPloguts.append(dataInfo['NumeroDexpedient'].count())\n",
    "medianaPluja=median(acDiesPloguts)\n",
    "medianaNoPluja=median(acDiesNoPloguts)\n",
    "\n",
    "print \"Mediana d'accidents per dia de pluja\", medianaPluja,'i per di de no pluja',medianaNoPluja\n",
    "pieDict({\"Pluja\":medianaPluja, \"No Pluja\":medianaNoPluja }, plotName= 'AccidentsDiaMedianPiePlujesAny')"
   ]
  },
  {
   "cell_type": "code",
   "execution_count": null,
   "metadata": {
    "collapsed": true
   },
   "outputs": [],
   "source": []
  },
  {
   "cell_type": "code",
   "execution_count": 25,
   "metadata": {
    "collapsed": false
   },
   "outputs": [
    {
     "name": "stdout",
     "output_type": "stream",
     "text": [
      "Morts\n",
      "[(41.39755, 2.11616)]: 4.0\n",
      "[(41.39421, 2.15623)]: 2.0\n",
      "[(41.38646, 2.16184)]: 2.0\n",
      "nan: 2.0\n",
      "[(41.38202, 2.15872)]: 1.0\n",
      "[(41.37117, 2.14375), (41.37117, 2.14375)]: 1.0\n",
      "[(41.4219, 2.14108)]: 1.0\n",
      "[(41.39914, 2.16963)]: 1.0\n",
      "[(41.39063, 2.13732)]: 1.0\n",
      "[(41.41485, 2.13368)]: 1.0\n"
     ]
    },
    {
     "data": {
      "image/png": "[encoded data removed]",
      "text/plain": [
       "<matplotlib.figure.Figure at 0x4137a940>"
      ]
     },
     "metadata": {},
     "output_type": "display_data"
    },
    {
     "name": "stdout",
     "output_type": "stream",
     "text": [
      "Ferits greus\n",
      "[(41.38125, 2.18232)]: 8.0\n",
      "[(41.38927, 2.16833), (41.38927, 2.16833), (41.38927, 2.16833)]: 7.0\n",
      "[(41.38709, 2.12333), (41.38673, 2.12323)]: 6.0\n",
      "[(41.39076, 2.1697099)]: 5.0\n",
      "[(41.40407, 2.1906)]: 5.0\n",
      "[(41.39063, 2.13732)]: 5.0\n",
      "[(41.39914, 2.16963)]: 5.0\n",
      "[(41.38308, 2.15055)]: 5.0\n",
      "[(41.40754, 2.20174), (41.40775, 2.20147)]: 4.0\n",
      "[(41.3984, 2.1777099)]: 4.0\n"
     ]
    },
    {
     "data": {
      "image/png": "[encoded data removed]",
      "text/plain": [
       "<matplotlib.figure.Figure at 0x4231f0b8>"
      ]
     },
     "metadata": {},
     "output_type": "display_data"
    },
    {
     "name": "stdout",
     "output_type": "stream",
     "text": [
      "Accidents mitja anual\n",
      "Totals top 10:\n",
      "[(41.39646, 2.1595399)]: 111.0\n",
      "[(41.38927, 2.16833), (41.38927, 2.16833), (41.38927, 2.16833)]: 89.0\n",
      "[(41.38713, 2.16551)]: 80.0\n",
      "[(41.39689, 2.1616399), (41.39672, 2.16189)]: 80.0\n",
      "[(41.40444, 2.14077)]: 74.0\n",
      "[(41.38991, 2.16187)]: 73.0\n",
      "[(41.38125, 2.18232)]: 66.0\n",
      "[(41.38765, 2.19664)]: 66.0\n",
      "[(41.39531, 2.15469)]: 65.0\n",
      "[(41.38946, 2.13269)]: 61.0\n"
     ]
    },
    {
     "data": {
      "image/png": "[encoded data removed]",
      "text/plain": [
       "<matplotlib.figure.Figure at 0x40a36518>"
      ]
     },
     "metadata": {},
     "output_type": "display_data"
    },
    {
     "name": "stdout",
     "output_type": "stream",
     "text": [
      "Mean Anual:\n",
      "[(41.39646, 2.1595399)]: 18.5\n",
      "[(41.38927, 2.16833), (41.38927, 2.16833), (41.38927, 2.16833)]: 14.83\n",
      "[(41.38713, 2.16551)]: 13.33\n",
      "[(41.39689, 2.1616399), (41.39672, 2.16189)]: 13.33\n",
      "[(41.40444, 2.14077)]: 12.33\n",
      "[(41.38991, 2.16187)]: 12.17\n",
      "[(41.38125, 2.18232)]: 11.0\n",
      "[(41.38765, 2.19664)]: 11.0\n",
      "[(41.39531, 2.15469)]: 10.83\n",
      "[(41.38946, 2.13269)]: 10.17\n"
     ]
    },
    {
     "data": {
      "image/png": "[encoded data removed]",
      "text/plain": [
       "<matplotlib.figure.Figure at 0x40893eb8>"
      ]
     },
     "metadata": {},
     "output_type": "display_data"
    }
   ],
   "source": [
    "dictCruillesMorts=dict()\n",
    "dictCruillesFeritsGreus=dict()\n",
    "generalNetNoCuilles=[]\n",
    "for i in range(sizeYears):\n",
    "    tmpGeneral=general[i][general[i]['creuaments']!= '[]']\n",
    "    generalNetNoCuilles.append(tmpGeneral)\n",
    "    for index, info in tmpGeneral.iterrows():\n",
    "        try:\n",
    "            dictCruillesMorts[info['creuaments']]+=info['NumeroDeMorts']\n",
    "        except:\n",
    "            dictCruillesMorts[info['creuaments']]=info['NumeroDeMorts']\n",
    "        try:\n",
    "            dictCruillesFeritsGreus[info['creuaments']]+=info['NumeroDeLesionatsGreus']\n",
    "        except:\n",
    "            dictCruillesFeritsGreus[info['creuaments']]=info['NumeroDeLesionatsGreus']  \n",
    "print 'Morts'\n",
    "top10CruMorts=getDictTop(dictCruillesMorts)\n",
    "top10CruFeritGreus=getDictTop(dictCruillesFeritsGreus)\n",
    "printSortDict(top10CruMorts)\n",
    "plotDict(top10CruMorts,plotName='top10CruillesMorts')\n",
    "print 'Ferits greus'\n",
    "printSortDict(top10CruFeritGreus)\n",
    "plotDict(top10CruFeritGreus,plotName='top10CruillesFeritGreus')\n",
    "print 'Accidents mitja anual'\n",
    "numPlotbyTypeTop10Direct(generalNetNoCuilles, \"creuaments\")"
   ]
  },
  {
   "cell_type": "code",
   "execution_count": null,
   "metadata": {
    "collapsed": true
   },
   "outputs": [],
   "source": []
  }
 ],
 "metadata": {
  "kernelspec": {
   "display_name": "Python 2",
   "language": "python",
   "name": "python2"
  },
  "language_info": {
   "codemirror_mode": {
    "name": "ipython",
    "version": 2
   },
   "file_extension": ".py",
   "mimetype": "text/x-python",
   "name": "python",
   "nbconvert_exporter": "python",
   "pygments_lexer": "ipython2",
   "version": "2.7.11"
  }
 },
 "nbformat": 4,
 "nbformat_minor": 0
}
