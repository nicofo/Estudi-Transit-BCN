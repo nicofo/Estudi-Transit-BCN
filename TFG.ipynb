{
 "cells": [
  {
   "cell_type": "code",
   "execution_count": 1,
   "metadata": {
    "collapsed": true
   },
   "outputs": [],
   "source": [
    "import sys  \n",
    "reload(sys) \n",
    "sys.setdefaultencoding('utf8')"
   ]
  },
  {
   "cell_type": "code",
   "execution_count": 2,
   "metadata": {
    "collapsed": false
   },
   "outputs": [
    {
     "data": {
      "text/plain": [
       "Numero dexpedient            object\n",
       "Codi districte               object\n",
       "Nom districte                object\n",
       "Codi barri                   object\n",
       "Nom barri                    object\n",
       "Codi carrer                  object\n",
       "Nom carrer                   object\n",
       "Num postal caption           object\n",
       "Descripcio dia setmana       object\n",
       "Dia setmana                  object\n",
       "Descripcio tipus dia         object\n",
       "NK Any                        int64\n",
       "Mes de any                    int64\n",
       "Nom mes                      object\n",
       "Dia de mes                    int64\n",
       "Hora de dia                   int64\n",
       "Descripcio torn              object\n",
       "Descripcio tipus accident    object\n",
       "Coordenada UTM (Y)           object\n",
       "Coordenada UTM (X)           object\n",
       "dtype: object"
      ]
     },
     "execution_count": 2,
     "metadata": {},
     "output_type": "execute_result"
    }
   ],
   "source": [
    "\n",
    "import pandas as pd\n",
    "general=dict()\n",
    "persones=dict()\n",
    "cotxes=dict()\n",
    "tipus=dict()\n",
    "i=\"5\"\n",
    "\n",
    "general[0]=pd.read_csv(\"ACCIDENTS_GU_BCN_2010.csv\",sep=',', encoding='iso-8859-1')\n",
    "persones[0]=pd.read_csv(\"persones/ACCIDENTS_PERSONES_GU_BCN_201\"+str(0)+\".csv\",sep=';', encoding='iso-8859-1')\n",
    "tipus[0]=pd.read_csv(\"tipologia/ACCIDENTS_TIPUS_GU_BCN_201\"+str(0)+\".csv\",sep=';', encoding='iso-8859-1')\n",
    "\n",
    "general[1]=pd.read_csv(\"ACCIDENTS_GU_BCN_2011.csv\",sep=',', encoding='iso-8859-1')\n",
    "persones[1]=pd.read_csv(\"persones/ACCIDENTS_PERSONES_GU_BCN_201\"+str(1)+\".csv\",sep=';', encoding='iso-8859-1')\n",
    "tipus[1]=pd.read_csv(\"tipologia/ACCIDENTS_TIPUS_GU_BCN_201\"+str(1)+\".csv\",sep=';', encoding='iso-8859-1')\n",
    "\n",
    "general[2]=pd.read_csv(\"ACCIDENTS_GU_BCN_2012.csv\",sep=',', encoding='iso-8859-1')\n",
    "persones[2]=pd.read_csv(\"persones/ACCIDENTS_PERSONES_GU_BCN_201\"+str(2)+\".csv\",sep=';', encoding='iso-8859-1')\n",
    "tipus[2]=pd.read_csv(\"tipologia/ACCIDENTS_TIPUS_GU_BCN_201\"+str(2)+\".csv\",sep=';', encoding='iso-8859-1')\n",
    "\n",
    "general[3]=pd.read_csv(\"ACCIDENTS_GU_BCN_2013.csv\",sep=',', encoding='iso-8859-1')\n",
    "persones[3]=pd.read_csv(\"persones/ACCIDENTS_PERSONES_GU_BCN_201\"+str(3)+\".csv\",sep=';', encoding='iso-8859-1')\n",
    "tipus[3]=pd.read_csv(\"tipologia/ACCIDENTS_TIPUS_GU_BCN_201\"+str(3)+\".csv\",sep=';', encoding='iso-8859-1')\n",
    "\n",
    "general[4]=pd.read_csv(\"ACCIDENTS_GU_BCN_2014.csv\",sep=';', encoding='iso-8859-1')\n",
    "persones[4]=pd.read_csv(\"persones/ACCIDENTS_PERSONES_GU_BCN_201\"+str(4)+\".csv\",sep=';', encoding='iso-8859-1')\n",
    "tipus[4]=pd.read_csv(\"tipologia/ACCIDENTS_TIPUS_GU_BCN_201\"+str(4)+\".csv\",sep=';', encoding='iso-8859-1')\n",
    "\n",
    "general[5]=pd.read_csv(\"ACCIDENTS_GU_BCN_2015.csv\",sep=';', encoding='iso-8859-1')\n",
    "persones[5]=pd.read_csv(\"persones/ACCIDENTS_PERSONES_GU_BCN_201\"+str(5)+\".csv\",sep=';', encoding='iso-8859-1')\n",
    "tipus[5]=pd.read_csv(\"tipologia/ACCIDENTS_TIPUS_GU_BCN_201\"+str(5)+\".csv\",sep=';', encoding='iso-8859-1')\n",
    "\n",
    "    #cotxes.append(pd.read_csv(\"vehicles/\"+i+\"_ACCIDENTS_VEHICLES_GU_BCN_201\"+i+\".csv\",sep=';', encoding='iso-8859-1')\n",
    "    #data = pd.merge(pd.merge(pd.merge(general,cotxes), persones), tipus).T.drop_duplicates().T\n",
    "\n",
    "#data.to_csv(\"dadesAccidents.csv\", sep=';', encoding='utf32')\n",
    "#general[5].columns=['Hola']+general[5].columns[1:]\n",
    "tipus[4].dtypes\n",
    "#general[5].columns\n",
    "#data.count()"
   ]
  },
  {
   "cell_type": "markdown",
   "metadata": {},
   "source": [
    "Importem les dades. \n",
    "\n",
    "Veiem que en el merge hi han solament $8000$ rows, en contrast amb el de vehicles que hi ha $19000$"
   ]
  },
  {
   "cell_type": "code",
   "execution_count": 3,
   "metadata": {
    "collapsed": false
   },
   "outputs": [],
   "source": [
    "import utm\n",
    "posarComa=False\n",
    "fout= open(\"accidents.geojson\", 'w')\n",
    "fout.write('{\\n')\n",
    "fout.write('  \"type\": \"FeatureCollection\",\\n')\n",
    "fout.write('  \"features\": [\\n')\n",
    "for i in range(0,1):\n",
    "    for index, info in general[i].iterrows(): \n",
    "        if posarComa:\n",
    "            fout.write(',\\n')\n",
    "        posarComa=True\n",
    "        fout.write('    {\\n')\n",
    "        fout.write('      \"type\": \"Feature\",\\n')\n",
    "        fout.write('      \"properties\": {\\n')\n",
    "        fout.write('        \"numEx\": \"'+str(info[\"Numero dexpedient\"])+'\",\\n')\n",
    "        fout.write('        \"cotxes\": \"'+str(info[\"Numero de vehicles implicats\"])+'\",\\n')\n",
    "        \n",
    "        #algo = tipus[i][info[\"Numero dexpedient\"]== tipus[i][\"Numero dexpedient\"]][\"Descripcio tipus accident\"].iloc(0)\n",
    "        #fout.write('        \"causes\": \"'+str(algo)+'\",\\n')\n",
    "       \n",
    "        \n",
    "        fout.write('        \"morts\": \"'+str(info[\"Numero de morts\"])+'\",\\n')\n",
    "        fout.write('        \"greus\": \"'+str(info[\"Numero de lesionats greus\"])+'\",\\n')\n",
    "        fout.write('        \"lleus\": \"'+str(info[\"Numero de lesionats lleus\"])+'\",\\n')\n",
    "        fout.write('        \"start\": \"'+ str(info[\"NK Any\"])+\"-\"+ \"%02d\" % (info[\"Mes de any\"],)+'-'+\"%02d\" % (info[\"Dia de mes\"],)+' '+ \"%02d\" % (info[\"Hora de dia\"],)+':00\",\\n')\n",
    "        fout.write('        \"end\": \"'+ str(info[\"NK Any\"])+\"-\"+ \"%02d\" % (info[\"Mes de any\"],)+'-'+\"%02d\" % (info[\"Dia de mes\"],)+' '+ \"%02d\" % (info[\"Hora de dia\"]+3,)+':00\"\\n')\n",
    "        fout.write('      },\\n')\n",
    "        fout.write('      \"geometry\": { \\n')\n",
    "        fout.write('        \"type\":\"Point\",\\n')\n",
    "        try:\n",
    "            coord=utm.to_latlon(float(str(info[\"Coordenada UTM (X)\"]).replace(',', '.')), float(str(info[\"Coordenada UTM (Y)\"]).replace(',', '.')),  31, 'T')\n",
    "            fout.write('        \"coordinates\":['+\"%.6f\" % coord[0]+', '+\"%.6f\" % coord[1] +', 0 ]\\n')\n",
    "        except:\n",
    "            print float(str(info[\"Coordenada UTM (X)\"]).replace(',', '.')), float(str(info[\"Coordenada UTM (Y)\"]).replace(',', '.'))\n",
    "        fout.write('      }\\n')\n",
    "        fout.write('    }')\n",
    "fout.write('\\n  ]\\n')\n",
    "fout.write('}\\n')"
   ]
  },
  {
   "cell_type": "markdown",
   "metadata": {
    "collapsed": false
   },
   "source": [
    "Versio multiPoint del geojson"
   ]
  },
  {
   "cell_type": "code",
   "execution_count": 23,
   "metadata": {
    "collapsed": false
   },
   "outputs": [],
   "source": [
    "import utm\n",
    "def simple(x):\n",
    "    return str(x)\n",
    "def algo(x):\n",
    "    \n",
    "    return \"%02d\" % (x,)\n",
    "def algo2(x):\n",
    "    \n",
    "    return \"%02d\" % (x+2,)\n",
    "def createJSMulti():\n",
    "\n",
    "    #mesosAny={'1':'de Gener','2': 'de Febrer','3': 'de Març','4':\"d'Abril\",'5': 'de Maig','6': 'de Juny','7': 'de Juliol','8': \"d'Agost\",'9': 'de Setembre','10': \"d'Octubre\",'11': 'de Novembre','12': 'de Desembre'}\n",
    "\n",
    "    i=\"3\"\n",
    "\n",
    "    result = general[0]#pd.concat(general)\n",
    "    result['data']=result[\"NK Any\"].map(simple)+\"-\"+ result[\"Mes de any\"].map(algo)+'-'+result[\"Dia de mes\"].map(algo)\n",
    "    result['end']=result[\"NK Any\"].map(simple)+\"-\"+ result[\"Mes de any\"].map(algo)+'-'+result[\"Dia de mes\"].map(algo2)\n",
    "    #result.sort_values(by='data', ascending=False)\n",
    "    dates=result.groupby(['data'])['data']\n",
    "    #print dates\n",
    "    fout= open(\"accidentsMulti.js\", 'w')\n",
    "    posarComaEntre=False\n",
    "    fout.write('var accidents = {\\n')\n",
    "    fout.write('  \"type\": \"FeatureCollection\",\\n')\n",
    "    fout.write('  \"features\": [\\n')\n",
    "    for data in dates.groups:\n",
    "        \n",
    "        \n",
    "        if posarComaEntre:\n",
    "            fout.write(',\\n')\n",
    "        posarComaEntre=True\n",
    "        dataInfo=result[result['data'] == data]\n",
    "\n",
    "        fout.write('    {\\n')\n",
    "        fout.write('      \"type\": \"Feature\",\\n')\n",
    "        fout.write('      \"properties\": {\\n')\n",
    "        fout.write('        \"start\": \"'+ str(dataInfo[\"data\"].iloc[0])+'\",\\n')\n",
    "        fout.write('        \"end\": \"'+str(dataInfo[\"end\"].iloc[0])+'\"\\n')\n",
    "\n",
    "        \n",
    "        fout.write('      },\\n')\n",
    "        fout.write('      \"geometry\": { \\n')\n",
    "        fout.write('        \"type\":\"MultiPoint\",\\n')\n",
    "        fout.write('        \"coordinates\":[')\n",
    "        posarComa=False\n",
    "        for index, info in result[result['data'] == data].iterrows(): \n",
    "            try:\n",
    "                coord=utm.to_latlon(float(str(info[\"Coordenada UTM (X)\"]).replace(',', '.')), float(str(info[\"Coordenada UTM (Y)\"]).replace(',', '.')),  31, 'T')\n",
    "                if posarComa:\n",
    "                    fout.write(', ')\n",
    "                posarComa=True\n",
    "            \n",
    "                #coord=utm.to_latlon(float(str(info[\"Coordenada UTM (X)\"]).replace(',', '.')), float(str(info[\"Coordenada UTM (Y)\"]).replace(',', '.')),  31, 'T')\n",
    "                fout.write('['+\"%.6f\" % coord[1]+', '+\"%.6f\" % coord[0] +']')\n",
    "            except:\n",
    "                print float(str(info[\"Coordenada UTM (X)\"]).replace(',', '.')), float(str(info[\"Coordenada UTM (Y)\"]).replace(',', '.'))\n",
    "                \n",
    "        fout.write(']\\n      }\\n')\n",
    "        fout.write('    }')            \n",
    "    fout.write('\\n  ]\\n')\n",
    "    fout.write('};')\n",
    "\n",
    "    fout.close()\n",
    "createJSMulti()"
   ]
  },
  {
   "cell_type": "markdown",
   "metadata": {
    "collapsed": true
   },
   "source": [
    "Versio corregida del geoJson point"
   ]
  },
  {
   "cell_type": "code",
   "execution_count": 12,
   "metadata": {
    "collapsed": false
   },
   "outputs": [],
   "source": [
    "import utm\n",
    "posarComa=False\n",
    "fout= open(\"accidents.geojson\", 'w')\n",
    "fout.write('{\\n')\n",
    "fout.write('  \"type\": \"FeatureCollection\",\\n')\n",
    "fout.write('  \"features\": [\\n')\n",
    "for i in range(0,1):\n",
    "    for index, info in general[i].iterrows(): \n",
    "        try:\n",
    "            coord=utm.to_latlon(float(str(info[\"Coordenada UTM (X)\"]).replace(',', '.')), float(str(info[\"Coordenada UTM (Y)\"]).replace(',', '.')),  31, 'T')\n",
    "            if posarComa:\n",
    "                fout.write(',\\n')\n",
    "            posarComa=True\n",
    "            fout.write('    {\\n')\n",
    "            fout.write('      \"type\": \"Feature\",\\n')\n",
    "            fout.write('      \"properties\": {\\n')\n",
    "            fout.write('        \"numEx\": \"'+str(info[\"Numero dexpedient\"])+'\",\\n')\n",
    "            fout.write('        \"cotxes\": \"'+str(info[\"Numero de vehicles implicats\"])+'\",\\n')\n",
    "\n",
    "            #algo = tipus[i][info[\"Numero dexpedient\"]== tipus[i][\"Numero dexpedient\"]][\"Descripcio tipus accident\"].iloc(0)\n",
    "            #fout.write('        \"causes\": \"'+str(algo)+'\",\\n')\n",
    "\n",
    "\n",
    "            fout.write('        \"morts\": \"'+str(info[\"Numero de morts\"])+'\",\\n')\n",
    "            fout.write('        \"greus\": \"'+str(info[\"Numero de lesionats greus\"])+'\",\\n')\n",
    "            fout.write('        \"lleus\": \"'+str(info[\"Numero de lesionats lleus\"])+'\",\\n')\n",
    "            fout.write('        \"start\": \"'+ str(info[\"NK Any\"])+\"-\"+ \"%02d\" % (info[\"Mes de any\"],)+'-'+\"%02d\" % (info[\"Dia de mes\"],)+' '+ \"%02d\" % (info[\"Hora de dia\"],)+':00\",\\n')\n",
    "            fout.write('        \"end\": \"'+ str(info[\"NK Any\"])+\"-\"+ \"%02d\" % (info[\"Mes de any\"],)+'-'+\"%02d\" % (info[\"Dia de mes\"],)+' '+ \"%02d\" % (info[\"Hora de dia\"]+3,)+':00\"\\n')\n",
    "            #coord=utm.to_latlon(float(str(info[\"Coordenada UTM (X)\"]).replace(',', '.')), float(str(info[\"Coordenada UTM (Y)\"]).replace(',', '.')),  31, 'T')\n",
    "            fout.write('      },\\n')\n",
    "            fout.write('      \"geometry\": { \\n')\n",
    "            fout.write('        \"type\":\"Point\",\\n')\n",
    "        \n",
    "            #coord=utm.to_latlon(float(str(info[\"Coordenada UTM (X)\"]).replace(',', '.')), float(str(info[\"Coordenada UTM (Y)\"]).replace(',', '.')),  31, 'T')\n",
    "            fout.write('        \"coordinates\":['+\"%.6f\" % coord[0]+', '+\"%.6f\" % coord[1] +']\\n')\n",
    "            fout.write('      }\\n')\n",
    "            fout.write('    }')\n",
    "        except:\n",
    "            print float(str(info[\"Coordenada UTM (X)\"]).replace(',', '.')), float(str(info[\"Coordenada UTM (Y)\"]).replace(',', '.'))\n",
    "        \n",
    "fout.write('\\n  ]\\n')\n",
    "fout.write('}\\n')"
   ]
  },
  {
   "cell_type": "code",
   "execution_count": null,
   "metadata": {
    "collapsed": true
   },
   "outputs": [],
   "source": []
  }
 ],
 "metadata": {
  "kernelspec": {
   "display_name": "Python 2",
   "language": "python",
   "name": "python2"
  },
  "language_info": {
   "codemirror_mode": {
    "name": "ipython",
    "version": 2
   },
   "file_extension": ".py",
   "mimetype": "text/x-python",
   "name": "python",
   "nbconvert_exporter": "python",
   "pygments_lexer": "ipython2",
   "version": "2.7.11"
  }
 },
 "nbformat": 4,
 "nbformat_minor": 0
}
