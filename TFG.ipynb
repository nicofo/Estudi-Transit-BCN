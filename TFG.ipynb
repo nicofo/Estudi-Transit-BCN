{
 "cells": [
  {
   "cell_type": "markdown",
   "metadata": {},
   "source": [
    "\n",
    "\n",
    "TITOL\n",
    "============"
   ]
  },
  {
   "cell_type": "markdown",
   "metadata": {
    "collapsed": true,
    "scrolled": false
   },
   "source": []
  },
  {
   "cell_type": "markdown",
   "metadata": {},
   "source": [
    "Dades d'incidencies de trànsit a Barcelona de la **Guardia Urbana de Barcelona** descarregades el dia 28 d'Abril del 2016 de [OpenDataBcn](http://opendata.bcn.cat/opendata/ca/catalog/GUARDIA%20URBANA)"
   ]
  },
  {
   "cell_type": "markdown",
   "metadata": {},
   "source": [
    "Carrega de les dades\n",
    "---------------"
   ]
  },
  {
   "cell_type": "markdown",
   "metadata": {},
   "source": [
    "Importem tots els *CSV* a Pandas DataFrame. <br> \n",
    "Hi ha hagut molts problemes ja que ho importavem amb cofificació UTF-8 i hem descobert que es Latín 1(iso-8859-1) <br>\n",
    "Els vehicles van amb OS2-850"
   ]
  },
  {
   "cell_type": "code",
   "execution_count": 2,
   "metadata": {
    "collapsed": false,
    "scrolled": false
   },
   "outputs": [
    {
     "name": "stderr",
     "output_type": "stream",
     "text": [
      "/home/nico/anaconda2/lib/python2.7/site-packages/IPython/core/interactiveshell.py:2902: DtypeWarning: Columns (16,27,28,29,30,31,32) have mixed types. Specify dtype option on import or set low_memory=False.\n",
      "  interactivity=interactivity, compiler=compiler, result=result)\n",
      "/home/nico/anaconda2/lib/python2.7/site-packages/IPython/core/interactiveshell.py:2902: DtypeWarning: Columns (5,19,20,21,22,23,24) have mixed types. Specify dtype option on import or set low_memory=False.\n",
      "  interactivity=interactivity, compiler=compiler, result=result)\n"
     ]
    }
   ],
   "source": [
    "\n",
    "import pandas as pd\n",
    "general=dict()\n",
    "temps=dict()\n",
    "persones=dict()\n",
    "vehicles=dict()\n",
    "tipus=dict()\n",
    "sizeYears=6\n",
    "\n",
    "general[0]=pd.read_csv(\"general/ACCIDENTS_GU_BCN_2010.csv\",sep=',', encoding='iso-8859-1')\n",
    "persones[0]=pd.read_csv(\"persones/ACCIDENTS_PERSONES_GU_BCN_201\"+str(0)+\".csv\",sep=';', encoding='iso-8859-1')\n",
    "tipus[0]=pd.read_csv(\"tipologia/ACCIDENTS_TIPUS_GU_BCN_201\"+str(0)+\".csv\",sep=';', encoding='cp850')\n",
    "vehicles[0]=pd.read_csv(\"vehicles/2010_ACCIDENTS_VEHICLES_GU_BCN_2010.csv\",sep=';', encoding='cp850')\n",
    "\n",
    "general[1]=pd.read_csv(\"general/ACCIDENTS_GU_BCN_2011.csv\",sep=',', encoding='iso-8859-1')\n",
    "persones[1]=pd.read_csv(\"persones/ACCIDENTS_PERSONES_GU_BCN_201\"+str(1)+\".csv\",sep=';', encoding='iso-8859-1')\n",
    "tipus[1]=pd.read_csv(\"tipologia/ACCIDENTS_TIPUS_GU_BCN_201\"+str(1)+\".csv\",sep=';', encoding='cp850')\n",
    "vehicles[1]=pd.read_csv(\"vehicles/2011_ACCIDENTS_VEHICLES_GU_BCN_2011.csv\",sep=';', encoding='cp850')\n",
    "\n",
    "general[2]=pd.read_csv(\"general/ACCIDENTS_GU_BCN_2012.csv\",sep=',', encoding='iso-8859-1')\n",
    "persones[2]=pd.read_csv(\"persones/ACCIDENTS_PERSONES_GU_BCN_201\"+str(2)+\".csv\",sep=';', encoding='iso-8859-1')\n",
    "tipus[2]=pd.read_csv(\"tipologia/ACCIDENTS_TIPUS_GU_BCN_201\"+str(2)+\".csv\",sep=';', encoding='cp850')\n",
    "vehicles[2]=pd.read_csv(\"vehicles/2012_ACCIDENTS_VEHICLES_GU_BCN_2012.csv\",sep=';', encoding='cp850')\n",
    "\n",
    "general[3]=pd.read_csv(\"general/ACCIDENTS_GU_BCN_2013.csv\",sep=',', encoding='iso-8859-1')\n",
    "persones[3]=pd.read_csv(\"persones/ACCIDENTS_PERSONES_GU_BCN_201\"+str(3)+\".csv\",sep=';', encoding='iso-8859-1')\n",
    "tipus[3]=pd.read_csv(\"tipologia/ACCIDENTS_TIPUS_GU_BCN_201\"+str(3)+\".csv\",sep=';', encoding='cp850')\n",
    "vehicles[3]=pd.read_csv(\"vehicles/2013_ACCIDENTS_VEHICLES_GU_BCN_2013.csv\",sep=';', encoding='cp850')\n",
    "\n",
    "general[4]=pd.read_csv(\"general/ACCIDENTS_GU_BCN_2014.csv\",sep=';', encoding='iso-8859-1')\n",
    "persones[4]=pd.read_csv(\"persones/ACCIDENTS_PERSONES_GU_BCN_201\"+str(4)+\".csv\",sep=';', encoding='iso-8859-1')\n",
    "tipus[4]=pd.read_csv(\"tipologia/ACCIDENTS_TIPUS_GU_BCN_201\"+str(4)+\".csv\",sep=';', encoding='cp850')\n",
    "vehicles[4]=pd.read_csv(\"vehicles/2014_ACCIDENTS_VEHICLES_GU_BCN_2014.csv\",sep=';', encoding='cp850')\n",
    "\n",
    "general[5]=pd.read_csv(\"general/ACCIDENTS_GU_BCN_2015.csv\",sep=';', encoding='iso-8859-1')\n",
    "persones[5]=pd.read_csv(\"persones/ACCIDENTS_PERSONES_GU_BCN_201\"+str(5)+\".csv\",sep=';', encoding='iso-8859-1')\n",
    "tipus[5]=pd.read_csv(\"tipologia/ACCIDENTS_TIPUS_GU_BCN_201\"+str(5)+\".csv\",sep=';', encoding='cp850')\n",
    "vehicles[5]=pd.read_csv(\"vehicles/2015_ACCIDENTS_VEHICLES_GU_BCN_2015.csv\",sep=';', encoding='cp850')\n",
    "\n",
    "    #cotxes.append(pd.read_csv(\"vehicles/\"+i+\"_ACCIDENTS_VEHICLES_GU_BCN_201\"+i+\".csv\",sep=';', encoding='iso-8859-1')\n",
    "    #data = pd.merge(pd.merge(pd.merge(general,cotxes), persones), tipus).T.drop_duplicates().T\n",
    "\n",
    "#data.to_csv(\"dadesAccidents.csv\", sep=';', encoding='utf32')\n",
    "#general[5].columns=['Hola']+general[5].columns[1:]\n",
    "\n",
    "#data.count()\n",
    "temps[0]=pd.read_csv(\"meteo/2010_all_data.csv\",sep=';', encoding='utf-8')\n",
    "temps[1]=pd.read_csv(\"meteo/2011_all_data.csv\",sep=';', encoding='utf-8')\n",
    "temps[2]=pd.read_csv(\"meteo/2012_all_data.csv\",sep=';', encoding='utf-8')\n",
    "temps[3]=pd.read_csv(\"meteo/2013_all_data.csv\",sep=';', encoding='utf-8')\n",
    "temps[4]=pd.read_csv(\"meteo/2014_all_data.csv\",sep=';', encoding='utf-8')\n",
    "temps[5]=pd.read_csv(\"meteo/2015_all_data.csv\",sep=';', encoding='utf-8')\n",
    "meteo = pd.concat(temps.values())\n",
    "cruilles=pd.read_csv('cruilles.csv', encoding='utf-8')"
   ]
  },
  {
   "cell_type": "code",
   "execution_count": 3,
   "metadata": {
    "collapsed": false
   },
   "outputs": [
    {
     "data": {
      "text/plain": [
       "Número d'expedient              object\n",
       "Codi districte                   int64\n",
       "Nom districte                   object\n",
       "Codi barri                       int64\n",
       "Nom barri                       object\n",
       "Codi carrer                      int64\n",
       "Nom carrer                      object\n",
       "Num postal caption              object\n",
       "Descripció dia setmana          object\n",
       "Dia setmana                     object\n",
       "Descripció tipus dia            object\n",
       "NK Any                           int64\n",
       "Mes de any                       int64\n",
       "Nom mes                         object\n",
       "Dia de mes                       int64\n",
       "Hora de dia                      int64\n",
       "Descripció torn                 object\n",
       "Descripció causa vianant        object\n",
       "Número de morts                  int64\n",
       "Número de lesionats lleus        int64\n",
       "Número de lesionats greus        int64\n",
       "Número de vehicles implicats     int64\n",
       "Coordenada UTM (Y)              object\n",
       "Coordenada UTM (X)              object\n",
       "dtype: object"
      ]
     },
     "execution_count": 3,
     "metadata": {},
     "output_type": "execute_result"
    }
   ],
   "source": [
    "general[5].dtypes"
   ]
  },
  {
   "cell_type": "markdown",
   "metadata": {},
   "source": [
    "Neteja de les Dades\n",
    "-----------"
   ]
  },
  {
   "cell_type": "markdown",
   "metadata": {},
   "source": [
    "### Headres\n",
    "Canviem els **headres**.<br>\n",
    "Treiem els accents, els espais i els apostrofs. També ho posem tot en minuscula.\n",
    "<br>**Referencies:**<br>\n",
    "http://stackoverflow.com/questions/517923/what-is-the-best-way-to-remove-accents-in-a-python-unicode-string <br>"
   ]
  },
  {
   "cell_type": "code",
   "execution_count": 4,
   "metadata": {
    "collapsed": false,
    "scrolled": false
   },
   "outputs": [
    {
     "name": "stdout",
     "output_type": "stream",
     "text": [
      "Index([u'NumeroDexpedient', u'CodiDistricte', u'NomDistricte', u'NkBarri',\n",
      "       u'NomBarri', u'CodiCarrer', u'NomCarrer', u'NumPostalCaption',\n",
      "       u'DescripcioDiaSetmana', u'DiaDeSetmana', u'DescripcioTipusDia',\n",
      "       u'NkAny', u'MesDeAny', u'NomMes', u'DiaDeMes', u'HoraDeDia',\n",
      "       u'DescripcioTorn', u'DescripcioCausaVianant', u'NumeroDeMorts',\n",
      "       u'NumeroDeLesionatsLleus', u'NumeroDeLesionatsGreus',\n",
      "       u'NumeroDeVictimes', u'NumeroDeVehiclesImplicats', u'CoordenadaUtmy',\n",
      "       u'CoordenadaUtmx'],\n",
      "      dtype='object')\n",
      "Index([u'NumeroDexpedient', u'CodiDistricte', u'NomDistricte', u'NkBarri',\n",
      "       u'NomBarri', u'CodiCarrer', u'NomCarrer', u'NumPostalCaption',\n",
      "       u'DescripcioDiaSetmana', u'DiaDeSetmana', u'DescripcioTipusDia',\n",
      "       u'NkAny', u'MesDeAny', u'NomMes', u'DiaDeMes', u'HoraDeDia',\n",
      "       u'DescripcioTorn', u'DescripcioCausaVianant', u'NumeroDeMorts',\n",
      "       u'NumeroDeLesionatsLleus', u'NumeroDeLesionatsGreus',\n",
      "       u'NumeroDeVictimes', u'NumeroDeVehiclesImplicats', u'CoordenadaUtmy',\n",
      "       u'CoordenadaUtmx'],\n",
      "      dtype='object')\n",
      "Index([u'NumeroDexpedient', u'CodiDistricte', u'NomDistricte', u'NkBarri',\n",
      "       u'NomBarri', u'CodiCarrer', u'NomCarrer', u'NumPostalCaption',\n",
      "       u'DescripcioDiaSetmana', u'DiaDeSetmana', u'DescripcioTipusDia',\n",
      "       u'NkAny', u'MesDeAny', u'NomMes', u'DiaDeMes', u'HoraDeDia',\n",
      "       u'DescripcioTorn', u'DescripcioCausaVianant', u'NumeroDeMorts',\n",
      "       u'NumeroDeLesionatsLleus', u'NumeroDeLesionatsGreus',\n",
      "       u'NumeroDeVictimes', u'NumeroDeVehiclesImplicats', u'CoordenadaUtmy',\n",
      "       u'CoordenadaUtmx'],\n",
      "      dtype='object')\n",
      "Index([u'NumeroDexpedient', u'CodiDistricte', u'NomDistricte', u'NkBarri',\n",
      "       u'NomBarri', u'CodiCarrer', u'NomCarrer', u'NumPostalCaption',\n",
      "       u'DescripcioDiaSetmana', u'DiaDeSetmana', u'DescripcioTipusDia',\n",
      "       u'NkAny', u'MesDeAny', u'NomMes', u'DiaDeMes', u'HoraDeDia',\n",
      "       u'DescripcioTorn', u'DescripcioCausaVianant', u'NumeroDeMorts',\n",
      "       u'NumeroDeLesionatsLleus', u'NumeroDeLesionatsGreus',\n",
      "       u'NumeroDeVictimes', u'NumeroDeVehiclesImplicats', u'CoordenadaUtmy',\n",
      "       u'CoordenadaUtmx'],\n",
      "      dtype='object')\n",
      "Index([u'NumeroDexpedient', u'CodiDistricte', u'NomDistricte', u'NkBarri',\n",
      "       u'NomBarri', u'CodiCarrer', u'NomCarrer', u'NumPostalCaption',\n",
      "       u'DescripcioDiaSetmana', u'DiaDeSetmana', u'DescripcioTipusDia',\n",
      "       u'NkAny', u'MesDeAny', u'NomMes', u'DiaDeMes', u'HoraDeDia',\n",
      "       u'DescripcioTorn', u'DescripcioCausaVianant', u'NumeroDeMorts',\n",
      "       u'NumeroDeLesionatsLleus', u'NumeroDeLesionatsGreus',\n",
      "       u'NumeroDeVictimes', u'NumeroDeVehiclesImplicats', u'CoordenadaUtmy',\n",
      "       u'CoordenadaUtmx'],\n",
      "      dtype='object')\n",
      "Index([u'NumeroDexpedient', u'CodiDistricte', u'NomDistricte', u'CodiBarri',\n",
      "       u'NomBarri', u'CodiCarrer', u'NomCarrer', u'NumPostalCaption',\n",
      "       u'DescripcioDiaSetmana', u'DiaSetmana', u'DescripcioTipusDia', u'NkAny',\n",
      "       u'MesDeAny', u'NomMes', u'DiaDeMes', u'HoraDeDia', u'DescripcioTorn',\n",
      "       u'DescripcioCausaVianant', u'NumeroDeMorts', u'NumeroDeLesionatsLleus',\n",
      "       u'NumeroDeLesionatsGreus', u'NumeroDeVehiclesImplicats',\n",
      "       u'CoordenadaUtmy', u'CoordenadaUtmx'],\n",
      "      dtype='object')\n",
      "Index([u'NumeroDexpedient', u'CodiDistricte', u'NomDistricte', u'CodiBarri',\n",
      "       u'NomBarri', u'CodiCarrer', u'NomCarrer', u'NumPostalCaption',\n",
      "       u'DescripcioDiaSetmana', u'DiaSetmana', u'DescripcioTipusDia', u'NkAny',\n",
      "       u'MesDeAny', u'NomMes', u'DiaDeMes', u'HoraDeDia', u'DescripcioTorn',\n",
      "       u'DescripcioCausaVianant', u'NumeroDeMorts', u'NumeroDeLesionatsLleus',\n",
      "       u'NumeroDeLesionatsGreus', u'NumeroDeVehiclesImplicats',\n",
      "       u'CoordenadaUtmy', u'CoordenadaUtmx'],\n",
      "      dtype='object')\n",
      "Index([u'NumeroDexpedient', u'CodiDistricte', u'NomDistricte', u'CodiBarri',\n",
      "       u'NomBarri', u'CodiCarrer', u'NomCarrer', u'NumPostalCaption',\n",
      "       u'DescripcioDiaSetmana', u'DiaSetmana', u'DescripcioTipusDia', u'NkAny',\n",
      "       u'MesDeAny', u'NomMes', u'DiaDeMes', u'HoraDeDia',\n",
      "       u'DescripcioCausaVianant', u'DescTipusVehicleImplicat',\n",
      "       u'DescripcioSexe', u'DescripcioTipusPersona', u'Edat',\n",
      "       u'DescripcioVictimitzacio', u'CoordenadaUtmy', u'CoordenadaUtmx'],\n",
      "      dtype='object')\n",
      "Index([u'NmeroDexpedient', u'CodiDistricte', u'NomDistricte', u'CodiBarri',\n",
      "       u'NomBarri', u'CodiCarrer', u'NomCarrer', u'NumPostalCaption',\n",
      "       u'DescripciDiaSetmana', u'DiaSetmana', u'DescripciTipusDia', u'NkAny',\n",
      "       u'MesDeAny', u'NomMes', u'DiaDeMes', u'HoraDeDia', u'DescripciTorn',\n",
      "       u'DescripciTipusAccident', u'CoordenadaUtmy', u'CoordenadaUtmx'],\n",
      "      dtype='object')\n",
      "Index([u'CodiDexpedient', u'CodiDistricte', u'NomDistricte', u'CodiBarri',\n",
      "       u'NomBarri', u'CodiCarrer', u'NomCarrer', u'NumPostalCaption',\n",
      "       u'DescripciDiaSetmana', u'DiaSetmana', u'DescripciTipusDia', u'NkAny',\n",
      "       u'MesDeAny', u'NomMes', u'DiaDeMes', u'HoraDeDia',\n",
      "       u'DescripciCausaVianant', u'DescripciTipusDeVehicle', u'DescripciModel',\n",
      "       u'DescripciMarca', u'DescripciColor', u'DescripciCarnet',\n",
      "       u'AntiguitatCarnet', u'CoordenadaUtmy', u'CoordenadaUtmx'],\n",
      "      dtype='object')\n"
     ]
    },
    {
     "data": {
      "text/plain": [
       "9056"
      ]
     },
     "execution_count": 4,
     "metadata": {},
     "output_type": "execute_result"
    }
   ],
   "source": [
    "import re\n",
    "import unicodedata\n",
    "\n",
    "def remove_accents(input_str):\n",
    "    nfkd_form = unicodedata.normalize('NFKD', input_str)\n",
    "    return u\"\".join([c for c in nfkd_form if not unicodedata.combining(c)])\n",
    "\n",
    "def firstUpper(x):\n",
    "    x=x[0].upper()+x[1:]\n",
    "    return x\n",
    "\n",
    "def convertHeader(x):\n",
    "    #to Lower case\n",
    "    if \" \" in x:\n",
    "        x = x.lower() \n",
    "    x = remove_accents(x)\n",
    "    \n",
    "    # Replace spaces for  \"\"\n",
    "    words=x.split()\n",
    "    words=[firstUpper(x) for x in words]\n",
    "    x=\"\".join(words)\n",
    "    \n",
    "    # Replace all character that is not a letter or space for \"\"\n",
    "    x = re.sub('[^a-z, A-Z\\ ]+', \"\", x)\n",
    "    \n",
    "    \n",
    "    \n",
    "    return x\n",
    "\n",
    "\n",
    "for i in range(sizeYears):\n",
    "    general[i].columns=general[i].columns.map(convertHeader)\n",
    "    persones[i].columns=persones[i].columns.map(convertHeader)\n",
    "    tipus[i].columns=tipus[i].columns.map(convertHeader)\n",
    "    vehicles[i].columns=vehicles[i].columns.map(convertHeader)\n",
    "    print general[i].columns\n",
    "print general[i].columns\n",
    "print persones[i].columns\n",
    "print tipus[i].columns\n",
    "print vehicles[i].columns\n",
    "general[0]['NumeroDexpedient'].count()\n",
    "\n"
   ]
  },
  {
   "cell_type": "markdown",
   "metadata": {},
   "source": [
    "### Noves Columnes\n",
    "Adherim columnes que ens poden ser utils:\n",
    "\n",
    "+ DataNumeric(Per ordenació)\n",
    "+ Data(Per mostrar)\n",
    "+ Lat(Latitud de coordenades LatLon)\n",
    "+ Lon(Longitud de coordenades LatLon)\n",
    "\n",
    "Ho posarem als DataFrames *general* ja que son els que utilitzarem de base\n",
    "\n",
    "Utilitzarem el Package [UTM](https://pypi.python.org/pypi/utm) per pasar de UTM a LatLon"
   ]
  },
  {
   "cell_type": "code",
   "execution_count": 5,
   "metadata": {
    "collapsed": false
   },
   "outputs": [],
   "source": [
    "import utm\n",
    "#Functions for mapping\n",
    "diesFestius=['01/01','06/01','01/05', '24/06', '15/08','11/09','24/09','12/10','01/11','06/12', '08/12','25/12', '26/12']\n",
    "def toStr(x):\n",
    "    return str(x)\n",
    "\n",
    "def toInt(x):\n",
    "    return int(x)\n",
    "def to2Dig(x):\n",
    "    return \"%02d\" % (x,)\n",
    "def utmToLat(x):\n",
    "    coor=x.split(\"/\")\n",
    "    try:\n",
    "        lat=utm.to_latlon(float(str(coor[0]).replace(',', '.')), float(str(coor[1]).replace(',', '.')),  31, 'T')[0]\n",
    "    except:\n",
    "        lat=-1\n",
    "    return lat\n",
    "def utmToLon(x):\n",
    "    coor=x.split(\"/\")\n",
    "    try:\n",
    "        lat=utm.to_latlon(float(str(coor[0]).replace(',', '.')), float(str(coor[1]).replace(',', '.')),  31, 'T')[1]    \n",
    "    except:\n",
    "        lat=-1\n",
    "    return lat\n",
    "def toNormal(x):\n",
    "    arr=x.split(\",\")\n",
    "    return (float(arr[0]),float(arr[1]))\n",
    "\n",
    "def horesMeteo(x):\n",
    "    result=x.split(':')\n",
    "    return result[0]\n",
    "\n",
    "def recentPlogut(dia, hora, index):\n",
    "    arrDia=dia.split('/')\n",
    "    diaAqui=arrDia[0]+'/'+arrDia[1]+'/'+'1'+str(index)\n",
    "    arrPlujes=temps[index][temps[index]['date']==diaAqui]['rain_rate']\n",
    "    if len(arrPlujes)<=0:\n",
    "        return False\n",
    "    if sum(arrPlujes)<0.1:\n",
    "        return False\n",
    "    return True\n",
    "\n",
    "#contem dissabte com festiu\n",
    "def esLaborable(dia, diaSetmana):\n",
    "    if diaSetmana=='Diumenge' or diaSetmana=='Dissabte':\n",
    "        return 'Festiu'\n",
    "    diaSp=dia.split('/')\n",
    "    if (diaSp[0]+'/'+diaSp[1]) in diesFestius:\n",
    "        return 'Festiu'\n",
    "    return 'Laboral'\n",
    "    \n",
    "    \n",
    "for i in range(sizeYears):\n",
    "    general[i]['DataNumeric']=general[i][\"NkAny\"].map(toStr)+\"\"+ general[i][\"MesDeAny\"].map(to2Dig)+''+general[i][\"DiaDeMes\"].map(to2Dig)\n",
    "    general[i]['DataNumeric']=general[i]['DataNumeric'].map(toInt)\n",
    "    general[i]['Data']=general[i][\"DiaDeMes\"].map(to2Dig)+\"/\"+ general[i][\"MesDeAny\"].map(to2Dig)+'/'+general[i][\"NkAny\"].map(to2Dig)\n",
    "    general[i]['CoordUTM']=general[i][\"CoordenadaUtmx\"].map(toStr)+\"/\"+general[i][\"CoordenadaUtmy\"].map(toStr)\n",
    "    general[i]['Lat']=general[i]['CoordUTM'].map(utmToLat)\n",
    "    general[i]['Lon']=general[i]['CoordUTM'].map(utmToLon)\n",
    "    general[i]['LatLonStr']=general[i]['Lat'].map(toStr)+\", \"+general[i]['Lon'].map(toStr)\n",
    "    general[i]['LatLon']=general[i]['LatLonStr'].map(toNormal)\n",
    "    temps[i]['Hora']=temps[i]['time'].map(horesMeteo)\n",
    "    general[i]['Pluja'] = [recentPlogut(info['Data'], info['HoraDeDia'], i) for index, info in general[i].iterrows()]\n",
    "    general[i]['DescripciTipusDia'] =[esLaborable(info['Data'], info['DescripcioDiaSetmana']) for index, info in general[i].iterrows()]\n"
   ]
  },
  {
   "cell_type": "code",
   "execution_count": 6,
   "metadata": {
    "collapsed": false
   },
   "outputs": [
    {
     "data": {
      "text/html": [
       "<div>\n",
       "<table border=\"1\" class=\"dataframe\">\n",
       "  <thead>\n",
       "    <tr style=\"text-align: right;\">\n",
       "      <th></th>\n",
       "      <th>NumeroDexpedient</th>\n",
       "      <th>CodiDistricte</th>\n",
       "      <th>NomDistricte</th>\n",
       "      <th>NkBarri</th>\n",
       "      <th>NomBarri</th>\n",
       "      <th>CodiCarrer</th>\n",
       "      <th>NomCarrer</th>\n",
       "      <th>NumPostalCaption</th>\n",
       "      <th>DescripcioDiaSetmana</th>\n",
       "      <th>DiaDeSetmana</th>\n",
       "      <th>...</th>\n",
       "      <th>CoordenadaUtmx</th>\n",
       "      <th>DataNumeric</th>\n",
       "      <th>Data</th>\n",
       "      <th>CoordUTM</th>\n",
       "      <th>Lat</th>\n",
       "      <th>Lon</th>\n",
       "      <th>LatLonStr</th>\n",
       "      <th>LatLon</th>\n",
       "      <th>Pluja</th>\n",
       "      <th>DescripciTipusDia</th>\n",
       "    </tr>\n",
       "  </thead>\n",
       "  <tbody>\n",
       "    <tr>\n",
       "      <th>0</th>\n",
       "      <td>2010S003688</td>\n",
       "      <td>10</td>\n",
       "      <td>Sant Martí</td>\n",
       "      <td>101-10-64</td>\n",
       "      <td>el Camp de l'Arpa del Clot</td>\n",
       "      <td>209900</td>\n",
       "      <td>Meridiana</td>\n",
       "      <td>0181 0181</td>\n",
       "      <td>Divendres</td>\n",
       "      <td>5</td>\n",
       "      <td>...</td>\n",
       "      <td>432017,96</td>\n",
       "      <td>20100528</td>\n",
       "      <td>28/05/2010</td>\n",
       "      <td>432017,96/4584941,35</td>\n",
       "      <td>41.413149</td>\n",
       "      <td>2.186570</td>\n",
       "      <td>41.4131485914, 2.18656994324</td>\n",
       "      <td>(41.4131485914, 2.18656994324)</td>\n",
       "      <td>False</td>\n",
       "      <td>Laboral</td>\n",
       "    </tr>\n",
       "    <tr>\n",
       "      <th>1</th>\n",
       "      <td>2010S007597</td>\n",
       "      <td>10</td>\n",
       "      <td>Sant Martí</td>\n",
       "      <td>101-10-64</td>\n",
       "      <td>el Camp de l'Arpa del Clot</td>\n",
       "      <td>346402</td>\n",
       "      <td>Trinxant</td>\n",
       "      <td>0014 0014</td>\n",
       "      <td>Dilluns</td>\n",
       "      <td>1</td>\n",
       "      <td>...</td>\n",
       "      <td>432014,69</td>\n",
       "      <td>20101108</td>\n",
       "      <td>08/11/2010</td>\n",
       "      <td>432014,69/4585041,70</td>\n",
       "      <td>41.414052</td>\n",
       "      <td>2.186520</td>\n",
       "      <td>41.4140521352, 2.18651954367</td>\n",
       "      <td>(41.4140521352, 2.18651954367)</td>\n",
       "      <td>True</td>\n",
       "      <td>Laboral</td>\n",
       "    </tr>\n",
       "    <tr>\n",
       "      <th>2</th>\n",
       "      <td>2010S001390</td>\n",
       "      <td>10</td>\n",
       "      <td>Sant Martí</td>\n",
       "      <td>101-10-64</td>\n",
       "      <td>el Camp de l'Arpa del Clot</td>\n",
       "      <td>297001</td>\n",
       "      <td>Sant Antoni Maria Claret</td>\n",
       "      <td>0314 0316</td>\n",
       "      <td>Dijous</td>\n",
       "      <td>4</td>\n",
       "      <td>...</td>\n",
       "      <td>431401,23</td>\n",
       "      <td>20100225</td>\n",
       "      <td>25/02/2010</td>\n",
       "      <td>431401,23/4585117,42</td>\n",
       "      <td>41.414682</td>\n",
       "      <td>2.179171</td>\n",
       "      <td>41.4146819898, 2.1791713009</td>\n",
       "      <td>(41.4146819898, 2.1791713009)</td>\n",
       "      <td>False</td>\n",
       "      <td>Laboral</td>\n",
       "    </tr>\n",
       "    <tr>\n",
       "      <th>3</th>\n",
       "      <td>2010S005416</td>\n",
       "      <td>10</td>\n",
       "      <td>Sant Martí</td>\n",
       "      <td>101-10-64</td>\n",
       "      <td>el Camp de l'Arpa del Clot</td>\n",
       "      <td>134801</td>\n",
       "      <td>Freser</td>\n",
       "      <td>0007 0007</td>\n",
       "      <td>Dimarts</td>\n",
       "      <td>2</td>\n",
       "      <td>...</td>\n",
       "      <td>431397,75</td>\n",
       "      <td>20100803</td>\n",
       "      <td>03/08/2010</td>\n",
       "      <td>431397,75/4584596,60</td>\n",
       "      <td>41.409991</td>\n",
       "      <td>2.179189</td>\n",
       "      <td>41.4099908411, 2.17918871781</td>\n",
       "      <td>(41.4099908411, 2.17918871781)</td>\n",
       "      <td>False</td>\n",
       "      <td>Laboral</td>\n",
       "    </tr>\n",
       "    <tr>\n",
       "      <th>4</th>\n",
       "      <td>2010S008924</td>\n",
       "      <td>10</td>\n",
       "      <td>Sant Martí</td>\n",
       "      <td>101-10-64</td>\n",
       "      <td>el Camp de l'Arpa del Clot</td>\n",
       "      <td>161407</td>\n",
       "      <td>Indústria</td>\n",
       "      <td>0258 0258</td>\n",
       "      <td>Divendres</td>\n",
       "      <td>5</td>\n",
       "      <td>...</td>\n",
       "      <td>431391,10</td>\n",
       "      <td>20101224</td>\n",
       "      <td>24/12/2010</td>\n",
       "      <td>431391,10/4584932,86</td>\n",
       "      <td>41.413019</td>\n",
       "      <td>2.179071</td>\n",
       "      <td>41.4130188553, 2.17907103082</td>\n",
       "      <td>(41.4130188553, 2.17907103082)</td>\n",
       "      <td>False</td>\n",
       "      <td>Laboral</td>\n",
       "    </tr>\n",
       "    <tr>\n",
       "      <th>5</th>\n",
       "      <td>2010S004500</td>\n",
       "      <td>10</td>\n",
       "      <td>Sant Martí</td>\n",
       "      <td>101-10-64</td>\n",
       "      <td>el Camp de l'Arpa del Clot</td>\n",
       "      <td>105304</td>\n",
       "      <td>Dos de Maig</td>\n",
       "      <td>0228 0228</td>\n",
       "      <td>Dimarts</td>\n",
       "      <td>2</td>\n",
       "      <td>...</td>\n",
       "      <td>431675,21</td>\n",
       "      <td>20100629</td>\n",
       "      <td>29/06/2010</td>\n",
       "      <td>431675,21/4584247,30</td>\n",
       "      <td>41.406868</td>\n",
       "      <td>2.182548</td>\n",
       "      <td>41.4068684416, 2.18254758042</td>\n",
       "      <td>(41.4068684416, 2.18254758042)</td>\n",
       "      <td>False</td>\n",
       "      <td>Laboral</td>\n",
       "    </tr>\n",
       "    <tr>\n",
       "      <th>6</th>\n",
       "      <td>2010S000794</td>\n",
       "      <td>10</td>\n",
       "      <td>Sant Martí</td>\n",
       "      <td>101-10-64</td>\n",
       "      <td>el Camp de l'Arpa del Clot</td>\n",
       "      <td>18505</td>\n",
       "      <td>Aragó</td>\n",
       "      <td>0557 0557</td>\n",
       "      <td>Dimecres</td>\n",
       "      <td>3</td>\n",
       "      <td>...</td>\n",
       "      <td>431853,49</td>\n",
       "      <td>20100203</td>\n",
       "      <td>03/02/2010</td>\n",
       "      <td>431853,49/4584290,47</td>\n",
       "      <td>41.407272</td>\n",
       "      <td>2.184675</td>\n",
       "      <td>41.4072723936, 2.18467549219</td>\n",
       "      <td>(41.4072723936, 2.18467549219)</td>\n",
       "      <td>False</td>\n",
       "      <td>Laboral</td>\n",
       "    </tr>\n",
       "    <tr>\n",
       "      <th>7</th>\n",
       "      <td>2010S008282</td>\n",
       "      <td>10</td>\n",
       "      <td>Sant Martí</td>\n",
       "      <td>101-10-64</td>\n",
       "      <td>el Camp de l'Arpa del Clot</td>\n",
       "      <td>209900</td>\n",
       "      <td>Meridiana</td>\n",
       "      <td>0117B0117B</td>\n",
       "      <td>Dimecres</td>\n",
       "      <td>3</td>\n",
       "      <td>...</td>\n",
       "      <td>432006,68</td>\n",
       "      <td>20101201</td>\n",
       "      <td>01/12/2010</td>\n",
       "      <td>432006,68/4584429,71</td>\n",
       "      <td>41.408539</td>\n",
       "      <td>2.186492</td>\n",
       "      <td>41.4085394572, 2.18649248012</td>\n",
       "      <td>(41.4085394572, 2.18649248012)</td>\n",
       "      <td>False</td>\n",
       "      <td>Laboral</td>\n",
       "    </tr>\n",
       "    <tr>\n",
       "      <th>8</th>\n",
       "      <td>2010S005209</td>\n",
       "      <td>10</td>\n",
       "      <td>Sant Martí</td>\n",
       "      <td>101-10-64</td>\n",
       "      <td>el Camp de l'Arpa del Clot</td>\n",
       "      <td>117802</td>\n",
       "      <td>Eterna Memòria</td>\n",
       "      <td>0003 0003</td>\n",
       "      <td>Dilluns</td>\n",
       "      <td>1</td>\n",
       "      <td>...</td>\n",
       "      <td>431617,20</td>\n",
       "      <td>20100726</td>\n",
       "      <td>26/07/2010</td>\n",
       "      <td>431617,20/4584955,54</td>\n",
       "      <td>41.413242</td>\n",
       "      <td>2.181774</td>\n",
       "      <td>41.4132423965, 2.18177356633</td>\n",
       "      <td>(41.4132423965, 2.18177356633)</td>\n",
       "      <td>False</td>\n",
       "      <td>Laboral</td>\n",
       "    </tr>\n",
       "    <tr>\n",
       "      <th>9</th>\n",
       "      <td>2010S005380</td>\n",
       "      <td>10</td>\n",
       "      <td>Sant Martí</td>\n",
       "      <td>102-10-72</td>\n",
       "      <td>Sant Martí de Provençals</td>\n",
       "      <td>115603</td>\n",
       "      <td>Espronceda</td>\n",
       "      <td>0214 0222</td>\n",
       "      <td>Diumenge</td>\n",
       "      <td>7</td>\n",
       "      <td>...</td>\n",
       "      <td>432846,04</td>\n",
       "      <td>20100801</td>\n",
       "      <td>01/08/2010</td>\n",
       "      <td>432846,04/4584763,24</td>\n",
       "      <td>41.411614</td>\n",
       "      <td>2.196497</td>\n",
       "      <td>41.4116140269, 2.19649705323</td>\n",
       "      <td>(41.4116140269, 2.19649705323)</td>\n",
       "      <td>False</td>\n",
       "      <td>Festiu</td>\n",
       "    </tr>\n",
       "    <tr>\n",
       "      <th>10</th>\n",
       "      <td>2010S001378</td>\n",
       "      <td>10</td>\n",
       "      <td>Sant Martí</td>\n",
       "      <td>101-10-65</td>\n",
       "      <td>el Clot</td>\n",
       "      <td>161101</td>\n",
       "      <td>Independència</td>\n",
       "      <td>0250 0250</td>\n",
       "      <td>Dijous</td>\n",
       "      <td>4</td>\n",
       "      <td>...</td>\n",
       "      <td>431866,35</td>\n",
       "      <td>20100225</td>\n",
       "      <td>25/02/2010</td>\n",
       "      <td>431866,35/4584249,45</td>\n",
       "      <td>41.406904</td>\n",
       "      <td>2.184834</td>\n",
       "      <td>41.4069040294, 2.18483395608</td>\n",
       "      <td>(41.4069040294, 2.18483395608)</td>\n",
       "      <td>False</td>\n",
       "      <td>Laboral</td>\n",
       "    </tr>\n",
       "    <tr>\n",
       "      <th>11</th>\n",
       "      <td>2010S005793</td>\n",
       "      <td>10</td>\n",
       "      <td>Sant Martí</td>\n",
       "      <td>102-10-72</td>\n",
       "      <td>Sant Martí de Provençals</td>\n",
       "      <td>128106</td>\n",
       "      <td>Fluvià</td>\n",
       "      <td>0236 0276</td>\n",
       "      <td>Dijous</td>\n",
       "      <td>4</td>\n",
       "      <td>...</td>\n",
       "      <td>432696,26</td>\n",
       "      <td>20100826</td>\n",
       "      <td>26/08/2010</td>\n",
       "      <td>432696,26/4585305,95</td>\n",
       "      <td>41.416490</td>\n",
       "      <td>2.194645</td>\n",
       "      <td>41.4164895232, 2.19464471626</td>\n",
       "      <td>(41.4164895232, 2.19464471626)</td>\n",
       "      <td>False</td>\n",
       "      <td>Laboral</td>\n",
       "    </tr>\n",
       "    <tr>\n",
       "      <th>12</th>\n",
       "      <td>2010S008683</td>\n",
       "      <td>10</td>\n",
       "      <td>Sant Martí</td>\n",
       "      <td>101-10-65</td>\n",
       "      <td>el Clot</td>\n",
       "      <td>18505</td>\n",
       "      <td>Aragó</td>\n",
       "      <td>0580 0580</td>\n",
       "      <td>Dijous</td>\n",
       "      <td>4</td>\n",
       "      <td>...</td>\n",
       "      <td>431967,14</td>\n",
       "      <td>20101216</td>\n",
       "      <td>16/12/2010</td>\n",
       "      <td>431967,14/4584351,48</td>\n",
       "      <td>41.407832</td>\n",
       "      <td>2.186028</td>\n",
       "      <td>41.4078315184, 2.18602824337</td>\n",
       "      <td>(41.4078315184, 2.18602824337)</td>\n",
       "      <td>False</td>\n",
       "      <td>Laboral</td>\n",
       "    </tr>\n",
       "    <tr>\n",
       "      <th>13</th>\n",
       "      <td>2010S005973</td>\n",
       "      <td>10</td>\n",
       "      <td>Sant Martí</td>\n",
       "      <td>101-10-65</td>\n",
       "      <td>el Clot</td>\n",
       "      <td>18505</td>\n",
       "      <td>Aragó</td>\n",
       "      <td>0580 0580</td>\n",
       "      <td>Divendres</td>\n",
       "      <td>5</td>\n",
       "      <td>...</td>\n",
       "      <td>431967,14</td>\n",
       "      <td>20100903</td>\n",
       "      <td>03/09/2010</td>\n",
       "      <td>431967,14/4584351,48</td>\n",
       "      <td>41.407832</td>\n",
       "      <td>2.186028</td>\n",
       "      <td>41.4078315184, 2.18602824337</td>\n",
       "      <td>(41.4078315184, 2.18602824337)</td>\n",
       "      <td>False</td>\n",
       "      <td>Laboral</td>\n",
       "    </tr>\n",
       "    <tr>\n",
       "      <th>14</th>\n",
       "      <td>2010S007464</td>\n",
       "      <td>10</td>\n",
       "      <td>Sant Martí</td>\n",
       "      <td>102-10-72</td>\n",
       "      <td>Sant Martí de Provençals</td>\n",
       "      <td>169409</td>\n",
       "      <td>Corts Catalanes</td>\n",
       "      <td>1039 1039</td>\n",
       "      <td>Dimecres</td>\n",
       "      <td>3</td>\n",
       "      <td>...</td>\n",
       "      <td>433214,70</td>\n",
       "      <td>20101103</td>\n",
       "      <td>03/11/2010</td>\n",
       "      <td>433214,70/4585084,58</td>\n",
       "      <td>41.414539</td>\n",
       "      <td>2.200872</td>\n",
       "      <td>41.4145389624, 2.20087221801</td>\n",
       "      <td>(41.4145389624, 2.20087221801)</td>\n",
       "      <td>False</td>\n",
       "      <td>Laboral</td>\n",
       "    </tr>\n",
       "    <tr>\n",
       "      <th>15</th>\n",
       "      <td>2010S001994</td>\n",
       "      <td>10</td>\n",
       "      <td>Sant Martí</td>\n",
       "      <td>101-10-64</td>\n",
       "      <td>el Camp de l'Arpa del Clot</td>\n",
       "      <td>209900</td>\n",
       "      <td>Meridiana</td>\n",
       "      <td>0135B0135B</td>\n",
       "      <td>Dilluns</td>\n",
       "      <td>1</td>\n",
       "      <td>...</td>\n",
       "      <td>432013,58</td>\n",
       "      <td>20100322</td>\n",
       "      <td>22/03/2010</td>\n",
       "      <td>432013,58/4584566,28</td>\n",
       "      <td>41.409770</td>\n",
       "      <td>2.186560</td>\n",
       "      <td>41.4097700841, 2.18655968378</td>\n",
       "      <td>(41.4097700841, 2.18655968378)</td>\n",
       "      <td>False</td>\n",
       "      <td>Laboral</td>\n",
       "    </tr>\n",
       "    <tr>\n",
       "      <th>16</th>\n",
       "      <td>2010S006543</td>\n",
       "      <td>10</td>\n",
       "      <td>Sant Martí</td>\n",
       "      <td>101-10-65</td>\n",
       "      <td>el Clot</td>\n",
       "      <td>115603</td>\n",
       "      <td>Espronceda</td>\n",
       "      <td>0287 0291</td>\n",
       "      <td>Dimarts</td>\n",
       "      <td>2</td>\n",
       "      <td>...</td>\n",
       "      <td>432569,36</td>\n",
       "      <td>20100928</td>\n",
       "      <td>28/09/2010</td>\n",
       "      <td>432569,36/4585010,02</td>\n",
       "      <td>41.413814</td>\n",
       "      <td>2.193159</td>\n",
       "      <td>41.4138135342, 2.19315936323</td>\n",
       "      <td>(41.4138135342, 2.19315936323)</td>\n",
       "      <td>False</td>\n",
       "      <td>Laboral</td>\n",
       "    </tr>\n",
       "    <tr>\n",
       "      <th>17</th>\n",
       "      <td>2010S004478</td>\n",
       "      <td>10</td>\n",
       "      <td>Sant Martí</td>\n",
       "      <td>101-10-65</td>\n",
       "      <td>el Clot</td>\n",
       "      <td>81603</td>\n",
       "      <td>Clot</td>\n",
       "      <td>0130 0142</td>\n",
       "      <td>Dilluns</td>\n",
       "      <td>1</td>\n",
       "      <td>...</td>\n",
       "      <td>432244,78</td>\n",
       "      <td>20100628</td>\n",
       "      <td>28/06/2010</td>\n",
       "      <td>432244,78/4584609,50</td>\n",
       "      <td>41.410179</td>\n",
       "      <td>2.189321</td>\n",
       "      <td>41.4101788759, 2.18932082796</td>\n",
       "      <td>(41.4101788759, 2.18932082796)</td>\n",
       "      <td>False</td>\n",
       "      <td>Laboral</td>\n",
       "    </tr>\n",
       "    <tr>\n",
       "      <th>18</th>\n",
       "      <td>2010S000278</td>\n",
       "      <td>10</td>\n",
       "      <td>Sant Martí</td>\n",
       "      <td>101-10-65</td>\n",
       "      <td>el Clot</td>\n",
       "      <td>209900</td>\n",
       "      <td>Meridiana</td>\n",
       "      <td>0156 0156</td>\n",
       "      <td>Dijous</td>\n",
       "      <td>4</td>\n",
       "      <td>...</td>\n",
       "      <td>432067,35</td>\n",
       "      <td>20100114</td>\n",
       "      <td>14/01/2010</td>\n",
       "      <td>432067,35/4584638,62</td>\n",
       "      <td>41.410426</td>\n",
       "      <td>2.187195</td>\n",
       "      <td>41.4104261741, 2.18719484483</td>\n",
       "      <td>(41.4104261741, 2.18719484483)</td>\n",
       "      <td>False</td>\n",
       "      <td>Laboral</td>\n",
       "    </tr>\n",
       "    <tr>\n",
       "      <th>19</th>\n",
       "      <td>2010S008914</td>\n",
       "      <td>10</td>\n",
       "      <td>Sant Martí</td>\n",
       "      <td>101-10-65</td>\n",
       "      <td>el Clot</td>\n",
       "      <td>209900</td>\n",
       "      <td>Meridiana</td>\n",
       "      <td>0158 0158</td>\n",
       "      <td>Dijous</td>\n",
       "      <td>4</td>\n",
       "      <td>...</td>\n",
       "      <td>432067,47</td>\n",
       "      <td>20101223</td>\n",
       "      <td>23/12/2010</td>\n",
       "      <td>432067,47/4584689,55</td>\n",
       "      <td>41.410885</td>\n",
       "      <td>2.187191</td>\n",
       "      <td>41.4108848948, 2.18719056263</td>\n",
       "      <td>(41.4108848948, 2.18719056263)</td>\n",
       "      <td>False</td>\n",
       "      <td>Laboral</td>\n",
       "    </tr>\n",
       "    <tr>\n",
       "      <th>20</th>\n",
       "      <td>2010S005430</td>\n",
       "      <td>10</td>\n",
       "      <td>Sant Martí</td>\n",
       "      <td>101-10-65</td>\n",
       "      <td>el Clot</td>\n",
       "      <td>209900</td>\n",
       "      <td>Meridiana</td>\n",
       "      <td>0158 0158</td>\n",
       "      <td>Dimecres</td>\n",
       "      <td>3</td>\n",
       "      <td>...</td>\n",
       "      <td>432067,47</td>\n",
       "      <td>20100804</td>\n",
       "      <td>04/08/2010</td>\n",
       "      <td>432067,47/4584689,55</td>\n",
       "      <td>41.410885</td>\n",
       "      <td>2.187191</td>\n",
       "      <td>41.4108848948, 2.18719056263</td>\n",
       "      <td>(41.4108848948, 2.18719056263)</td>\n",
       "      <td>False</td>\n",
       "      <td>Laboral</td>\n",
       "    </tr>\n",
       "    <tr>\n",
       "      <th>21</th>\n",
       "      <td>2010S001879</td>\n",
       "      <td>10</td>\n",
       "      <td>Sant Martí</td>\n",
       "      <td>103-10-70</td>\n",
       "      <td>el Besòs i el Maresme</td>\n",
       "      <td>701266</td>\n",
       "      <td>Litoral (Llobregat)</td>\n",
       "      <td>000580000</td>\n",
       "      <td>Dijous</td>\n",
       "      <td>4</td>\n",
       "      <td>...</td>\n",
       "      <td>434777,74</td>\n",
       "      <td>20100318</td>\n",
       "      <td>18/03/2010</td>\n",
       "      <td>434777,74/4584270,79</td>\n",
       "      <td>41.407338</td>\n",
       "      <td>2.219661</td>\n",
       "      <td>41.4073377283, 2.21966100345</td>\n",
       "      <td>(41.4073377283, 2.21966100345)</td>\n",
       "      <td>False</td>\n",
       "      <td>Laboral</td>\n",
       "    </tr>\n",
       "    <tr>\n",
       "      <th>22</th>\n",
       "      <td>2010S008514</td>\n",
       "      <td>10</td>\n",
       "      <td>Sant Martí</td>\n",
       "      <td>103-10-70</td>\n",
       "      <td>el Besòs i el Maresme</td>\n",
       "      <td>701278</td>\n",
       "      <td>Taulat</td>\n",
       "      <td>0280X0280X</td>\n",
       "      <td>Divendres</td>\n",
       "      <td>5</td>\n",
       "      <td>...</td>\n",
       "      <td>434768,06</td>\n",
       "      <td>20101210</td>\n",
       "      <td>10/12/2010</td>\n",
       "      <td>434768,06/4584682,77</td>\n",
       "      <td>41.411048</td>\n",
       "      <td>2.219501</td>\n",
       "      <td>41.4110475476, 2.21950078863</td>\n",
       "      <td>(41.4110475476, 2.21950078863)</td>\n",
       "      <td>False</td>\n",
       "      <td>Laboral</td>\n",
       "    </tr>\n",
       "    <tr>\n",
       "      <th>23</th>\n",
       "      <td>2010S004560</td>\n",
       "      <td>10</td>\n",
       "      <td>Sant Martí</td>\n",
       "      <td>102-10-73</td>\n",
       "      <td>la Verneda i la Pau</td>\n",
       "      <td>57802</td>\n",
       "      <td>Camp Arriassa</td>\n",
       "      <td>0087 0087</td>\n",
       "      <td>Dimecres</td>\n",
       "      <td>3</td>\n",
       "      <td>...</td>\n",
       "      <td>433451,64</td>\n",
       "      <td>20100630</td>\n",
       "      <td>30/06/2010</td>\n",
       "      <td>433451,64/4586127,38</td>\n",
       "      <td>41.423951</td>\n",
       "      <td>2.203592</td>\n",
       "      <td>41.4239508144, 2.20359235153</td>\n",
       "      <td>(41.4239508144, 2.20359235153)</td>\n",
       "      <td>False</td>\n",
       "      <td>Laboral</td>\n",
       "    </tr>\n",
       "    <tr>\n",
       "      <th>24</th>\n",
       "      <td>2010S004427</td>\n",
       "      <td>10</td>\n",
       "      <td>Sant Martí</td>\n",
       "      <td>102-10-73</td>\n",
       "      <td>la Verneda i la Pau</td>\n",
       "      <td>60807</td>\n",
       "      <td>Cantàbria</td>\n",
       "      <td>0053 0055</td>\n",
       "      <td>Divendres</td>\n",
       "      <td>5</td>\n",
       "      <td>...</td>\n",
       "      <td>432990,22</td>\n",
       "      <td>20100625</td>\n",
       "      <td>25/06/2010</td>\n",
       "      <td>432990,22/4585957,44</td>\n",
       "      <td>41.422382</td>\n",
       "      <td>2.198090</td>\n",
       "      <td>41.4223818627, 2.1980897245</td>\n",
       "      <td>(41.4223818627, 2.1980897245)</td>\n",
       "      <td>False</td>\n",
       "      <td>Laboral</td>\n",
       "    </tr>\n",
       "    <tr>\n",
       "      <th>25</th>\n",
       "      <td>2010S008354</td>\n",
       "      <td>10</td>\n",
       "      <td>Sant Martí</td>\n",
       "      <td>102-10-72</td>\n",
       "      <td>Sant Martí de Provençals</td>\n",
       "      <td>60807</td>\n",
       "      <td>Cantàbria</td>\n",
       "      <td>0001 0001</td>\n",
       "      <td>Divendres</td>\n",
       "      <td>5</td>\n",
       "      <td>...</td>\n",
       "      <td>433506,17</td>\n",
       "      <td>20101203</td>\n",
       "      <td>03/12/2010</td>\n",
       "      <td>433506,17/4585391,11</td>\n",
       "      <td>41.417324</td>\n",
       "      <td>2.204326</td>\n",
       "      <td>41.4173239604, 2.20432582133</td>\n",
       "      <td>(41.4173239604, 2.20432582133)</td>\n",
       "      <td>False</td>\n",
       "      <td>Laboral</td>\n",
       "    </tr>\n",
       "    <tr>\n",
       "      <th>26</th>\n",
       "      <td>2010S005355</td>\n",
       "      <td>10</td>\n",
       "      <td>Sant Martí</td>\n",
       "      <td>102-10-73</td>\n",
       "      <td>la Verneda i la Pau</td>\n",
       "      <td>153205</td>\n",
       "      <td>Guipúscoa</td>\n",
       "      <td>0123 0125</td>\n",
       "      <td>Dissabte</td>\n",
       "      <td>6</td>\n",
       "      <td>...</td>\n",
       "      <td>433409,45</td>\n",
       "      <td>20100731</td>\n",
       "      <td>31/07/2010</td>\n",
       "      <td>433409,45/4585814,97</td>\n",
       "      <td>41.421134</td>\n",
       "      <td>2.203122</td>\n",
       "      <td>41.4211335344, 2.20312189747</td>\n",
       "      <td>(41.4211335344, 2.20312189747)</td>\n",
       "      <td>False</td>\n",
       "      <td>Festiu</td>\n",
       "    </tr>\n",
       "    <tr>\n",
       "      <th>27</th>\n",
       "      <td>2010S007118</td>\n",
       "      <td>10</td>\n",
       "      <td>Sant Martí</td>\n",
       "      <td>102-10-73</td>\n",
       "      <td>la Verneda i la Pau</td>\n",
       "      <td>270107</td>\n",
       "      <td>Puigcerdà</td>\n",
       "      <td>0252 0268</td>\n",
       "      <td>Dimecres</td>\n",
       "      <td>3</td>\n",
       "      <td>...</td>\n",
       "      <td>433359,28</td>\n",
       "      <td>20101020</td>\n",
       "      <td>20/10/2010</td>\n",
       "      <td>433359,28/4585777,85</td>\n",
       "      <td>41.420795</td>\n",
       "      <td>2.202526</td>\n",
       "      <td>41.4207950459, 2.20252566742</td>\n",
       "      <td>(41.4207950459, 2.20252566742)</td>\n",
       "      <td>False</td>\n",
       "      <td>Laboral</td>\n",
       "    </tr>\n",
       "    <tr>\n",
       "      <th>28</th>\n",
       "      <td>2010S004404</td>\n",
       "      <td>10</td>\n",
       "      <td>Sant Martí</td>\n",
       "      <td>102-10-73</td>\n",
       "      <td>la Verneda i la Pau</td>\n",
       "      <td>195409</td>\n",
       "      <td>Maresme</td>\n",
       "      <td>0220 0220</td>\n",
       "      <td>Dijous</td>\n",
       "      <td>4</td>\n",
       "      <td>...</td>\n",
       "      <td>433586,62</td>\n",
       "      <td>20100624</td>\n",
       "      <td>24/06/2010</td>\n",
       "      <td>433586,62/4585728,89</td>\n",
       "      <td>41.420373</td>\n",
       "      <td>2.205251</td>\n",
       "      <td>41.4203729012, 2.20525131856</td>\n",
       "      <td>(41.4203729012, 2.20525131856)</td>\n",
       "      <td>False</td>\n",
       "      <td>Festiu</td>\n",
       "    </tr>\n",
       "    <tr>\n",
       "      <th>29</th>\n",
       "      <td>2010S003155</td>\n",
       "      <td>10</td>\n",
       "      <td>Sant Martí</td>\n",
       "      <td>102-10-73</td>\n",
       "      <td>la Verneda i la Pau</td>\n",
       "      <td>208205</td>\n",
       "      <td>Menorca</td>\n",
       "      <td>0088X0088X</td>\n",
       "      <td>Diumenge</td>\n",
       "      <td>7</td>\n",
       "      <td>...</td>\n",
       "      <td>433167,73</td>\n",
       "      <td>20100509</td>\n",
       "      <td>09/05/2010</td>\n",
       "      <td>433167,73/4585895,75</td>\n",
       "      <td>41.421841</td>\n",
       "      <td>2.200221</td>\n",
       "      <td>41.4218410253, 2.20022061683</td>\n",
       "      <td>(41.4218410253, 2.20022061683)</td>\n",
       "      <td>False</td>\n",
       "      <td>Festiu</td>\n",
       "    </tr>\n",
       "    <tr>\n",
       "      <th>...</th>\n",
       "      <td>...</td>\n",
       "      <td>...</td>\n",
       "      <td>...</td>\n",
       "      <td>...</td>\n",
       "      <td>...</td>\n",
       "      <td>...</td>\n",
       "      <td>...</td>\n",
       "      <td>...</td>\n",
       "      <td>...</td>\n",
       "      <td>...</td>\n",
       "      <td>...</td>\n",
       "      <td>...</td>\n",
       "      <td>...</td>\n",
       "      <td>...</td>\n",
       "      <td>...</td>\n",
       "      <td>...</td>\n",
       "      <td>...</td>\n",
       "      <td>...</td>\n",
       "      <td>...</td>\n",
       "      <td>...</td>\n",
       "      <td>...</td>\n",
       "    </tr>\n",
       "    <tr>\n",
       "      <th>9026</th>\n",
       "      <td>2010S004144</td>\n",
       "      <td>9</td>\n",
       "      <td>Sant Andreu</td>\n",
       "      <td>91-9-62</td>\n",
       "      <td>el Congrés i els Indians</td>\n",
       "      <td>121402</td>\n",
       "      <td>Felip II</td>\n",
       "      <td>0178 0178</td>\n",
       "      <td>Dilluns</td>\n",
       "      <td>1</td>\n",
       "      <td>...</td>\n",
       "      <td>431562,07</td>\n",
       "      <td>20100614</td>\n",
       "      <td>14/06/2010</td>\n",
       "      <td>431562,07/4586277,12</td>\n",
       "      <td>41.425141</td>\n",
       "      <td>2.180964</td>\n",
       "      <td>41.4251407243, 2.1809644389</td>\n",
       "      <td>(41.4251407243, 2.1809644389)</td>\n",
       "      <td>False</td>\n",
       "      <td>Laboral</td>\n",
       "    </tr>\n",
       "    <tr>\n",
       "      <th>9027</th>\n",
       "      <td>2010S001042</td>\n",
       "      <td>9</td>\n",
       "      <td>Sant Andreu</td>\n",
       "      <td>91-9-61</td>\n",
       "      <td>la Sagrera</td>\n",
       "      <td>169908</td>\n",
       "      <td>Josep Estivill</td>\n",
       "      <td>0077 0077</td>\n",
       "      <td>Dijous</td>\n",
       "      <td>4</td>\n",
       "      <td>...</td>\n",
       "      <td>432388,58</td>\n",
       "      <td>20100211</td>\n",
       "      <td>11/02/2010</td>\n",
       "      <td>432388,58/4585817,10</td>\n",
       "      <td>41.421067</td>\n",
       "      <td>2.190906</td>\n",
       "      <td>41.4210674602, 2.19090623592</td>\n",
       "      <td>(41.4210674602, 2.19090623592)</td>\n",
       "      <td>False</td>\n",
       "      <td>Laboral</td>\n",
       "    </tr>\n",
       "    <tr>\n",
       "      <th>9028</th>\n",
       "      <td>2010S002760</td>\n",
       "      <td>9</td>\n",
       "      <td>Sant Andreu</td>\n",
       "      <td>91-9-61</td>\n",
       "      <td>la Sagrera</td>\n",
       "      <td>39709</td>\n",
       "      <td>Berenguer de Palou</td>\n",
       "      <td>0073 0073</td>\n",
       "      <td>Divendres</td>\n",
       "      <td>5</td>\n",
       "      <td>...</td>\n",
       "      <td>432451,23</td>\n",
       "      <td>20100423</td>\n",
       "      <td>23/04/2010</td>\n",
       "      <td>432451,23/4586239,55</td>\n",
       "      <td>41.424878</td>\n",
       "      <td>2.191609</td>\n",
       "      <td>41.4248776005, 2.1916086963</td>\n",
       "      <td>(41.4248776005, 2.1916086963)</td>\n",
       "      <td>False</td>\n",
       "      <td>Laboral</td>\n",
       "    </tr>\n",
       "    <tr>\n",
       "      <th>9029</th>\n",
       "      <td>2010S002570</td>\n",
       "      <td>9</td>\n",
       "      <td>Sant Andreu</td>\n",
       "      <td>91-9-61</td>\n",
       "      <td>la Sagrera</td>\n",
       "      <td>39709</td>\n",
       "      <td>Berenguer de Palou</td>\n",
       "      <td>0097 0099</td>\n",
       "      <td>Dissabte</td>\n",
       "      <td>6</td>\n",
       "      <td>...</td>\n",
       "      <td>432448,71</td>\n",
       "      <td>20100417</td>\n",
       "      <td>17/04/2010</td>\n",
       "      <td>432448,71/4586331,13</td>\n",
       "      <td>41.425702</td>\n",
       "      <td>2.191568</td>\n",
       "      <td>41.4257022197, 2.19156830959</td>\n",
       "      <td>(41.4257022197, 2.19156830959)</td>\n",
       "      <td>False</td>\n",
       "      <td>Festiu</td>\n",
       "    </tr>\n",
       "    <tr>\n",
       "      <th>9030</th>\n",
       "      <td>2010S008859</td>\n",
       "      <td>9</td>\n",
       "      <td>Sant Andreu</td>\n",
       "      <td>91-9-62</td>\n",
       "      <td>el Congrés i els Indians</td>\n",
       "      <td>121402</td>\n",
       "      <td>Felip II</td>\n",
       "      <td>0136B0136B</td>\n",
       "      <td>Dimecres</td>\n",
       "      <td>3</td>\n",
       "      <td>...</td>\n",
       "      <td>431763,81</td>\n",
       "      <td>20101222</td>\n",
       "      <td>22/12/2010</td>\n",
       "      <td>431763,81/4586069,16</td>\n",
       "      <td>41.423285</td>\n",
       "      <td>2.183402</td>\n",
       "      <td>41.4232848612, 2.18340200837</td>\n",
       "      <td>(41.4232848612, 2.18340200837)</td>\n",
       "      <td>False</td>\n",
       "      <td>Laboral</td>\n",
       "    </tr>\n",
       "    <tr>\n",
       "      <th>9031</th>\n",
       "      <td>2010S006761</td>\n",
       "      <td>8</td>\n",
       "      <td>Nou Barris</td>\n",
       "      <td>84-8-47</td>\n",
       "      <td>Can Peguera</td>\n",
       "      <td>79805</td>\n",
       "      <td>Cistellet</td>\n",
       "      <td>0010 0010</td>\n",
       "      <td>Dimarts</td>\n",
       "      <td>2</td>\n",
       "      <td>...</td>\n",
       "      <td>430277,97</td>\n",
       "      <td>20101005</td>\n",
       "      <td>05/10/2010</td>\n",
       "      <td>430277,97/4587379,18</td>\n",
       "      <td>41.434956</td>\n",
       "      <td>2.165471</td>\n",
       "      <td>41.4349561253, 2.1654713234</td>\n",
       "      <td>(41.4349561253, 2.1654713234)</td>\n",
       "      <td>False</td>\n",
       "      <td>Laboral</td>\n",
       "    </tr>\n",
       "    <tr>\n",
       "      <th>9032</th>\n",
       "      <td>2010S004912</td>\n",
       "      <td>9</td>\n",
       "      <td>Sant Andreu</td>\n",
       "      <td>92-9-60</td>\n",
       "      <td>Sant Andreu</td>\n",
       "      <td>295709</td>\n",
       "      <td>Sant Adrià</td>\n",
       "      <td>0026X0026X</td>\n",
       "      <td>Dimecres</td>\n",
       "      <td>3</td>\n",
       "      <td>...</td>\n",
       "      <td>432555,46</td>\n",
       "      <td>20100714</td>\n",
       "      <td>14/07/2010</td>\n",
       "      <td>432555,46/4587268,97</td>\n",
       "      <td>41.434158</td>\n",
       "      <td>2.192741</td>\n",
       "      <td>41.4341580032, 2.19274110127</td>\n",
       "      <td>(41.4341580032, 2.19274110127)</td>\n",
       "      <td>False</td>\n",
       "      <td>Laboral</td>\n",
       "    </tr>\n",
       "    <tr>\n",
       "      <th>9033</th>\n",
       "      <td>2010S002373</td>\n",
       "      <td>9</td>\n",
       "      <td>Sant Andreu</td>\n",
       "      <td>92-9-60</td>\n",
       "      <td>Sant Andreu</td>\n",
       "      <td>201603</td>\n",
       "      <td>Onze de Setembre</td>\n",
       "      <td>0060 0060</td>\n",
       "      <td>Divendres</td>\n",
       "      <td>5</td>\n",
       "      <td>...</td>\n",
       "      <td>432491,27</td>\n",
       "      <td>20100409</td>\n",
       "      <td>09/04/2010</td>\n",
       "      <td>432491,27/4586830,81</td>\n",
       "      <td>41.430206</td>\n",
       "      <td>2.192022</td>\n",
       "      <td>41.4302062503, 2.19202180791</td>\n",
       "      <td>(41.4302062503, 2.19202180791)</td>\n",
       "      <td>False</td>\n",
       "      <td>Laboral</td>\n",
       "    </tr>\n",
       "    <tr>\n",
       "      <th>9034</th>\n",
       "      <td>2010S001047</td>\n",
       "      <td>9</td>\n",
       "      <td>Sant Andreu</td>\n",
       "      <td>92-9-60</td>\n",
       "      <td>Sant Andreu</td>\n",
       "      <td>170758</td>\n",
       "      <td>Josep Soldevila</td>\n",
       "      <td>0011U0011U</td>\n",
       "      <td>Dijous</td>\n",
       "      <td>4</td>\n",
       "      <td>...</td>\n",
       "      <td>432817,25</td>\n",
       "      <td>20100211</td>\n",
       "      <td>11/02/2010</td>\n",
       "      <td>432817,25/4586613,98</td>\n",
       "      <td>41.428281</td>\n",
       "      <td>2.195947</td>\n",
       "      <td>41.428280665, 2.19594702723</td>\n",
       "      <td>(41.428280665, 2.19594702723)</td>\n",
       "      <td>False</td>\n",
       "      <td>Laboral</td>\n",
       "    </tr>\n",
       "    <tr>\n",
       "      <th>9035</th>\n",
       "      <td>2010S004850</td>\n",
       "      <td>9</td>\n",
       "      <td>Sant Andreu</td>\n",
       "      <td>91-9-63</td>\n",
       "      <td>Navas</td>\n",
       "      <td>224100</td>\n",
       "      <td>Múrcia</td>\n",
       "      <td>0060 0060</td>\n",
       "      <td>Dilluns</td>\n",
       "      <td>1</td>\n",
       "      <td>...</td>\n",
       "      <td>432387,45</td>\n",
       "      <td>20100712</td>\n",
       "      <td>12/07/2010</td>\n",
       "      <td>432387,45/4585333,67</td>\n",
       "      <td>41.416713</td>\n",
       "      <td>2.190947</td>\n",
       "      <td>41.416713265, 2.19094675566</td>\n",
       "      <td>(41.416713265, 2.19094675566)</td>\n",
       "      <td>False</td>\n",
       "      <td>Laboral</td>\n",
       "    </tr>\n",
       "    <tr>\n",
       "      <th>9036</th>\n",
       "      <td>2010S001326</td>\n",
       "      <td>9</td>\n",
       "      <td>Sant Andreu</td>\n",
       "      <td>91-9-63</td>\n",
       "      <td>Navas</td>\n",
       "      <td>86108</td>\n",
       "      <td>Concepción Arenal</td>\n",
       "      <td>0066B0066B</td>\n",
       "      <td>Dimarts</td>\n",
       "      <td>2</td>\n",
       "      <td>...</td>\n",
       "      <td>431816,82</td>\n",
       "      <td>20100223</td>\n",
       "      <td>23/02/2010</td>\n",
       "      <td>431816,82/4585967,19</td>\n",
       "      <td>41.422371</td>\n",
       "      <td>2.184048</td>\n",
       "      <td>41.4223709528, 2.18404782673</td>\n",
       "      <td>(41.4223709528, 2.18404782673)</td>\n",
       "      <td>False</td>\n",
       "      <td>Laboral</td>\n",
       "    </tr>\n",
       "    <tr>\n",
       "      <th>9037</th>\n",
       "      <td>2010S000076</td>\n",
       "      <td>9</td>\n",
       "      <td>Sant Andreu</td>\n",
       "      <td>91-9-63</td>\n",
       "      <td>Navas</td>\n",
       "      <td>297001</td>\n",
       "      <td>Sant Antoni Maria Claret</td>\n",
       "      <td>0355 0355</td>\n",
       "      <td>Dimarts</td>\n",
       "      <td>2</td>\n",
       "      <td>...</td>\n",
       "      <td>432017,66</td>\n",
       "      <td>20100105</td>\n",
       "      <td>05/01/2010</td>\n",
       "      <td>432017,66/4585740,57</td>\n",
       "      <td>41.420347</td>\n",
       "      <td>2.186477</td>\n",
       "      <td>41.4203468811, 2.18647653309</td>\n",
       "      <td>(41.4203468811, 2.18647653309)</td>\n",
       "      <td>False</td>\n",
       "      <td>Laboral</td>\n",
       "    </tr>\n",
       "    <tr>\n",
       "      <th>9038</th>\n",
       "      <td>2010S002864</td>\n",
       "      <td>9</td>\n",
       "      <td>Sant Andreu</td>\n",
       "      <td>91-9-62</td>\n",
       "      <td>el Congrés i els Indians</td>\n",
       "      <td>194406</td>\n",
       "      <td>Maragall</td>\n",
       "      <td>0098 0098</td>\n",
       "      <td>Dimecres</td>\n",
       "      <td>3</td>\n",
       "      <td>...</td>\n",
       "      <td>431528,38</td>\n",
       "      <td>20100428</td>\n",
       "      <td>28/04/2010</td>\n",
       "      <td>431528,38/4585790,87</td>\n",
       "      <td>41.420758</td>\n",
       "      <td>2.180616</td>\n",
       "      <td>41.4207583689, 2.18061634912</td>\n",
       "      <td>(41.4207583689, 2.18061634912)</td>\n",
       "      <td>False</td>\n",
       "      <td>Laboral</td>\n",
       "    </tr>\n",
       "    <tr>\n",
       "      <th>9039</th>\n",
       "      <td>2010S003927</td>\n",
       "      <td>9</td>\n",
       "      <td>Sant Andreu</td>\n",
       "      <td>92-9-60</td>\n",
       "      <td>Sant Andreu</td>\n",
       "      <td>296202</td>\n",
       "      <td>Gran de Sant Andreu</td>\n",
       "      <td>0281 0293</td>\n",
       "      <td>Dilluns</td>\n",
       "      <td>1</td>\n",
       "      <td>...</td>\n",
       "      <td>432296,08</td>\n",
       "      <td>20100607</td>\n",
       "      <td>07/06/2010</td>\n",
       "      <td>432296,08/4587503,24</td>\n",
       "      <td>41.436246</td>\n",
       "      <td>2.189611</td>\n",
       "      <td>41.4362461669, 2.18961057561</td>\n",
       "      <td>(41.4362461669, 2.18961057561)</td>\n",
       "      <td>False</td>\n",
       "      <td>Laboral</td>\n",
       "    </tr>\n",
       "    <tr>\n",
       "      <th>9040</th>\n",
       "      <td>2010S006919</td>\n",
       "      <td>9</td>\n",
       "      <td>Sant Andreu</td>\n",
       "      <td>92-9-60</td>\n",
       "      <td>Sant Andreu</td>\n",
       "      <td>209900</td>\n",
       "      <td>Meridiana</td>\n",
       "      <td>0450 0454</td>\n",
       "      <td>Dilluns</td>\n",
       "      <td>1</td>\n",
       "      <td>...</td>\n",
       "      <td>431836,35</td>\n",
       "      <td>20101011</td>\n",
       "      <td>11/10/2010</td>\n",
       "      <td>431836,35/4587280,53</td>\n",
       "      <td>41.434201</td>\n",
       "      <td>2.184133</td>\n",
       "      <td>41.4342014063, 2.18413344023</td>\n",
       "      <td>(41.4342014063, 2.18413344023)</td>\n",
       "      <td>True</td>\n",
       "      <td>Laboral</td>\n",
       "    </tr>\n",
       "    <tr>\n",
       "      <th>9041</th>\n",
       "      <td>2010S001845</td>\n",
       "      <td>9</td>\n",
       "      <td>Sant Andreu</td>\n",
       "      <td>92-9-60</td>\n",
       "      <td>Sant Andreu</td>\n",
       "      <td>208307</td>\n",
       "      <td>Mercadal</td>\n",
       "      <td>0020 0020</td>\n",
       "      <td>Dimecres</td>\n",
       "      <td>3</td>\n",
       "      <td>...</td>\n",
       "      <td>432162,08</td>\n",
       "      <td>20100317</td>\n",
       "      <td>17/03/2010</td>\n",
       "      <td>432162,08/4587346,23</td>\n",
       "      <td>41.434821</td>\n",
       "      <td>2.188024</td>\n",
       "      <td>41.4348207241, 2.18802442726</td>\n",
       "      <td>(41.4348207241, 2.18802442726)</td>\n",
       "      <td>False</td>\n",
       "      <td>Laboral</td>\n",
       "    </tr>\n",
       "    <tr>\n",
       "      <th>9042</th>\n",
       "      <td>2010S002524</td>\n",
       "      <td>9</td>\n",
       "      <td>Sant Andreu</td>\n",
       "      <td>92-9-60</td>\n",
       "      <td>Sant Andreu</td>\n",
       "      <td>339101</td>\n",
       "      <td>Torras i Bages</td>\n",
       "      <td>0017 0019</td>\n",
       "      <td>Dijous</td>\n",
       "      <td>4</td>\n",
       "      <td>...</td>\n",
       "      <td>432410,65</td>\n",
       "      <td>20100415</td>\n",
       "      <td>15/04/2010</td>\n",
       "      <td>432410,65/4587615,14</td>\n",
       "      <td>41.437264</td>\n",
       "      <td>2.190969</td>\n",
       "      <td>41.4372636627, 2.19096928656</td>\n",
       "      <td>(41.4372636627, 2.19096928656)</td>\n",
       "      <td>False</td>\n",
       "      <td>Laboral</td>\n",
       "    </tr>\n",
       "    <tr>\n",
       "      <th>9043</th>\n",
       "      <td>2010S001662</td>\n",
       "      <td>9</td>\n",
       "      <td>Sant Andreu</td>\n",
       "      <td>92-9-60</td>\n",
       "      <td>Sant Andreu</td>\n",
       "      <td>339101</td>\n",
       "      <td>Torras i Bages</td>\n",
       "      <td>0025 0027</td>\n",
       "      <td>Dimarts</td>\n",
       "      <td>2</td>\n",
       "      <td>...</td>\n",
       "      <td>432408,09</td>\n",
       "      <td>20100309</td>\n",
       "      <td>09/03/2010</td>\n",
       "      <td>432408,09/4587675,82</td>\n",
       "      <td>41.437810</td>\n",
       "      <td>2.190932</td>\n",
       "      <td>41.4378099709, 2.1909318593</td>\n",
       "      <td>(41.4378099709, 2.1909318593)</td>\n",
       "      <td>False</td>\n",
       "      <td>Laboral</td>\n",
       "    </tr>\n",
       "    <tr>\n",
       "      <th>9044</th>\n",
       "      <td>2010S005075</td>\n",
       "      <td>9</td>\n",
       "      <td>Sant Andreu</td>\n",
       "      <td>92-9-60</td>\n",
       "      <td>Sant Andreu</td>\n",
       "      <td>15052</td>\n",
       "      <td>Andana de l'Estació</td>\n",
       "      <td>0002 0002</td>\n",
       "      <td>Dimecres</td>\n",
       "      <td>3</td>\n",
       "      <td>...</td>\n",
       "      <td>432688,25</td>\n",
       "      <td>20100721</td>\n",
       "      <td>21/07/2010</td>\n",
       "      <td>432688,25/4588607,38</td>\n",
       "      <td>41.446224</td>\n",
       "      <td>2.194181</td>\n",
       "      <td>41.4462237421, 2.19418123303</td>\n",
       "      <td>(41.4462237421, 2.19418123303)</td>\n",
       "      <td>False</td>\n",
       "      <td>Laboral</td>\n",
       "    </tr>\n",
       "    <tr>\n",
       "      <th>9045</th>\n",
       "      <td>2010S005002</td>\n",
       "      <td>9</td>\n",
       "      <td>Sant Andreu</td>\n",
       "      <td>92-9-60</td>\n",
       "      <td>Sant Andreu</td>\n",
       "      <td>209900</td>\n",
       "      <td>Meridiana</td>\n",
       "      <td>0574 0578</td>\n",
       "      <td>Diumenge</td>\n",
       "      <td>7</td>\n",
       "      <td>...</td>\n",
       "      <td>432061,83</td>\n",
       "      <td>20100718</td>\n",
       "      <td>18/07/2010</td>\n",
       "      <td>432061,83/4588195,29</td>\n",
       "      <td>41.442459</td>\n",
       "      <td>2.186729</td>\n",
       "      <td>41.4424594284, 2.18672915048</td>\n",
       "      <td>(41.4424594284, 2.18672915048)</td>\n",
       "      <td>False</td>\n",
       "      <td>Festiu</td>\n",
       "    </tr>\n",
       "    <tr>\n",
       "      <th>9046</th>\n",
       "      <td>2010S005254</td>\n",
       "      <td>9</td>\n",
       "      <td>Sant Andreu</td>\n",
       "      <td>92-9-60</td>\n",
       "      <td>Sant Andreu</td>\n",
       "      <td>209900</td>\n",
       "      <td>Meridiana</td>\n",
       "      <td>0580 0584</td>\n",
       "      <td>Dimarts</td>\n",
       "      <td>2</td>\n",
       "      <td>...</td>\n",
       "      <td>432068,77</td>\n",
       "      <td>20100727</td>\n",
       "      <td>27/07/2010</td>\n",
       "      <td>432068,77/4588222,36</td>\n",
       "      <td>41.442704</td>\n",
       "      <td>2.186809</td>\n",
       "      <td>41.4427038253, 2.1868091755</td>\n",
       "      <td>(41.4427038253, 2.1868091755)</td>\n",
       "      <td>False</td>\n",
       "      <td>Laboral</td>\n",
       "    </tr>\n",
       "    <tr>\n",
       "      <th>9047</th>\n",
       "      <td>2010S000930</td>\n",
       "      <td>9</td>\n",
       "      <td>Sant Andreu</td>\n",
       "      <td>92-9-60</td>\n",
       "      <td>Sant Andreu</td>\n",
       "      <td>314100</td>\n",
       "      <td>Santa Coloma</td>\n",
       "      <td>0046 0046</td>\n",
       "      <td>Dilluns</td>\n",
       "      <td>1</td>\n",
       "      <td>...</td>\n",
       "      <td>432612,00</td>\n",
       "      <td>20100208</td>\n",
       "      <td>08/02/2010</td>\n",
       "      <td>432612,00/4588590,56</td>\n",
       "      <td>41.446066</td>\n",
       "      <td>2.193270</td>\n",
       "      <td>41.4460658531, 2.19327037384</td>\n",
       "      <td>(41.4460658531, 2.19327037384)</td>\n",
       "      <td>False</td>\n",
       "      <td>Laboral</td>\n",
       "    </tr>\n",
       "    <tr>\n",
       "      <th>9048</th>\n",
       "      <td>2010S007145</td>\n",
       "      <td>9</td>\n",
       "      <td>Sant Andreu</td>\n",
       "      <td>93-9-57</td>\n",
       "      <td>la Trinitat Vella</td>\n",
       "      <td>281409</td>\n",
       "      <td>Ribes</td>\n",
       "      <td>0053 0053</td>\n",
       "      <td>Dijous</td>\n",
       "      <td>4</td>\n",
       "      <td>...</td>\n",
       "      <td>432304,92</td>\n",
       "      <td>20101021</td>\n",
       "      <td>21/10/2010</td>\n",
       "      <td>432304,92/4588780,43</td>\n",
       "      <td>41.447750</td>\n",
       "      <td>2.189573</td>\n",
       "      <td>41.447750106, 2.18957326314</td>\n",
       "      <td>(41.447750106, 2.18957326314)</td>\n",
       "      <td>False</td>\n",
       "      <td>Laboral</td>\n",
       "    </tr>\n",
       "    <tr>\n",
       "      <th>9049</th>\n",
       "      <td>2010S004077</td>\n",
       "      <td>9</td>\n",
       "      <td>Sant Andreu</td>\n",
       "      <td>93-9-57</td>\n",
       "      <td>la Trinitat Vella</td>\n",
       "      <td>34400</td>\n",
       "      <td>Bàrcino</td>\n",
       "      <td>0092B0092B</td>\n",
       "      <td>Divendres</td>\n",
       "      <td>5</td>\n",
       "      <td>...</td>\n",
       "      <td>432596,17</td>\n",
       "      <td>20100611</td>\n",
       "      <td>11/06/2010</td>\n",
       "      <td>432596,17/4588933,55</td>\n",
       "      <td>41.449154</td>\n",
       "      <td>2.193043</td>\n",
       "      <td>41.449153712, 2.19304260564</td>\n",
       "      <td>(41.449153712, 2.19304260564)</td>\n",
       "      <td>False</td>\n",
       "      <td>Laboral</td>\n",
       "    </tr>\n",
       "    <tr>\n",
       "      <th>9050</th>\n",
       "      <td>2010S001097</td>\n",
       "      <td>9</td>\n",
       "      <td>Sant Andreu</td>\n",
       "      <td>93-9-57</td>\n",
       "      <td>la Trinitat Vella</td>\n",
       "      <td>34400</td>\n",
       "      <td>Bàrcino</td>\n",
       "      <td>0094I0094I</td>\n",
       "      <td>Dissabte</td>\n",
       "      <td>6</td>\n",
       "      <td>...</td>\n",
       "      <td>432630,86</td>\n",
       "      <td>20100213</td>\n",
       "      <td>13/02/2010</td>\n",
       "      <td>432630,86/4588803,16</td>\n",
       "      <td>41.447982</td>\n",
       "      <td>2.193472</td>\n",
       "      <td>41.4479822484, 2.19347241934</td>\n",
       "      <td>(41.4479822484, 2.19347241934)</td>\n",
       "      <td>False</td>\n",
       "      <td>Festiu</td>\n",
       "    </tr>\n",
       "    <tr>\n",
       "      <th>9051</th>\n",
       "      <td>2010S004496</td>\n",
       "      <td>9</td>\n",
       "      <td>Sant Andreu</td>\n",
       "      <td>93-9-57</td>\n",
       "      <td>la Trinitat Vella</td>\n",
       "      <td>701267</td>\n",
       "      <td>Dalt (Besòs)</td>\n",
       "      <td>001600000</td>\n",
       "      <td>Dimarts</td>\n",
       "      <td>2</td>\n",
       "      <td>...</td>\n",
       "      <td>432614,40</td>\n",
       "      <td>20100629</td>\n",
       "      <td>29/06/2010</td>\n",
       "      <td>432614,40/4588730,35</td>\n",
       "      <td>41.447325</td>\n",
       "      <td>2.193284</td>\n",
       "      <td>41.4473250932, 2.19328350644</td>\n",
       "      <td>(41.4473250932, 2.19328350644)</td>\n",
       "      <td>False</td>\n",
       "      <td>Laboral</td>\n",
       "    </tr>\n",
       "    <tr>\n",
       "      <th>9052</th>\n",
       "      <td>2010S004253</td>\n",
       "      <td>9</td>\n",
       "      <td>Sant Andreu</td>\n",
       "      <td>92-9-60</td>\n",
       "      <td>Sant Andreu</td>\n",
       "      <td>176404</td>\n",
       "      <td>Llenguadoc</td>\n",
       "      <td>0110 0118</td>\n",
       "      <td>Divendres</td>\n",
       "      <td>5</td>\n",
       "      <td>...</td>\n",
       "      <td>431894,29</td>\n",
       "      <td>20100618</td>\n",
       "      <td>18/06/2010</td>\n",
       "      <td>431894,29/4586850,65</td>\n",
       "      <td>41.430335</td>\n",
       "      <td>2.184875</td>\n",
       "      <td>41.4303345445, 2.18487530817</td>\n",
       "      <td>(41.4303345445, 2.18487530817)</td>\n",
       "      <td>False</td>\n",
       "      <td>Laboral</td>\n",
       "    </tr>\n",
       "    <tr>\n",
       "      <th>9053</th>\n",
       "      <td>2010S008126</td>\n",
       "      <td>9</td>\n",
       "      <td>Sant Andreu</td>\n",
       "      <td>92-9-60</td>\n",
       "      <td>Sant Andreu</td>\n",
       "      <td>296202</td>\n",
       "      <td>Gran de Sant Andreu</td>\n",
       "      <td>0113 0115</td>\n",
       "      <td>Dijous</td>\n",
       "      <td>4</td>\n",
       "      <td>...</td>\n",
       "      <td>432269,90</td>\n",
       "      <td>20101125</td>\n",
       "      <td>25/11/2010</td>\n",
       "      <td>432269,90/4586917,03</td>\n",
       "      <td>41.430964</td>\n",
       "      <td>2.189363</td>\n",
       "      <td>41.4309641679, 2.18936293438</td>\n",
       "      <td>(41.4309641679, 2.18936293438)</td>\n",
       "      <td>False</td>\n",
       "      <td>Laboral</td>\n",
       "    </tr>\n",
       "    <tr>\n",
       "      <th>9054</th>\n",
       "      <td>2010S004114</td>\n",
       "      <td>9</td>\n",
       "      <td>Sant Andreu</td>\n",
       "      <td>93-9-59</td>\n",
       "      <td>el Bon Pastor</td>\n",
       "      <td>63850</td>\n",
       "      <td>Caracas</td>\n",
       "      <td>0026 0026</td>\n",
       "      <td>Dissabte</td>\n",
       "      <td>6</td>\n",
       "      <td>...</td>\n",
       "      <td>433411,20</td>\n",
       "      <td>20100612</td>\n",
       "      <td>12/06/2010</td>\n",
       "      <td>433411,20/4588302,58</td>\n",
       "      <td>41.443539</td>\n",
       "      <td>2.202869</td>\n",
       "      <td>41.4435388049, 2.2028687806</td>\n",
       "      <td>(41.4435388049, 2.2028687806)</td>\n",
       "      <td>False</td>\n",
       "      <td>Festiu</td>\n",
       "    </tr>\n",
       "    <tr>\n",
       "      <th>9055</th>\n",
       "      <td>2010S008469</td>\n",
       "      <td>9</td>\n",
       "      <td>Sant Andreu</td>\n",
       "      <td>93-9-58</td>\n",
       "      <td>Baró de Viver</td>\n",
       "      <td>701631</td>\n",
       "      <td>Pilar Miró</td>\n",
       "      <td>0004 0004</td>\n",
       "      <td>Dijous</td>\n",
       "      <td>4</td>\n",
       "      <td>...</td>\n",
       "      <td>433325,28</td>\n",
       "      <td>20101209</td>\n",
       "      <td>09/12/2010</td>\n",
       "      <td>433325,28/4588789,93</td>\n",
       "      <td>41.447921</td>\n",
       "      <td>2.201787</td>\n",
       "      <td>41.4479210713, 2.20178653584</td>\n",
       "      <td>(41.4479210713, 2.20178653584)</td>\n",
       "      <td>True</td>\n",
       "      <td>Laboral</td>\n",
       "    </tr>\n",
       "  </tbody>\n",
       "</table>\n",
       "<p>9056 rows × 34 columns</p>\n",
       "</div>"
      ],
      "text/plain": [
       "     NumeroDexpedient  CodiDistricte NomDistricte    NkBarri  \\\n",
       "0         2010S003688             10   Sant Martí  101-10-64   \n",
       "1         2010S007597             10   Sant Martí  101-10-64   \n",
       "2         2010S001390             10   Sant Martí  101-10-64   \n",
       "3         2010S005416             10   Sant Martí  101-10-64   \n",
       "4         2010S008924             10   Sant Martí  101-10-64   \n",
       "5         2010S004500             10   Sant Martí  101-10-64   \n",
       "6         2010S000794             10   Sant Martí  101-10-64   \n",
       "7         2010S008282             10   Sant Martí  101-10-64   \n",
       "8         2010S005209             10   Sant Martí  101-10-64   \n",
       "9         2010S005380             10   Sant Martí  102-10-72   \n",
       "10        2010S001378             10   Sant Martí  101-10-65   \n",
       "11        2010S005793             10   Sant Martí  102-10-72   \n",
       "12        2010S008683             10   Sant Martí  101-10-65   \n",
       "13        2010S005973             10   Sant Martí  101-10-65   \n",
       "14        2010S007464             10   Sant Martí  102-10-72   \n",
       "15        2010S001994             10   Sant Martí  101-10-64   \n",
       "16        2010S006543             10   Sant Martí  101-10-65   \n",
       "17        2010S004478             10   Sant Martí  101-10-65   \n",
       "18        2010S000278             10   Sant Martí  101-10-65   \n",
       "19        2010S008914             10   Sant Martí  101-10-65   \n",
       "20        2010S005430             10   Sant Martí  101-10-65   \n",
       "21        2010S001879             10   Sant Martí  103-10-70   \n",
       "22        2010S008514             10   Sant Martí  103-10-70   \n",
       "23        2010S004560             10   Sant Martí  102-10-73   \n",
       "24        2010S004427             10   Sant Martí  102-10-73   \n",
       "25        2010S008354             10   Sant Martí  102-10-72   \n",
       "26        2010S005355             10   Sant Martí  102-10-73   \n",
       "27        2010S007118             10   Sant Martí  102-10-73   \n",
       "28        2010S004404             10   Sant Martí  102-10-73   \n",
       "29        2010S003155             10   Sant Martí  102-10-73   \n",
       "...               ...            ...          ...        ...   \n",
       "9026      2010S004144              9  Sant Andreu    91-9-62   \n",
       "9027      2010S001042              9  Sant Andreu    91-9-61   \n",
       "9028      2010S002760              9  Sant Andreu    91-9-61   \n",
       "9029      2010S002570              9  Sant Andreu    91-9-61   \n",
       "9030      2010S008859              9  Sant Andreu    91-9-62   \n",
       "9031      2010S006761              8   Nou Barris    84-8-47   \n",
       "9032      2010S004912              9  Sant Andreu    92-9-60   \n",
       "9033      2010S002373              9  Sant Andreu    92-9-60   \n",
       "9034      2010S001047              9  Sant Andreu    92-9-60   \n",
       "9035      2010S004850              9  Sant Andreu    91-9-63   \n",
       "9036      2010S001326              9  Sant Andreu    91-9-63   \n",
       "9037      2010S000076              9  Sant Andreu    91-9-63   \n",
       "9038      2010S002864              9  Sant Andreu    91-9-62   \n",
       "9039      2010S003927              9  Sant Andreu    92-9-60   \n",
       "9040      2010S006919              9  Sant Andreu    92-9-60   \n",
       "9041      2010S001845              9  Sant Andreu    92-9-60   \n",
       "9042      2010S002524              9  Sant Andreu    92-9-60   \n",
       "9043      2010S001662              9  Sant Andreu    92-9-60   \n",
       "9044      2010S005075              9  Sant Andreu    92-9-60   \n",
       "9045      2010S005002              9  Sant Andreu    92-9-60   \n",
       "9046      2010S005254              9  Sant Andreu    92-9-60   \n",
       "9047      2010S000930              9  Sant Andreu    92-9-60   \n",
       "9048      2010S007145              9  Sant Andreu    93-9-57   \n",
       "9049      2010S004077              9  Sant Andreu    93-9-57   \n",
       "9050      2010S001097              9  Sant Andreu    93-9-57   \n",
       "9051      2010S004496              9  Sant Andreu    93-9-57   \n",
       "9052      2010S004253              9  Sant Andreu    92-9-60   \n",
       "9053      2010S008126              9  Sant Andreu    92-9-60   \n",
       "9054      2010S004114              9  Sant Andreu    93-9-59   \n",
       "9055      2010S008469              9  Sant Andreu    93-9-58   \n",
       "\n",
       "                        NomBarri  CodiCarrer                 NomCarrer  \\\n",
       "0     el Camp de l'Arpa del Clot      209900                 Meridiana   \n",
       "1     el Camp de l'Arpa del Clot      346402                  Trinxant   \n",
       "2     el Camp de l'Arpa del Clot      297001  Sant Antoni Maria Claret   \n",
       "3     el Camp de l'Arpa del Clot      134801                    Freser   \n",
       "4     el Camp de l'Arpa del Clot      161407                 Indústria   \n",
       "5     el Camp de l'Arpa del Clot      105304               Dos de Maig   \n",
       "6     el Camp de l'Arpa del Clot       18505                     Aragó   \n",
       "7     el Camp de l'Arpa del Clot      209900                 Meridiana   \n",
       "8     el Camp de l'Arpa del Clot      117802            Eterna Memòria   \n",
       "9       Sant Martí de Provençals      115603                Espronceda   \n",
       "10                       el Clot      161101             Independència   \n",
       "11      Sant Martí de Provençals      128106                    Fluvià   \n",
       "12                       el Clot       18505                     Aragó   \n",
       "13                       el Clot       18505                     Aragó   \n",
       "14      Sant Martí de Provençals      169409           Corts Catalanes   \n",
       "15    el Camp de l'Arpa del Clot      209900                 Meridiana   \n",
       "16                       el Clot      115603                Espronceda   \n",
       "17                       el Clot       81603                      Clot   \n",
       "18                       el Clot      209900                 Meridiana   \n",
       "19                       el Clot      209900                 Meridiana   \n",
       "20                       el Clot      209900                 Meridiana   \n",
       "21         el Besòs i el Maresme      701266       Litoral (Llobregat)   \n",
       "22         el Besòs i el Maresme      701278                    Taulat   \n",
       "23           la Verneda i la Pau       57802             Camp Arriassa   \n",
       "24           la Verneda i la Pau       60807                 Cantàbria   \n",
       "25      Sant Martí de Provençals       60807                 Cantàbria   \n",
       "26           la Verneda i la Pau      153205                 Guipúscoa   \n",
       "27           la Verneda i la Pau      270107                 Puigcerdà   \n",
       "28           la Verneda i la Pau      195409                   Maresme   \n",
       "29           la Verneda i la Pau      208205                   Menorca   \n",
       "...                          ...         ...                       ...   \n",
       "9026    el Congrés i els Indians      121402                  Felip II   \n",
       "9027                  la Sagrera      169908            Josep Estivill   \n",
       "9028                  la Sagrera       39709        Berenguer de Palou   \n",
       "9029                  la Sagrera       39709        Berenguer de Palou   \n",
       "9030    el Congrés i els Indians      121402                  Felip II   \n",
       "9031                 Can Peguera       79805                 Cistellet   \n",
       "9032                 Sant Andreu      295709                Sant Adrià   \n",
       "9033                 Sant Andreu      201603          Onze de Setembre   \n",
       "9034                 Sant Andreu      170758           Josep Soldevila   \n",
       "9035                       Navas      224100                    Múrcia   \n",
       "9036                       Navas       86108         Concepción Arenal   \n",
       "9037                       Navas      297001  Sant Antoni Maria Claret   \n",
       "9038    el Congrés i els Indians      194406                  Maragall   \n",
       "9039                 Sant Andreu      296202       Gran de Sant Andreu   \n",
       "9040                 Sant Andreu      209900                 Meridiana   \n",
       "9041                 Sant Andreu      208307                  Mercadal   \n",
       "9042                 Sant Andreu      339101            Torras i Bages   \n",
       "9043                 Sant Andreu      339101            Torras i Bages   \n",
       "9044                 Sant Andreu       15052       Andana de l'Estació   \n",
       "9045                 Sant Andreu      209900                 Meridiana   \n",
       "9046                 Sant Andreu      209900                 Meridiana   \n",
       "9047                 Sant Andreu      314100              Santa Coloma   \n",
       "9048           la Trinitat Vella      281409                     Ribes   \n",
       "9049           la Trinitat Vella       34400                   Bàrcino   \n",
       "9050           la Trinitat Vella       34400                   Bàrcino   \n",
       "9051           la Trinitat Vella      701267              Dalt (Besòs)   \n",
       "9052                 Sant Andreu      176404                Llenguadoc   \n",
       "9053                 Sant Andreu      296202       Gran de Sant Andreu   \n",
       "9054               el Bon Pastor       63850                   Caracas   \n",
       "9055               Baró de Viver      701631                Pilar Miró   \n",
       "\n",
       "     NumPostalCaption DescripcioDiaSetmana  DiaDeSetmana        ...          \\\n",
       "0           0181 0181            Divendres             5        ...           \n",
       "1           0014 0014              Dilluns             1        ...           \n",
       "2           0314 0316               Dijous             4        ...           \n",
       "3           0007 0007              Dimarts             2        ...           \n",
       "4           0258 0258            Divendres             5        ...           \n",
       "5           0228 0228              Dimarts             2        ...           \n",
       "6           0557 0557             Dimecres             3        ...           \n",
       "7          0117B0117B             Dimecres             3        ...           \n",
       "8           0003 0003              Dilluns             1        ...           \n",
       "9           0214 0222             Diumenge             7        ...           \n",
       "10          0250 0250               Dijous             4        ...           \n",
       "11          0236 0276               Dijous             4        ...           \n",
       "12          0580 0580               Dijous             4        ...           \n",
       "13          0580 0580            Divendres             5        ...           \n",
       "14          1039 1039             Dimecres             3        ...           \n",
       "15         0135B0135B              Dilluns             1        ...           \n",
       "16          0287 0291              Dimarts             2        ...           \n",
       "17          0130 0142              Dilluns             1        ...           \n",
       "18          0156 0156               Dijous             4        ...           \n",
       "19          0158 0158               Dijous             4        ...           \n",
       "20          0158 0158             Dimecres             3        ...           \n",
       "21          000580000               Dijous             4        ...           \n",
       "22         0280X0280X            Divendres             5        ...           \n",
       "23          0087 0087             Dimecres             3        ...           \n",
       "24          0053 0055            Divendres             5        ...           \n",
       "25          0001 0001            Divendres             5        ...           \n",
       "26          0123 0125             Dissabte             6        ...           \n",
       "27          0252 0268             Dimecres             3        ...           \n",
       "28          0220 0220               Dijous             4        ...           \n",
       "29         0088X0088X             Diumenge             7        ...           \n",
       "...               ...                  ...           ...        ...           \n",
       "9026        0178 0178              Dilluns             1        ...           \n",
       "9027        0077 0077               Dijous             4        ...           \n",
       "9028        0073 0073            Divendres             5        ...           \n",
       "9029        0097 0099             Dissabte             6        ...           \n",
       "9030       0136B0136B             Dimecres             3        ...           \n",
       "9031        0010 0010              Dimarts             2        ...           \n",
       "9032       0026X0026X             Dimecres             3        ...           \n",
       "9033        0060 0060            Divendres             5        ...           \n",
       "9034       0011U0011U               Dijous             4        ...           \n",
       "9035        0060 0060              Dilluns             1        ...           \n",
       "9036       0066B0066B              Dimarts             2        ...           \n",
       "9037        0355 0355              Dimarts             2        ...           \n",
       "9038        0098 0098             Dimecres             3        ...           \n",
       "9039        0281 0293              Dilluns             1        ...           \n",
       "9040        0450 0454              Dilluns             1        ...           \n",
       "9041        0020 0020             Dimecres             3        ...           \n",
       "9042        0017 0019               Dijous             4        ...           \n",
       "9043        0025 0027              Dimarts             2        ...           \n",
       "9044        0002 0002             Dimecres             3        ...           \n",
       "9045        0574 0578             Diumenge             7        ...           \n",
       "9046        0580 0584              Dimarts             2        ...           \n",
       "9047        0046 0046              Dilluns             1        ...           \n",
       "9048        0053 0053               Dijous             4        ...           \n",
       "9049       0092B0092B            Divendres             5        ...           \n",
       "9050       0094I0094I             Dissabte             6        ...           \n",
       "9051        001600000              Dimarts             2        ...           \n",
       "9052        0110 0118            Divendres             5        ...           \n",
       "9053        0113 0115               Dijous             4        ...           \n",
       "9054        0026 0026             Dissabte             6        ...           \n",
       "9055        0004 0004               Dijous             4        ...           \n",
       "\n",
       "     CoordenadaUtmx  DataNumeric        Data              CoordUTM        Lat  \\\n",
       "0         432017,96     20100528  28/05/2010  432017,96/4584941,35  41.413149   \n",
       "1         432014,69     20101108  08/11/2010  432014,69/4585041,70  41.414052   \n",
       "2         431401,23     20100225  25/02/2010  431401,23/4585117,42  41.414682   \n",
       "3         431397,75     20100803  03/08/2010  431397,75/4584596,60  41.409991   \n",
       "4         431391,10     20101224  24/12/2010  431391,10/4584932,86  41.413019   \n",
       "5         431675,21     20100629  29/06/2010  431675,21/4584247,30  41.406868   \n",
       "6         431853,49     20100203  03/02/2010  431853,49/4584290,47  41.407272   \n",
       "7         432006,68     20101201  01/12/2010  432006,68/4584429,71  41.408539   \n",
       "8         431617,20     20100726  26/07/2010  431617,20/4584955,54  41.413242   \n",
       "9         432846,04     20100801  01/08/2010  432846,04/4584763,24  41.411614   \n",
       "10        431866,35     20100225  25/02/2010  431866,35/4584249,45  41.406904   \n",
       "11        432696,26     20100826  26/08/2010  432696,26/4585305,95  41.416490   \n",
       "12        431967,14     20101216  16/12/2010  431967,14/4584351,48  41.407832   \n",
       "13        431967,14     20100903  03/09/2010  431967,14/4584351,48  41.407832   \n",
       "14        433214,70     20101103  03/11/2010  433214,70/4585084,58  41.414539   \n",
       "15        432013,58     20100322  22/03/2010  432013,58/4584566,28  41.409770   \n",
       "16        432569,36     20100928  28/09/2010  432569,36/4585010,02  41.413814   \n",
       "17        432244,78     20100628  28/06/2010  432244,78/4584609,50  41.410179   \n",
       "18        432067,35     20100114  14/01/2010  432067,35/4584638,62  41.410426   \n",
       "19        432067,47     20101223  23/12/2010  432067,47/4584689,55  41.410885   \n",
       "20        432067,47     20100804  04/08/2010  432067,47/4584689,55  41.410885   \n",
       "21        434777,74     20100318  18/03/2010  434777,74/4584270,79  41.407338   \n",
       "22        434768,06     20101210  10/12/2010  434768,06/4584682,77  41.411048   \n",
       "23        433451,64     20100630  30/06/2010  433451,64/4586127,38  41.423951   \n",
       "24        432990,22     20100625  25/06/2010  432990,22/4585957,44  41.422382   \n",
       "25        433506,17     20101203  03/12/2010  433506,17/4585391,11  41.417324   \n",
       "26        433409,45     20100731  31/07/2010  433409,45/4585814,97  41.421134   \n",
       "27        433359,28     20101020  20/10/2010  433359,28/4585777,85  41.420795   \n",
       "28        433586,62     20100624  24/06/2010  433586,62/4585728,89  41.420373   \n",
       "29        433167,73     20100509  09/05/2010  433167,73/4585895,75  41.421841   \n",
       "...             ...          ...         ...                   ...        ...   \n",
       "9026      431562,07     20100614  14/06/2010  431562,07/4586277,12  41.425141   \n",
       "9027      432388,58     20100211  11/02/2010  432388,58/4585817,10  41.421067   \n",
       "9028      432451,23     20100423  23/04/2010  432451,23/4586239,55  41.424878   \n",
       "9029      432448,71     20100417  17/04/2010  432448,71/4586331,13  41.425702   \n",
       "9030      431763,81     20101222  22/12/2010  431763,81/4586069,16  41.423285   \n",
       "9031      430277,97     20101005  05/10/2010  430277,97/4587379,18  41.434956   \n",
       "9032      432555,46     20100714  14/07/2010  432555,46/4587268,97  41.434158   \n",
       "9033      432491,27     20100409  09/04/2010  432491,27/4586830,81  41.430206   \n",
       "9034      432817,25     20100211  11/02/2010  432817,25/4586613,98  41.428281   \n",
       "9035      432387,45     20100712  12/07/2010  432387,45/4585333,67  41.416713   \n",
       "9036      431816,82     20100223  23/02/2010  431816,82/4585967,19  41.422371   \n",
       "9037      432017,66     20100105  05/01/2010  432017,66/4585740,57  41.420347   \n",
       "9038      431528,38     20100428  28/04/2010  431528,38/4585790,87  41.420758   \n",
       "9039      432296,08     20100607  07/06/2010  432296,08/4587503,24  41.436246   \n",
       "9040      431836,35     20101011  11/10/2010  431836,35/4587280,53  41.434201   \n",
       "9041      432162,08     20100317  17/03/2010  432162,08/4587346,23  41.434821   \n",
       "9042      432410,65     20100415  15/04/2010  432410,65/4587615,14  41.437264   \n",
       "9043      432408,09     20100309  09/03/2010  432408,09/4587675,82  41.437810   \n",
       "9044      432688,25     20100721  21/07/2010  432688,25/4588607,38  41.446224   \n",
       "9045      432061,83     20100718  18/07/2010  432061,83/4588195,29  41.442459   \n",
       "9046      432068,77     20100727  27/07/2010  432068,77/4588222,36  41.442704   \n",
       "9047      432612,00     20100208  08/02/2010  432612,00/4588590,56  41.446066   \n",
       "9048      432304,92     20101021  21/10/2010  432304,92/4588780,43  41.447750   \n",
       "9049      432596,17     20100611  11/06/2010  432596,17/4588933,55  41.449154   \n",
       "9050      432630,86     20100213  13/02/2010  432630,86/4588803,16  41.447982   \n",
       "9051      432614,40     20100629  29/06/2010  432614,40/4588730,35  41.447325   \n",
       "9052      431894,29     20100618  18/06/2010  431894,29/4586850,65  41.430335   \n",
       "9053      432269,90     20101125  25/11/2010  432269,90/4586917,03  41.430964   \n",
       "9054      433411,20     20100612  12/06/2010  433411,20/4588302,58  41.443539   \n",
       "9055      433325,28     20101209  09/12/2010  433325,28/4588789,93  41.447921   \n",
       "\n",
       "           Lon                     LatLonStr                          LatLon  \\\n",
       "0     2.186570  41.4131485914, 2.18656994324  (41.4131485914, 2.18656994324)   \n",
       "1     2.186520  41.4140521352, 2.18651954367  (41.4140521352, 2.18651954367)   \n",
       "2     2.179171   41.4146819898, 2.1791713009   (41.4146819898, 2.1791713009)   \n",
       "3     2.179189  41.4099908411, 2.17918871781  (41.4099908411, 2.17918871781)   \n",
       "4     2.179071  41.4130188553, 2.17907103082  (41.4130188553, 2.17907103082)   \n",
       "5     2.182548  41.4068684416, 2.18254758042  (41.4068684416, 2.18254758042)   \n",
       "6     2.184675  41.4072723936, 2.18467549219  (41.4072723936, 2.18467549219)   \n",
       "7     2.186492  41.4085394572, 2.18649248012  (41.4085394572, 2.18649248012)   \n",
       "8     2.181774  41.4132423965, 2.18177356633  (41.4132423965, 2.18177356633)   \n",
       "9     2.196497  41.4116140269, 2.19649705323  (41.4116140269, 2.19649705323)   \n",
       "10    2.184834  41.4069040294, 2.18483395608  (41.4069040294, 2.18483395608)   \n",
       "11    2.194645  41.4164895232, 2.19464471626  (41.4164895232, 2.19464471626)   \n",
       "12    2.186028  41.4078315184, 2.18602824337  (41.4078315184, 2.18602824337)   \n",
       "13    2.186028  41.4078315184, 2.18602824337  (41.4078315184, 2.18602824337)   \n",
       "14    2.200872  41.4145389624, 2.20087221801  (41.4145389624, 2.20087221801)   \n",
       "15    2.186560  41.4097700841, 2.18655968378  (41.4097700841, 2.18655968378)   \n",
       "16    2.193159  41.4138135342, 2.19315936323  (41.4138135342, 2.19315936323)   \n",
       "17    2.189321  41.4101788759, 2.18932082796  (41.4101788759, 2.18932082796)   \n",
       "18    2.187195  41.4104261741, 2.18719484483  (41.4104261741, 2.18719484483)   \n",
       "19    2.187191  41.4108848948, 2.18719056263  (41.4108848948, 2.18719056263)   \n",
       "20    2.187191  41.4108848948, 2.18719056263  (41.4108848948, 2.18719056263)   \n",
       "21    2.219661  41.4073377283, 2.21966100345  (41.4073377283, 2.21966100345)   \n",
       "22    2.219501  41.4110475476, 2.21950078863  (41.4110475476, 2.21950078863)   \n",
       "23    2.203592  41.4239508144, 2.20359235153  (41.4239508144, 2.20359235153)   \n",
       "24    2.198090   41.4223818627, 2.1980897245   (41.4223818627, 2.1980897245)   \n",
       "25    2.204326  41.4173239604, 2.20432582133  (41.4173239604, 2.20432582133)   \n",
       "26    2.203122  41.4211335344, 2.20312189747  (41.4211335344, 2.20312189747)   \n",
       "27    2.202526  41.4207950459, 2.20252566742  (41.4207950459, 2.20252566742)   \n",
       "28    2.205251  41.4203729012, 2.20525131856  (41.4203729012, 2.20525131856)   \n",
       "29    2.200221  41.4218410253, 2.20022061683  (41.4218410253, 2.20022061683)   \n",
       "...        ...                           ...                             ...   \n",
       "9026  2.180964   41.4251407243, 2.1809644389   (41.4251407243, 2.1809644389)   \n",
       "9027  2.190906  41.4210674602, 2.19090623592  (41.4210674602, 2.19090623592)   \n",
       "9028  2.191609   41.4248776005, 2.1916086963   (41.4248776005, 2.1916086963)   \n",
       "9029  2.191568  41.4257022197, 2.19156830959  (41.4257022197, 2.19156830959)   \n",
       "9030  2.183402  41.4232848612, 2.18340200837  (41.4232848612, 2.18340200837)   \n",
       "9031  2.165471   41.4349561253, 2.1654713234   (41.4349561253, 2.1654713234)   \n",
       "9032  2.192741  41.4341580032, 2.19274110127  (41.4341580032, 2.19274110127)   \n",
       "9033  2.192022  41.4302062503, 2.19202180791  (41.4302062503, 2.19202180791)   \n",
       "9034  2.195947   41.428280665, 2.19594702723   (41.428280665, 2.19594702723)   \n",
       "9035  2.190947   41.416713265, 2.19094675566   (41.416713265, 2.19094675566)   \n",
       "9036  2.184048  41.4223709528, 2.18404782673  (41.4223709528, 2.18404782673)   \n",
       "9037  2.186477  41.4203468811, 2.18647653309  (41.4203468811, 2.18647653309)   \n",
       "9038  2.180616  41.4207583689, 2.18061634912  (41.4207583689, 2.18061634912)   \n",
       "9039  2.189611  41.4362461669, 2.18961057561  (41.4362461669, 2.18961057561)   \n",
       "9040  2.184133  41.4342014063, 2.18413344023  (41.4342014063, 2.18413344023)   \n",
       "9041  2.188024  41.4348207241, 2.18802442726  (41.4348207241, 2.18802442726)   \n",
       "9042  2.190969  41.4372636627, 2.19096928656  (41.4372636627, 2.19096928656)   \n",
       "9043  2.190932   41.4378099709, 2.1909318593   (41.4378099709, 2.1909318593)   \n",
       "9044  2.194181  41.4462237421, 2.19418123303  (41.4462237421, 2.19418123303)   \n",
       "9045  2.186729  41.4424594284, 2.18672915048  (41.4424594284, 2.18672915048)   \n",
       "9046  2.186809   41.4427038253, 2.1868091755   (41.4427038253, 2.1868091755)   \n",
       "9047  2.193270  41.4460658531, 2.19327037384  (41.4460658531, 2.19327037384)   \n",
       "9048  2.189573   41.447750106, 2.18957326314   (41.447750106, 2.18957326314)   \n",
       "9049  2.193043   41.449153712, 2.19304260564   (41.449153712, 2.19304260564)   \n",
       "9050  2.193472  41.4479822484, 2.19347241934  (41.4479822484, 2.19347241934)   \n",
       "9051  2.193284  41.4473250932, 2.19328350644  (41.4473250932, 2.19328350644)   \n",
       "9052  2.184875  41.4303345445, 2.18487530817  (41.4303345445, 2.18487530817)   \n",
       "9053  2.189363  41.4309641679, 2.18936293438  (41.4309641679, 2.18936293438)   \n",
       "9054  2.202869   41.4435388049, 2.2028687806   (41.4435388049, 2.2028687806)   \n",
       "9055  2.201787  41.4479210713, 2.20178653584  (41.4479210713, 2.20178653584)   \n",
       "\n",
       "      Pluja  DescripciTipusDia  \n",
       "0     False            Laboral  \n",
       "1      True            Laboral  \n",
       "2     False            Laboral  \n",
       "3     False            Laboral  \n",
       "4     False            Laboral  \n",
       "5     False            Laboral  \n",
       "6     False            Laboral  \n",
       "7     False            Laboral  \n",
       "8     False            Laboral  \n",
       "9     False             Festiu  \n",
       "10    False            Laboral  \n",
       "11    False            Laboral  \n",
       "12    False            Laboral  \n",
       "13    False            Laboral  \n",
       "14    False            Laboral  \n",
       "15    False            Laboral  \n",
       "16    False            Laboral  \n",
       "17    False            Laboral  \n",
       "18    False            Laboral  \n",
       "19    False            Laboral  \n",
       "20    False            Laboral  \n",
       "21    False            Laboral  \n",
       "22    False            Laboral  \n",
       "23    False            Laboral  \n",
       "24    False            Laboral  \n",
       "25    False            Laboral  \n",
       "26    False             Festiu  \n",
       "27    False            Laboral  \n",
       "28    False             Festiu  \n",
       "29    False             Festiu  \n",
       "...     ...                ...  \n",
       "9026  False            Laboral  \n",
       "9027  False            Laboral  \n",
       "9028  False            Laboral  \n",
       "9029  False             Festiu  \n",
       "9030  False            Laboral  \n",
       "9031  False            Laboral  \n",
       "9032  False            Laboral  \n",
       "9033  False            Laboral  \n",
       "9034  False            Laboral  \n",
       "9035  False            Laboral  \n",
       "9036  False            Laboral  \n",
       "9037  False            Laboral  \n",
       "9038  False            Laboral  \n",
       "9039  False            Laboral  \n",
       "9040   True            Laboral  \n",
       "9041  False            Laboral  \n",
       "9042  False            Laboral  \n",
       "9043  False            Laboral  \n",
       "9044  False            Laboral  \n",
       "9045  False             Festiu  \n",
       "9046  False            Laboral  \n",
       "9047  False            Laboral  \n",
       "9048  False            Laboral  \n",
       "9049  False            Laboral  \n",
       "9050  False             Festiu  \n",
       "9051  False            Laboral  \n",
       "9052  False            Laboral  \n",
       "9053  False            Laboral  \n",
       "9054  False             Festiu  \n",
       "9055   True            Laboral  \n",
       "\n",
       "[9056 rows x 34 columns]"
      ]
     },
     "execution_count": 6,
     "metadata": {},
     "output_type": "execute_result"
    }
   ],
   "source": [
    "general[0]"
   ]
  },
  {
   "cell_type": "markdown",
   "metadata": {},
   "source": [
    "Monuments Propers\n",
    "--------------\n",
    "Busquem si es troba a prop d'un monument"
   ]
  },
  {
   "cell_type": "code",
   "execution_count": 7,
   "metadata": {
    "collapsed": false
   },
   "outputs": [],
   "source": [
    "monumentsRev={(41.395372, 2.161961):\"Casa Mila\", (41.384171, 2.176306):\"Catedral de Barcelona\", (41.381751, 2.171600):\"Boqueria\", (41.375834, 2.177833):\"monument Cristobal Colon\", (41.413578, 2.153006):\"Parc Güell\",(41.403590, 2.174367): \"Sagrada familia\"}\n",
    "monuments={\"Casa Mila\":(41.395372, 2.161961), \"Catedral de Barcelona\":(41.384171, 2.176306), \"Boqueria\":(41.381751, 2.171600), \"monument Cristobal Colon\":(41.375834, 2.177833), \"Parc Güell\":(41.413578, 2.153006),\"Sagrada familia\":(41.403590, 2.174367)}\n",
    "distMeters=500"
   ]
  },
  {
   "cell_type": "code",
   "execution_count": 8,
   "metadata": {
    "collapsed": false
   },
   "outputs": [],
   "source": [
    "from geopy.distance import vincenty\n",
    "def closerMonument(x):\n",
    "    lastLoc=(0,0)\n",
    "    lastDist=2000\n",
    "    for loc in monumentsRev.keys():\n",
    "        tmpDist=vincenty(loc, x).meters\n",
    "        if tmpDist<= distMeters and tmpDist<lastDist:\n",
    "            lastLoc, lastDist= loc, tmpDist\n",
    "    if lastLoc == (0,0):\n",
    "        return \"\"\n",
    "    return monumentsRev[lastLoc]\n",
    "def closerMonumentDist(x):\n",
    "    lastLoc=(0,0)\n",
    "    lastDist=2000\n",
    "    for loc in monumentsRev.keys():\n",
    "        tmpDist=vincenty(loc, x).meters\n",
    "        if tmpDist<= distMeters and tmpDist<lastDist:\n",
    "            lastLoc, lastDist= loc, tmpDist\n",
    "    if lastLoc == (0,0):\n",
    "        return lastDist\n",
    "    return lastDist\n",
    "    \n",
    "for i in range(sizeYears):\n",
    "    general[i]['MonumentProper']= general[i]['LatLon'].map(closerMonument)\n",
    "    general[i]['DistMonumentProper']= general[i]['LatLon'].map(closerMonumentDist)"
   ]
  },
  {
   "cell_type": "code",
   "execution_count": 9,
   "metadata": {
    "collapsed": false,
    "scrolled": true
   },
   "outputs": [
    {
     "data": {
      "text/plain": [
       "229"
      ]
     },
     "execution_count": 9,
     "metadata": {},
     "output_type": "execute_result"
    }
   ],
   "source": [
    "general[0][general[0]['MonumentProper'] ==\"Sagrada familia\" ].NumeroDexpedient.count()"
   ]
  },
  {
   "cell_type": "code",
   "execution_count": 10,
   "metadata": {
    "collapsed": false,
    "scrolled": true
   },
   "outputs": [
    {
     "name": "stdout",
     "output_type": "stream",
     "text": [
      "NumeroDexpedient              object\n",
      "CodiDistricte                  int64\n",
      "NomDistricte                  object\n",
      "NkBarri                       object\n",
      "NomBarri                      object\n",
      "CodiCarrer                     int64\n",
      "NomCarrer                     object\n",
      "NumPostalCaption              object\n",
      "DescripcioDiaSetmana          object\n",
      "DiaDeSetmana                   int64\n",
      "DescripcioTipusDia            object\n",
      "NkAny                          int64\n",
      "MesDeAny                       int64\n",
      "NomMes                        object\n",
      "DiaDeMes                       int64\n",
      "HoraDeDia                      int64\n",
      "DescripcioTorn                object\n",
      "DescripcioCausaVianant        object\n",
      "NumeroDeMorts                  int64\n",
      "NumeroDeLesionatsLleus         int64\n",
      "NumeroDeLesionatsGreus         int64\n",
      "NumeroDeVictimes               int64\n",
      "NumeroDeVehiclesImplicats      int64\n",
      "CoordenadaUtmy                object\n",
      "CoordenadaUtmx                object\n",
      "DataNumeric                    int64\n",
      "Data                          object\n",
      "CoordUTM                      object\n",
      "Lat                          float64\n",
      "Lon                          float64\n",
      "LatLonStr                     object\n",
      "LatLon                        object\n",
      "Pluja                           bool\n",
      "DescripciTipusDia             object\n",
      "MonumentProper                object\n",
      "DistMonumentProper           float64\n",
      "dtype: object\n",
      "NumeroDexpedient           object\n",
      "CodiDistricte              object\n",
      "NomDistricte               object\n",
      "CodiBarri                  object\n",
      "NomBarri                   object\n",
      "CodiCarrer                 object\n",
      "NomCarrer                  object\n",
      "NumPostalCaption           object\n",
      "DescripcioDiaSetmana       object\n",
      "DiaSetmana                 object\n",
      "DescripcioTipusDia         object\n",
      "NkAny                       int64\n",
      "MesDeAny                    int64\n",
      "NomMes                     object\n",
      "DiaDeMes                    int64\n",
      "HoraDeDia                   int64\n",
      "DescripcioTorn             object\n",
      "DescripcioTipusAccident    object\n",
      "CoordenadaUtmy             object\n",
      "CoordenadaUtmx             object\n",
      "dtype: object\n",
      "CodiDexpedient              object\n",
      "CodiDistricte               object\n",
      "NomDistricte                object\n",
      "CodiBarri                   object\n",
      "NomBarri                    object\n",
      "CodiCarrer                  object\n",
      "NomCarrer                   object\n",
      "NumPostalCaption            object\n",
      "DescripcioDiaSetmana        object\n",
      "DiaSetmana                  object\n",
      "DescripcioTipusDia          object\n",
      "NkAny                        int64\n",
      "MesDeAny                     int64\n",
      "NomMes                      object\n",
      "DiaDeMes                     int64\n",
      "HoraDeDia                    int64\n",
      "DescripcioCausaVianant      object\n",
      "DescripcioTipusDeVehicle    object\n",
      "DescripcioModel             object\n",
      "DescripcioMarca             object\n",
      "DescripcioColor             object\n",
      "DescripcioCarnet            object\n",
      "AntiguitatCarnet            object\n",
      "CoordenadaUtmy              object\n",
      "CoordenadaUtmx              object\n",
      "dtype: object\n",
      "NumeroDexpedient            object\n",
      "CodiDistricte               object\n",
      "NomDistricte                object\n",
      "CodiBarri                   object\n",
      "NomBarri                    object\n",
      "CodiCarrer                  object\n",
      "NomCarrer                   object\n",
      "NumPostalCaption            object\n",
      "DescripciDiaSetmana         object\n",
      "DiaSetmana                  object\n",
      "DescripciTipusDia           object\n",
      "NkAny                        int64\n",
      "MesDeAny                     int64\n",
      "NomMes                      object\n",
      "DiaDeMes                     int64\n",
      "HoraDeDia                    int64\n",
      "DescripciCausaVianant       object\n",
      "DescTipusVehicleImplicat    object\n",
      "DescripcioSexe              object\n",
      "DescripcioTipusPersona      object\n",
      "Edat                        object\n",
      "DescripcioVictimitzacio     object\n",
      "CoordenadaUtmy              object\n",
      "CoordenadaUtmx              object\n",
      "dtype: object\n"
     ]
    }
   ],
   "source": [
    "print general[0].dtypes\n",
    "print tipus[0].dtypes\n",
    "print vehicles[0].dtypes\n",
    "print persones[0].dtypes"
   ]
  },
  {
   "cell_type": "markdown",
   "metadata": {},
   "source": [
    "# Cruïlles de BCN\n"
   ]
  },
  {
   "cell_type": "code",
   "execution_count": null,
   "metadata": {
    "collapsed": false
   },
   "outputs": [
    {
     "name": "stdout",
     "output_type": "stream",
     "text": [
      "Starting Thread-1\n",
      "Starting Thread-2\n",
      "Thread-1: Mon Jun 13 14:20:43 2016\n",
      "Thread-1: Mon Jun 13 14:20:44 2016\n",
      "Thread-1: Mon Jun 13 14:20:45 2016\n",
      "None"
     ]
    }
   ],
   "source": [
    "#!/usr/bin/python\n",
    "\n",
    "import threading\n",
    "import time\n",
    "\n",
    "class myThread (threading.Thread):\n",
    "    def __init__(self, threadID, name, counter):\n",
    "        threading.Thread.__init__(self)\n",
    "        self.threadID = threadID\n",
    "        self.name = name\n",
    "        self.counter = counter\n",
    "    def run(self):\n",
    "        print \"Starting \" + self.name\n",
    "        # Get lock to synchronize threads\n",
    "        threadLock.acquire()\n",
    "        print_time(self.name, self.counter, 3)\n",
    "        # Free lock to release next thread\n",
    "        return 'caca'\n",
    "        threadLock.release()\n",
    "        \n",
    "\n",
    "def print_time(threadName, delay, counter):\n",
    "    while counter:\n",
    "        time.sleep(delay)\n",
    "        print \"%s: %s\" % (threadName, time.ctime(time.time()))\n",
    "        counter -= 1\n",
    "\n",
    "threadLock = threading.Lock()\n",
    "threads = []\n",
    "\n",
    "# Create new threads\n",
    "thread1 = myThread(1, \"Thread-1\", 1)\n",
    "thread2 = myThread(2, \"Thread-2\", 2)\n",
    "\n",
    "# Start new Threads\n",
    "thread1.start()\n",
    "thread2.start()\n",
    "\n",
    "# Add threads to thread list\n",
    "threads.append(thread1)\n",
    "threads.append(thread2)\n",
    "\n",
    "# Wait for all threads to complete\n",
    "for t in threads:\n",
    "    print t.join()\n",
    "print \"Exiting Main Thread\""
   ]
  },
  {
   "cell_type": "code",
   "execution_count": 12,
   "metadata": {
    "collapsed": false
   },
   "outputs": [
    {
     "name": "stdout",
     "output_type": "stream",
     "text": [
      "Starting Thread-1\n",
      "Starting Thread-2\n",
      "Thread-1: Mon Jun 13 14:10:23 2016\n",
      "Thread-1: Mon Jun 13 14:10:24 2016\n",
      "Thread-1: Mon Jun 13 14:10:25 2016\n",
      "Thread-2: Mon Jun 13 14:10:27 2016\n",
      "Thread-2: Mon Jun 13 14:10:29 2016\n",
      "Thread-2: Mon Jun 13 14:10:31 2016\n",
      "Exiting Main Thread\n"
     ]
    }
   ],
   "source": [
    "#!/usr/bin/python\n",
    "\n",
    "import threading\n",
    "import time\n",
    "\n",
    "class myThread (threading.Thread):\n",
    "    def __init__(self, threadID, df, talgo):\n",
    "        threading.Thread.__init__(self)\n",
    "        self.threadID = threadID\n",
    "        self.df=df\n",
    "\n",
    "    def run(self):\n",
    "        print \"Starting \" + self.threadID\n",
    "        # Get lock to synchronize threads\n",
    "        threadLock.acquire()\n",
    "        print_time(df)\n",
    "        # Free lock to release next thread\n",
    "        threadLock.release()\n",
    "\n",
    "def calculateCruillaProxima(threadName, delay, counter):\n",
    "    general[i]['creuaments']=''\n",
    "    for index, info in general[i].iterrows():\n",
    "        general[i].set_value(index, 'creuaments', [(infoCru['lat'],infoCru['lon'])for indexCru, infoCru in cruilles.iterrows() if vincenty(info['LatLon'], (infoCru['lat'],infoCru['lon'])).meters <= 50])\n",
    "\n",
    "\n",
    "threadLock = threading.Lock()\n",
    "threads = []\n",
    "\n",
    "# Create new threads\n",
    "thread1 = myThread(1, \"Thread-1\", 1)\n",
    "thread2 = myThread(2, \"Thread-2\", 2)\n",
    "thread3 = myThread(1, \"Thread-1\", 1)\n",
    "thread4 = myThread(2, \"Thread-2\", 2)\n",
    "# Start new Threads\n",
    "thread1.start()\n",
    "thread2.start()\n",
    "thread3.start()\n",
    "thread4.start()\n",
    "# Add threads to thread list\n",
    "threads.append(thread1)\n",
    "threads.append(thread2)\n",
    "threads.append(thread3)\n",
    "threads.append(thread4)\n",
    "\n",
    "# Wait for all threads to complete\n",
    "for t in threads:\n",
    "    t.join()\n",
    "print \"Exiting Main Thread\""
   ]
  },
  {
   "cell_type": "code",
   "execution_count": 11,
   "metadata": {
    "collapsed": false
   },
   "outputs": [
    {
     "ename": "KeyboardInterrupt",
     "evalue": "",
     "output_type": "error",
     "traceback": [
      "\u001b[1;31m---------------------------------------------------------------------------\u001b[0m",
      "\u001b[1;31mKeyboardInterrupt\u001b[0m                         Traceback (most recent call last)",
      "\u001b[1;32m<ipython-input-11-97aecbd5bc87>\u001b[0m in \u001b[0;36m<module>\u001b[1;34m()\u001b[0m\n\u001b[0;32m      4\u001b[0m     \u001b[0mgeneral\u001b[0m\u001b[1;33m[\u001b[0m\u001b[0mi\u001b[0m\u001b[1;33m]\u001b[0m\u001b[1;33m[\u001b[0m\u001b[1;34m'creuaments'\u001b[0m\u001b[1;33m]\u001b[0m\u001b[1;33m=\u001b[0m\u001b[1;34m''\u001b[0m\u001b[1;33m\u001b[0m\u001b[0m\n\u001b[0;32m      5\u001b[0m     \u001b[1;32mfor\u001b[0m \u001b[0mindex\u001b[0m\u001b[1;33m,\u001b[0m \u001b[0minfo\u001b[0m \u001b[1;32min\u001b[0m \u001b[0mgeneral\u001b[0m\u001b[1;33m[\u001b[0m\u001b[0mi\u001b[0m\u001b[1;33m]\u001b[0m\u001b[1;33m.\u001b[0m\u001b[0miterrows\u001b[0m\u001b[1;33m(\u001b[0m\u001b[1;33m)\u001b[0m\u001b[1;33m:\u001b[0m\u001b[1;33m\u001b[0m\u001b[0m\n\u001b[1;32m----> 6\u001b[1;33m         \u001b[0mgeneral\u001b[0m\u001b[1;33m[\u001b[0m\u001b[0mi\u001b[0m\u001b[1;33m]\u001b[0m\u001b[1;33m.\u001b[0m\u001b[0mset_value\u001b[0m\u001b[1;33m(\u001b[0m\u001b[0mindex\u001b[0m\u001b[1;33m,\u001b[0m \u001b[1;34m'creuaments'\u001b[0m\u001b[1;33m,\u001b[0m \u001b[1;33m[\u001b[0m\u001b[1;33m(\u001b[0m\u001b[0minfoCru\u001b[0m\u001b[1;33m[\u001b[0m\u001b[1;34m'lat'\u001b[0m\u001b[1;33m]\u001b[0m\u001b[1;33m,\u001b[0m\u001b[0minfoCru\u001b[0m\u001b[1;33m[\u001b[0m\u001b[1;34m'lon'\u001b[0m\u001b[1;33m]\u001b[0m\u001b[1;33m)\u001b[0m\u001b[1;32mfor\u001b[0m \u001b[0mindexCru\u001b[0m\u001b[1;33m,\u001b[0m \u001b[0minfoCru\u001b[0m \u001b[1;32min\u001b[0m \u001b[0mcruilles\u001b[0m\u001b[1;33m.\u001b[0m\u001b[0miterrows\u001b[0m\u001b[1;33m(\u001b[0m\u001b[1;33m)\u001b[0m \u001b[1;32mif\u001b[0m \u001b[0mvincenty\u001b[0m\u001b[1;33m(\u001b[0m\u001b[0minfo\u001b[0m\u001b[1;33m[\u001b[0m\u001b[1;34m'LatLon'\u001b[0m\u001b[1;33m]\u001b[0m\u001b[1;33m,\u001b[0m \u001b[1;33m(\u001b[0m\u001b[0minfoCru\u001b[0m\u001b[1;33m[\u001b[0m\u001b[1;34m'lat'\u001b[0m\u001b[1;33m]\u001b[0m\u001b[1;33m,\u001b[0m\u001b[0minfoCru\u001b[0m\u001b[1;33m[\u001b[0m\u001b[1;34m'lon'\u001b[0m\u001b[1;33m]\u001b[0m\u001b[1;33m)\u001b[0m\u001b[1;33m)\u001b[0m\u001b[1;33m.\u001b[0m\u001b[0mmeters\u001b[0m \u001b[1;33m<=\u001b[0m \u001b[1;36m50\u001b[0m\u001b[1;33m]\u001b[0m\u001b[1;33m)\u001b[0m\u001b[1;33m\u001b[0m\u001b[0m\n\u001b[0m\u001b[0;32m      7\u001b[0m     \u001b[0mgeneral\u001b[0m\u001b[1;33m[\u001b[0m\u001b[0mi\u001b[0m\u001b[1;33m]\u001b[0m\u001b[1;33m.\u001b[0m\u001b[0mto_csv\u001b[0m\u001b[1;33m(\u001b[0m\u001b[1;34m'netejats/general201'\u001b[0m\u001b[1;33m+\u001b[0m\u001b[0mi\u001b[0m\u001b[1;33m+\u001b[0m\u001b[1;34m'.csv'\u001b[0m\u001b[1;33m,\u001b[0m \u001b[0mindex\u001b[0m\u001b[1;33m=\u001b[0m\u001b[0mFalse\u001b[0m\u001b[1;33m)\u001b[0m\u001b[1;33m\u001b[0m\u001b[0m\n\u001b[0;32m      8\u001b[0m \u001b[0mcreateJSMultiCruilles\u001b[0m\u001b[1;33m(\u001b[0m\u001b[1;34m'cruillesRadi'\u001b[0m\u001b[1;33m,\u001b[0m \u001b[1;33m(\u001b[0m\u001b[0mpd\u001b[0m\u001b[1;33m.\u001b[0m\u001b[0mconcat\u001b[0m\u001b[1;33m(\u001b[0m\u001b[0mgeneral\u001b[0m\u001b[1;33m.\u001b[0m\u001b[0mvalues\u001b[0m\u001b[1;33m(\u001b[0m\u001b[1;33m)\u001b[0m\u001b[1;33m)\u001b[0m\u001b[1;33m)\u001b[0m\u001b[1;33m.\u001b[0m\u001b[0mgroupby\u001b[0m\u001b[1;33m(\u001b[0m\u001b[1;34m'creuaments'\u001b[0m\u001b[1;33m)\u001b[0m\u001b[1;33m[\u001b[0m\u001b[1;34m'NumeroDexpedient'\u001b[0m\u001b[1;33m]\u001b[0m\u001b[1;33m.\u001b[0m\u001b[0mcount\u001b[0m\u001b[1;33m(\u001b[0m\u001b[1;33m)\u001b[0m\u001b[1;33m.\u001b[0m\u001b[0mkeys\u001b[0m\u001b[1;33m(\u001b[0m\u001b[1;33m)\u001b[0m\u001b[1;33m)\u001b[0m\u001b[1;33m\u001b[0m\u001b[0m\n",
      "\u001b[1;32m/home/nico/anaconda2/lib/python2.7/site-packages/pandas/core/frame.pyc\u001b[0m in \u001b[0;36miterrows\u001b[1;34m(self)\u001b[0m\n\u001b[0;32m    651\u001b[0m         \u001b[0mcolumns\u001b[0m \u001b[1;33m=\u001b[0m \u001b[0mself\u001b[0m\u001b[1;33m.\u001b[0m\u001b[0mcolumns\u001b[0m\u001b[1;33m\u001b[0m\u001b[0m\n\u001b[0;32m    652\u001b[0m         \u001b[1;32mfor\u001b[0m \u001b[0mk\u001b[0m\u001b[1;33m,\u001b[0m \u001b[0mv\u001b[0m \u001b[1;32min\u001b[0m \u001b[0mzip\u001b[0m\u001b[1;33m(\u001b[0m\u001b[0mself\u001b[0m\u001b[1;33m.\u001b[0m\u001b[0mindex\u001b[0m\u001b[1;33m,\u001b[0m \u001b[0mself\u001b[0m\u001b[1;33m.\u001b[0m\u001b[0mvalues\u001b[0m\u001b[1;33m)\u001b[0m\u001b[1;33m:\u001b[0m\u001b[1;33m\u001b[0m\u001b[0m\n\u001b[1;32m--> 653\u001b[1;33m             \u001b[0ms\u001b[0m \u001b[1;33m=\u001b[0m \u001b[0mSeries\u001b[0m\u001b[1;33m(\u001b[0m\u001b[0mv\u001b[0m\u001b[1;33m,\u001b[0m \u001b[0mindex\u001b[0m\u001b[1;33m=\u001b[0m\u001b[0mcolumns\u001b[0m\u001b[1;33m,\u001b[0m \u001b[0mname\u001b[0m\u001b[1;33m=\u001b[0m\u001b[0mk\u001b[0m\u001b[1;33m)\u001b[0m\u001b[1;33m\u001b[0m\u001b[0m\n\u001b[0m\u001b[0;32m    654\u001b[0m             \u001b[1;32myield\u001b[0m \u001b[0mk\u001b[0m\u001b[1;33m,\u001b[0m \u001b[0ms\u001b[0m\u001b[1;33m\u001b[0m\u001b[0m\n\u001b[0;32m    655\u001b[0m \u001b[1;33m\u001b[0m\u001b[0m\n",
      "\u001b[1;32m/home/nico/anaconda2/lib/python2.7/site-packages/pandas/core/series.pyc\u001b[0m in \u001b[0;36m__init__\u001b[1;34m(self, data, index, dtype, name, copy, fastpath)\u001b[0m\n\u001b[0;32m    225\u001b[0m                                        raise_cast_failure=True)\n\u001b[0;32m    226\u001b[0m \u001b[1;33m\u001b[0m\u001b[0m\n\u001b[1;32m--> 227\u001b[1;33m                 \u001b[0mdata\u001b[0m \u001b[1;33m=\u001b[0m \u001b[0mSingleBlockManager\u001b[0m\u001b[1;33m(\u001b[0m\u001b[0mdata\u001b[0m\u001b[1;33m,\u001b[0m \u001b[0mindex\u001b[0m\u001b[1;33m,\u001b[0m \u001b[0mfastpath\u001b[0m\u001b[1;33m=\u001b[0m\u001b[0mTrue\u001b[0m\u001b[1;33m)\u001b[0m\u001b[1;33m\u001b[0m\u001b[0m\n\u001b[0m\u001b[0;32m    228\u001b[0m \u001b[1;33m\u001b[0m\u001b[0m\n\u001b[0;32m    229\u001b[0m         \u001b[0mgeneric\u001b[0m\u001b[1;33m.\u001b[0m\u001b[0mNDFrame\u001b[0m\u001b[1;33m.\u001b[0m\u001b[0m__init__\u001b[0m\u001b[1;33m(\u001b[0m\u001b[0mself\u001b[0m\u001b[1;33m,\u001b[0m \u001b[0mdata\u001b[0m\u001b[1;33m,\u001b[0m \u001b[0mfastpath\u001b[0m\u001b[1;33m=\u001b[0m\u001b[0mTrue\u001b[0m\u001b[1;33m)\u001b[0m\u001b[1;33m\u001b[0m\u001b[0m\n",
      "\u001b[1;32m/home/nico/anaconda2/lib/python2.7/site-packages/pandas/core/internals.pyc\u001b[0m in \u001b[0;36m__init__\u001b[1;34m(self, block, axis, do_integrity_check, fastpath)\u001b[0m\n\u001b[0;32m   3734\u001b[0m             block = make_block(block,\n\u001b[0;32m   3735\u001b[0m                                \u001b[0mplacement\u001b[0m\u001b[1;33m=\u001b[0m\u001b[0mslice\u001b[0m\u001b[1;33m(\u001b[0m\u001b[1;36m0\u001b[0m\u001b[1;33m,\u001b[0m \u001b[0mlen\u001b[0m\u001b[1;33m(\u001b[0m\u001b[0maxis\u001b[0m\u001b[1;33m)\u001b[0m\u001b[1;33m)\u001b[0m\u001b[1;33m,\u001b[0m\u001b[1;33m\u001b[0m\u001b[0m\n\u001b[1;32m-> 3736\u001b[1;33m                                ndim=1, fastpath=True)\n\u001b[0m\u001b[0;32m   3737\u001b[0m \u001b[1;33m\u001b[0m\u001b[0m\n\u001b[0;32m   3738\u001b[0m         \u001b[0mself\u001b[0m\u001b[1;33m.\u001b[0m\u001b[0mblocks\u001b[0m \u001b[1;33m=\u001b[0m \u001b[1;33m[\u001b[0m\u001b[0mblock\u001b[0m\u001b[1;33m]\u001b[0m\u001b[1;33m\u001b[0m\u001b[0m\n",
      "\u001b[1;32m/home/nico/anaconda2/lib/python2.7/site-packages/pandas/core/internals.pyc\u001b[0m in \u001b[0;36mmake_block\u001b[1;34m(values, placement, klass, ndim, dtype, fastpath)\u001b[0m\n\u001b[0;32m   2442\u001b[0m             \u001b[1;32melse\u001b[0m\u001b[1;33m:\u001b[0m\u001b[1;33m\u001b[0m\u001b[0m\n\u001b[0;32m   2443\u001b[0m                 \u001b[0mklass\u001b[0m \u001b[1;33m=\u001b[0m \u001b[0mDatetimeBlock\u001b[0m\u001b[1;33m\u001b[0m\u001b[0m\n\u001b[1;32m-> 2444\u001b[1;33m         \u001b[1;32melif\u001b[0m \u001b[0mis_datetimetz\u001b[0m\u001b[1;33m(\u001b[0m\u001b[0mvalues\u001b[0m\u001b[1;33m)\u001b[0m\u001b[1;33m:\u001b[0m\u001b[1;33m\u001b[0m\u001b[0m\n\u001b[0m\u001b[0;32m   2445\u001b[0m             \u001b[0mklass\u001b[0m \u001b[1;33m=\u001b[0m \u001b[0mDatetimeTZBlock\u001b[0m\u001b[1;33m\u001b[0m\u001b[0m\n\u001b[0;32m   2446\u001b[0m         \u001b[1;32melif\u001b[0m \u001b[0missubclass\u001b[0m\u001b[1;33m(\u001b[0m\u001b[0mvtype\u001b[0m\u001b[1;33m,\u001b[0m \u001b[0mnp\u001b[0m\u001b[1;33m.\u001b[0m\u001b[0mcomplexfloating\u001b[0m\u001b[1;33m)\u001b[0m\u001b[1;33m:\u001b[0m\u001b[1;33m\u001b[0m\u001b[0m\n",
      "\u001b[1;32m/home/nico/anaconda2/lib/python2.7/site-packages/pandas/core/common.pyc\u001b[0m in \u001b[0;36mis_datetimetz\u001b[1;34m(array)\u001b[0m\n\u001b[0;32m   2280\u001b[0m \u001b[1;32mdef\u001b[0m \u001b[0mis_datetimetz\u001b[0m\u001b[1;33m(\u001b[0m\u001b[0marray\u001b[0m\u001b[1;33m)\u001b[0m\u001b[1;33m:\u001b[0m\u001b[1;33m\u001b[0m\u001b[0m\n\u001b[0;32m   2281\u001b[0m     \u001b[1;34m\"\"\" return if we are a datetime with tz array \"\"\"\u001b[0m\u001b[1;33m\u001b[0m\u001b[0m\n\u001b[1;32m-> 2282\u001b[1;33m     \u001b[1;32mreturn\u001b[0m \u001b[1;33m(\u001b[0m\u001b[0misinstance\u001b[0m\u001b[1;33m(\u001b[0m\u001b[0marray\u001b[0m\u001b[1;33m,\u001b[0m \u001b[0mABCDatetimeIndex\u001b[0m\u001b[1;33m)\u001b[0m \u001b[1;32mand\u001b[0m \u001b[0mgetattr\u001b[0m\u001b[1;33m(\u001b[0m\u001b[0marray\u001b[0m\u001b[1;33m,\u001b[0m\u001b[1;34m'tz'\u001b[0m\u001b[1;33m,\u001b[0m\u001b[0mNone\u001b[0m\u001b[1;33m)\u001b[0m \u001b[1;32mis\u001b[0m \u001b[1;32mnot\u001b[0m \u001b[0mNone\u001b[0m\u001b[1;33m)\u001b[0m \u001b[1;32mor\u001b[0m \u001b[0mis_datetime64tz_dtype\u001b[0m\u001b[1;33m(\u001b[0m\u001b[0marray\u001b[0m\u001b[1;33m)\u001b[0m\u001b[1;33m\u001b[0m\u001b[0m\n\u001b[0m\u001b[0;32m   2283\u001b[0m \u001b[1;33m\u001b[0m\u001b[0m\n\u001b[0;32m   2284\u001b[0m \u001b[1;32mdef\u001b[0m \u001b[0mis_internal_type\u001b[0m\u001b[1;33m(\u001b[0m\u001b[0mvalue\u001b[0m\u001b[1;33m)\u001b[0m\u001b[1;33m:\u001b[0m\u001b[1;33m\u001b[0m\u001b[0m\n",
      "\u001b[1;32m/home/nico/anaconda2/lib/python2.7/site-packages/pandas/core/common.pyc\u001b[0m in \u001b[0;36m_check\u001b[1;34m(cls, inst)\u001b[0m\n\u001b[0;32m     69\u001b[0m     \u001b[1;33m@\u001b[0m\u001b[0mclassmethod\u001b[0m\u001b[1;33m\u001b[0m\u001b[0m\n\u001b[0;32m     70\u001b[0m     \u001b[1;32mdef\u001b[0m \u001b[0m_check\u001b[0m\u001b[1;33m(\u001b[0m\u001b[0mcls\u001b[0m\u001b[1;33m,\u001b[0m \u001b[0minst\u001b[0m\u001b[1;33m)\u001b[0m\u001b[1;33m:\u001b[0m\u001b[1;33m\u001b[0m\u001b[0m\n\u001b[1;32m---> 71\u001b[1;33m         \u001b[1;32mreturn\u001b[0m \u001b[0mgetattr\u001b[0m\u001b[1;33m(\u001b[0m\u001b[0minst\u001b[0m\u001b[1;33m,\u001b[0m \u001b[0mattr\u001b[0m\u001b[1;33m,\u001b[0m \u001b[1;34m'_typ'\u001b[0m\u001b[1;33m)\u001b[0m \u001b[1;32min\u001b[0m \u001b[0mcomp\u001b[0m\u001b[1;33m\u001b[0m\u001b[0m\n\u001b[0m\u001b[0;32m     72\u001b[0m     dct = dict(__instancecheck__=_check,\n\u001b[0;32m     73\u001b[0m                __subclasscheck__=_check)\n",
      "\u001b[1;31mKeyboardInterrupt\u001b[0m: "
     ]
    }
   ],
   "source": [
    "from geopy.distance import vincenty\n",
    "import numpy as np\n",
    "for i in range(sizeYears):\n",
    "    general[i]['creuaments']=''\n",
    "    for index, info in general[i].iterrows():\n",
    "        general[i].set_value(index, 'creuaments', [(infoCru['lat'],infoCru['lon'])for indexCru, infoCru in cruilles.iterrows() if vincenty(info['LatLon'], (infoCru['lat'],infoCru['lon'])).meters <= 50])\n",
    "    general[i].to_csv('netejats/general201'+i+'.csv', index=False)\n",
    "createJSMultiCruilles('cruillesRadi', (pd.concat(general.values())).groupby('creuaments')['NumeroDexpedient'].count().keys())"
   ]
  },
  {
   "cell_type": "code",
   "execution_count": null,
   "metadata": {
    "collapsed": true
   },
   "outputs": [],
   "source": [
    "import random\n",
    "def createJSMultiCruilles(name, keys):\n",
    "\n",
    "    #mesosAny={'1':'de Gener','2': 'de Febrer','3': 'de Març','4':\"d'Abril\",'5': 'de Maig','6': 'de Juny','7': 'de Juliol','8': \"d'Agost\",'9': 'de Setembre','10': \"d'Octubre\",'11': 'de Novembre','12': 'de Desembre'}\n",
    "\n",
    "\n",
    "\n",
    "    #print dates\n",
    "    fout= open(name+\"Multi.js\", 'w')\n",
    "    posarComaEntre=False\n",
    "    fout.write('var '+name+' = {\\n')\n",
    "    fout.write('  \"type\": \"FeatureCollection\",\\n')\n",
    "    fout.write('  \"features\": [\\n')\n",
    "    for i in keys:\n",
    "        \n",
    "        \n",
    "        if posarComaEntre:\n",
    "            fout.write(',\\n')\n",
    "        posarComaEntre=True\n",
    "\n",
    "        fout.write('    {\\n')\n",
    "        fout.write('      \"type\": \"Feature\",\\n')\n",
    "        fout.write('      \"properties\": {\\n')\n",
    "        if len (i)==0:\n",
    "            fout.write('        \"color\": \"'+ '#000000\"')\n",
    "            \n",
    "        else:\n",
    "            fout.write('        \"color\": \"'+ '#{:06x}'.format(random.randint(0, 0xffffff))+'\",\\n')\n",
    "            \n",
    "        fout.write('        \"num\": \"'+ str(i)+'\"\\n')\n",
    "        fout.write('      },\\n')\n",
    "        fout.write('      \"geometry\": { \\n')\n",
    "        fout.write('        \"type\":\"MultiPoint\",\\n')\n",
    "        fout.write('        \"coordinates\":[')\n",
    "        posarComa=False\n",
    "        for j in range(sizeYears):\n",
    "            for coord in general[j][general[j]['creuaments']==i]['LatLon']: \n",
    "                if posarComa:\n",
    "                    fout.write(', ')\n",
    "                posarComa=True\n",
    "\n",
    "                #coord=utm.to_latlon(float(str(info[\"Coordenada UTM (X)\"]).replace(',', '.')), float(str(info[\"Coordenada UTM (Y)\"]).replace(',', '.')),  31, 'T')\n",
    "                fout.write('['+\"%.6f\" % coord[1]+', '+\"%.6f\" % coord[0] +']')\n",
    "\n",
    "        fout.write(']\\n      }\\n')\n",
    "        fout.write('    }')            \n",
    "    fout.write('\\n  ]\\n')\n",
    "    fout.write('};')\n",
    "\n",
    "    fout.close()"
   ]
  },
  {
   "cell_type": "markdown",
   "metadata": {},
   "source": [
    "### Eliminació de columnes \n",
    "Eliminem totes les columnes que no necessitarem"
   ]
  },
  {
   "cell_type": "code",
   "execution_count": null,
   "metadata": {
    "collapsed": false,
    "scrolled": false
   },
   "outputs": [],
   "source": [
    "for i in range(sizeYears):\n",
    "    general[i].drop('CoordUTM', axis=1, inplace=True)\n",
    "    '''\n",
    "    persones[i].drop('column_name', axis=1, inplace=True)\n",
    "    tipus[i].drop('column_name', axis=1, inplace=True)\n",
    "    vehicles[i].drop('column_name', axis=1, inplace=True)\n",
    "    '''"
   ]
  },
  {
   "cell_type": "markdown",
   "metadata": {},
   "source": [
    "UTILITIES\n",
    "============="
   ]
  },
  {
   "cell_type": "markdown",
   "metadata": {},
   "source": [
    "General utilities\n",
    "---------------"
   ]
  },
  {
   "cell_type": "code",
   "execution_count": null,
   "metadata": {
    "collapsed": true
   },
   "outputs": [],
   "source": [
    "import random\n",
    "def createJSMulti(name, clusterHere):\n",
    "\n",
    "    #mesosAny={'1':'de Gener','2': 'de Febrer','3': 'de Març','4':\"d'Abril\",'5': 'de Maig','6': 'de Juny','7': 'de Juliol','8': \"d'Agost\",'9': 'de Setembre','10': \"d'Octubre\",'11': 'de Novembre','12': 'de Desembre'}\n",
    "\n",
    "\n",
    "\n",
    "    #print dates\n",
    "    fout= open(name+\"Multi.js\", 'w')\n",
    "    posarComaEntre=False\n",
    "    fout.write('var '+name+' = {\\n')\n",
    "    fout.write('  \"type\": \"FeatureCollection\",\\n')\n",
    "    fout.write('  \"features\": [\\n')\n",
    "    for i in clusterHere.keys():\n",
    "        \n",
    "        \n",
    "        if posarComaEntre:\n",
    "            fout.write(',\\n')\n",
    "        posarComaEntre=True\n",
    "\n",
    "        fout.write('    {\\n')\n",
    "        fout.write('      \"type\": \"Feature\",\\n')\n",
    "        fout.write('      \"properties\": {\\n')\n",
    "        fout.write('        \"color\": \"'+ '#{:06x}'.format(random.randint(0, 0xffffff))+'\",\\n')\n",
    "        fout.write('        \"num\": \"'+ str(i)+'\"\\n')\n",
    "\n",
    "        \n",
    "        fout.write('      },\\n')\n",
    "        fout.write('      \"geometry\": { \\n')\n",
    "        fout.write('        \"type\":\"MultiPoint\",\\n')\n",
    "        fout.write('        \"coordinates\":[')\n",
    "        posarComa=False\n",
    "        for coord in clusterHere[i]: \n",
    "            if posarComa:\n",
    "                fout.write(', ')\n",
    "            posarComa=True\n",
    "            \n",
    "            #coord=utm.to_latlon(float(str(info[\"Coordenada UTM (X)\"]).replace(',', '.')), float(str(info[\"Coordenada UTM (Y)\"]).replace(',', '.')),  31, 'T')\n",
    "            fout.write('['+\"%.6f\" % coord[1]+', '+\"%.6f\" % coord[0] +']')\n",
    "                 \n",
    "        fout.write(']\\n      }\\n')\n",
    "        fout.write('    }')            \n",
    "    fout.write('\\n  ]\\n')\n",
    "    fout.write('};')\n",
    "\n",
    "    fout.close()\n"
   ]
  },
  {
   "cell_type": "markdown",
   "metadata": {},
   "source": [
    "## K-Means"
   ]
  },
  {
   "cell_type": "code",
   "execution_count": 10,
   "metadata": {
    "collapsed": false
   },
   "outputs": [],
   "source": [
    "import numpy as np\n",
    "from sklearn import metrics\n",
    "from sklearn.cluster import KMeans\n",
    "from sklearn.datasets.samples_generator import make_blobs\n",
    "af = KMeans(max_iter=400, n_clusters=1000)\n",
    "def toParArray(x):\n",
    "    return [x[0],x[1]]\n",
    "allCoord=[]\n",
    "for i in range(sizeYears):\n",
    "    allCoord= allCoord + np.array(general[i]['LatLon'].values).tolist()\n",
    "clusterPerAcc=af.fit_predict(allCoord)\n"
   ]
  },
  {
   "cell_type": "code",
   "execution_count": 11,
   "metadata": {
    "collapsed": false
   },
   "outputs": [
    {
     "name": "stdout",
     "output_type": "stream",
     "text": [
      "56285 56285\n",
      "\n",
      "[0, 1, 2, 3, 4, 5, 6, 7, 8, 9, 10, 11, 12, 13, 14, 15, 16, 17, 18, 19, 20, 21, 22, 23, 24, 25, 26, 27, 28, 29, 30, 31, 32, 33, 34, 35, 36, 37, 38, 39, 40, 41, 42, 43, 44, 45, 46, 47, 48, 49, 50, 51, 52, 53, 54, 55, 56, 57, 58, 59, 60, 61, 62, 63, 64, 65, 66, 67, 68, 69, 70, 71, 72, 73, 74, 75, 76, 77, 78, 79, 80, 81, 82, 83, 84, 85, 86, 87, 88, 89, 90, 91, 92, 93, 94, 95, 96, 97, 98, 99, 100, 101, 102, 103, 104, 105, 106, 107, 108, 109, 110, 111, 112, 113, 114, 115, 116, 117, 118, 119, 120, 121, 122, 123, 124, 125, 126, 127, 128, 129, 130, 131, 132, 133, 134, 135, 136, 137, 138, 139, 140, 141, 142, 143, 144, 145, 146, 147, 148, 149, 150, 151, 152, 153, 154, 155, 156, 157, 158, 159, 160, 161, 162, 163, 164, 165, 166, 167, 168, 169, 170, 171, 172, 173, 174, 175, 176, 177, 178, 179, 180, 181, 182, 183, 184, 185, 186, 187, 188, 189, 190, 191, 192, 193, 194, 195, 196, 197, 198, 199, 200, 201, 202, 203, 204, 205, 206, 207, 208, 209, 210, 211, 212, 213, 214, 215, 216, 217, 218, 219, 220, 221, 222, 223, 224, 225, 226, 227, 228, 229, 230, 231, 232, 233, 234, 235, 236, 237, 238, 239, 240, 241, 242, 243, 244, 245, 246, 247, 248, 249, 250, 251, 252, 253, 254, 255, 256, 257, 258, 259, 260, 261, 262, 263, 264, 265, 266, 267, 268, 269, 270, 271, 272, 273, 274, 275, 276, 277, 278, 279, 280, 281, 282, 283, 284, 285, 286, 287, 288, 289, 290, 291, 292, 293, 294, 295, 296, 297, 298, 299, 300, 301, 302, 303, 304, 305, 306, 307, 308, 309, 310, 311, 312, 313, 314, 315, 316, 317, 318, 319, 320, 321, 322, 323, 324, 325, 326, 327, 328, 329, 330, 331, 332, 333, 334, 335, 336, 337, 338, 339, 340, 341, 342, 343, 344, 345, 346, 347, 348, 349, 350, 351, 352, 353, 354, 355, 356, 357, 358, 359, 360, 361, 362, 363, 364, 365, 366, 367, 368, 369, 370, 371, 372, 373, 374, 375, 376, 377, 378, 379, 380, 381, 382, 383, 384, 385, 386, 387, 388, 389, 390, 391, 392, 393, 394, 395, 396, 397, 398, 399, 400, 401, 402, 403, 404, 405, 406, 407, 408, 409, 410, 411, 412, 413, 414, 415, 416, 417, 418, 419, 420, 421, 422, 423, 424, 425, 426, 427, 428, 429, 430, 431, 432, 433, 434, 435, 436, 437, 438, 439, 440, 441, 442, 443, 444, 445, 446, 447, 448, 449, 450, 451, 452, 453, 454, 455, 456, 457, 458, 459, 460, 461, 462, 463, 464, 465, 466, 467, 468, 469, 470, 471, 472, 473, 474, 475, 476, 477, 478, 479, 480, 481, 482, 483, 484, 485, 486, 487, 488, 489, 490, 491, 492, 493, 494, 495, 496, 497, 498, 499, 500, 501, 502, 503, 504, 505, 506, 507, 508, 509, 510, 511, 512, 513, 514, 515, 516, 517, 518, 519, 520, 521, 522, 523, 524, 525, 526, 527, 528, 529, 530, 531, 532, 533, 534, 535, 536, 537, 538, 539, 540, 541, 542, 543, 544, 545, 546, 547, 548, 549, 550, 551, 552, 553, 554, 555, 556, 557, 558, 559, 560, 561, 562, 563, 564, 565, 566, 567, 568, 569, 570, 571, 572, 573, 574, 575, 576, 577, 578, 579, 580, 581, 582, 583, 584, 585, 586, 587, 588, 589, 590, 591, 592, 593, 594, 595, 596, 597, 598, 599, 600, 601, 602, 603, 604, 605, 606, 607, 608, 609, 610, 611, 612, 613, 614, 615, 616, 617, 618, 619, 620, 621, 622, 623, 624, 625, 626, 627, 628, 629, 630, 631, 632, 633, 634, 635, 636, 637, 638, 639, 640, 641, 642, 643, 644, 645, 646, 647, 648, 649, 650, 651, 652, 653, 654, 655, 656, 657, 658, 659, 660, 661, 662, 663, 664, 665, 666, 667, 668, 669, 670, 671, 672, 673, 674, 675, 676, 677, 678, 679, 680, 681, 682, 683, 684, 685, 686, 687, 688, 689, 690, 691, 692, 693, 694, 695, 696, 697, 698, 699, 700, 701, 702, 703, 704, 705, 706, 707, 708, 709, 710, 711, 712, 713, 714, 715, 716, 717, 718, 719, 720, 721, 722, 723, 724, 725, 726, 727, 728, 729, 730, 731, 732, 733, 734, 735, 736, 737, 738, 739, 740, 741, 742, 743, 744, 745, 746, 747, 748, 749, 750, 751, 752, 753, 754, 755, 756, 757, 758, 759, 760, 761, 762, 763, 764, 765, 766, 767, 768, 769, 770, 771, 772, 773, 774, 775, 776, 777, 778, 779, 780, 781, 782, 783, 784, 785, 786, 787, 788, 789, 790, 791, 792, 793, 794, 795, 796, 797, 798, 799, 800, 801, 802, 803, 804, 805, 806, 807, 808, 809, 810, 811, 812, 813, 814, 815, 816, 817, 818, 819, 820, 821, 822, 823, 824, 825, 826, 827, 828, 829, 830, 831, 832, 833, 834, 835, 836, 837, 838, 839, 840, 841, 842, 843, 844, 845, 846, 847, 848, 849, 850, 851, 852, 853, 854, 855, 856, 857, 858, 859, 860, 861, 862, 863, 864, 865, 866, 867, 868, 869, 870, 871, 872, 873, 874, 875, 876, 877, 878, 879, 880, 881, 882, 883, 884, 885, 886, 887, 888, 889, 890, 891, 892, 893, 894, 895, 896, 897, 898, 899, 900, 901, 902, 903, 904, 905, 906, 907, 908, 909, 910, 911, 912, 913, 914, 915, 916, 917, 918, 919, 920, 921, 922, 923, 924, 925, 926, 927, 928, 929, 930, 931, 932, 933, 934, 935, 936, 937, 938, 939, 940, 941, 942, 943, 944, 945, 946, 947, 948, 949, 950, 951, 952, 953, 954, 955, 956, 957, 958, 959, 960, 961, 962, 963, 964, 965, 966, 967, 968, 969, 970, 971, 972, 973, 974, 975, 976, 977, 978, 979, 980, 981, 982, 983, 984, 985, 986, 987, 988, 989, 990, 991, 992, 993, 994, 995, 996, 997, 998, 999]\n"
     ]
    }
   ],
   "source": [
    "het=[]\n",
    "clustersMeans=dict()\n",
    "clusterPerAcc\n",
    "print len(clusterPerAcc),len(allCoord)\n",
    "#print clusterPerAcc\n",
    "#print af.core_sample_indices_.tolist()\n",
    "print \n",
    "for i in range(len(clusterPerAcc)):\n",
    "    try:\n",
    "        clustersMeans[clusterPerAcc[i]]+= [allCoord[i]]\n",
    "    except:\n",
    "        clustersMeans[clusterPerAcc[i]]= [allCoord[i]]\n",
    "    #het.append([i[1], i[0]])\n",
    "\n",
    "print clustersMeans.keys()"
   ]
  },
  {
   "cell_type": "code",
   "execution_count": 14,
   "metadata": {
    "collapsed": false
   },
   "outputs": [],
   "source": [
    "createJSMulti('means',clustersMeans)"
   ]
  },
  {
   "cell_type": "markdown",
   "metadata": {},
   "source": [
    "## DBSCAN\n",
    "Distancia entre cruïlla i cruïlla en LatLon 0.00141826\n",
    "http://www.wolframalpha.com/input/?i=distance%28%2841.386489,+2.150543%29,+%2841.387350,+2.151670%29%29"
   ]
  },
  {
   "cell_type": "code",
   "execution_count": 15,
   "metadata": {
    "collapsed": false
   },
   "outputs": [],
   "source": [
    "import numpy as np\n",
    "from sklearn import metrics\n",
    "from sklearn.cluster import DBSCAN\n",
    "from sklearn.datasets.samples_generator import make_blobs\n",
    "af = DBSCAN(eps= 0.00141826)\n",
    "def toParArray(x):\n",
    "    return [x[0],x[1]]\n",
    "allCoord=[]\n",
    "for i in range(sizeYears):\n",
    "    allCoord= allCoord + np.array(general[i]['LatLon'].values).tolist()\n",
    "clusterPerAcc=af.fit_predict(allCoord)"
   ]
  },
  {
   "cell_type": "code",
   "execution_count": 16,
   "metadata": {
    "collapsed": false
   },
   "outputs": [
    {
     "name": "stdout",
     "output_type": "stream",
     "text": [
      "56285 56285\n",
      "\n",
      "[0, 1, 2, 3, 4, 5, 6, 7, 8, 9, 10, 11, 12, 13, 14, 15, 16, 17, 18, 19, 20, 21, 22, 23, 24, 25, 26, 27, 28, 29, 30, 31, 32, 33, -1]\n"
     ]
    }
   ],
   "source": [
    "het=[]\n",
    "clustersDCSCAN=dict()\n",
    "clusterPerAcc\n",
    "print len(clusterPerAcc),len(allCoord)\n",
    "#print clusterPerAcc\n",
    "#print af.core_sample_indices_.tolist()\n",
    "print \n",
    "for i in range(len(clusterPerAcc)):\n",
    "    try:\n",
    "        clustersDCSCAN[clusterPerAcc[i]]+= [allCoord[i]]\n",
    "    except:\n",
    "        clustersDCSCAN[clusterPerAcc[i]]= [allCoord[i]]\n",
    "    #het.append([i[1], i[0]])\n",
    "\n",
    "print clustersDCSCAN.keys()"
   ]
  },
  {
   "cell_type": "code",
   "execution_count": 17,
   "metadata": {
    "collapsed": true
   },
   "outputs": [],
   "source": [
    "createJSMulti('dcscan',clustersDCSCAN)"
   ]
  },
  {
   "cell_type": "markdown",
   "metadata": {},
   "source": [
    "## AffinityPropagation"
   ]
  },
  {
   "cell_type": "code",
   "execution_count": 5,
   "metadata": {
    "collapsed": false
   },
   "outputs": [],
   "source": [
    "import numpy as np\n",
    "from sklearn.cluster import  AffinityPropagation\n",
    "from sklearn import metrics\n",
    "from sklearn.datasets.samples_generator import make_blobs\n",
    "af = AffinityPropagation()\n",
    "def toParArray(x):\n",
    "    return [x[0],x[1]]\n",
    "allCoord=[]\n",
    "for i in range(sizeYears):\n",
    "    allCoord= allCoord + np.array(general[i]['LatLon'].values).tolist()\n",
    "for i in range(len(allCoord)/100):\n",
    "    af.fit(allCoord[100*i:100*(i+1)])"
   ]
  },
  {
   "cell_type": "code",
   "execution_count": 6,
   "metadata": {
    "collapsed": false
   },
   "outputs": [
    {
     "name": "stderr",
     "output_type": "stream",
     "text": [
      "/home/nico/anaconda2/lib/python2.7/site-packages/sklearn/utils/validation.py:386: DeprecationWarning: Passing 1d arrays as data is deprecated in 0.17 and willraise ValueError in 0.19. Reshape your data either using X.reshape(-1, 1) if your data has a single feature or X.reshape(1, -1) if it contains a single sample.\n",
      "  DeprecationWarning)\n"
     ]
    },
    {
     "ename": "NameError",
     "evalue": "name 'clusterPerAcc' is not defined",
     "output_type": "error",
     "traceback": [
      "\u001b[1;31m---------------------------------------------------------------------------\u001b[0m",
      "\u001b[1;31mNameError\u001b[0m                                 Traceback (most recent call last)",
      "\u001b[1;32m<ipython-input-6-c0d9be802e01>\u001b[0m in \u001b[0;36m<module>\u001b[1;34m()\u001b[0m\n\u001b[0;32m      8\u001b[0m         \u001b[0mclustersAFFPRO\u001b[0m\u001b[1;33m[\u001b[0m\u001b[0maf\u001b[0m\u001b[1;33m.\u001b[0m\u001b[0mpredict\u001b[0m\u001b[1;33m(\u001b[0m\u001b[0mallCoord\u001b[0m\u001b[1;33m[\u001b[0m\u001b[0mi\u001b[0m\u001b[1;33m]\u001b[0m\u001b[1;33m)\u001b[0m\u001b[1;33m]\u001b[0m\u001b[1;33m+=\u001b[0m \u001b[1;33m[\u001b[0m\u001b[0mallCoord\u001b[0m\u001b[1;33m[\u001b[0m\u001b[0mi\u001b[0m\u001b[1;33m]\u001b[0m\u001b[1;33m]\u001b[0m\u001b[1;33m\u001b[0m\u001b[0m\n\u001b[0;32m      9\u001b[0m     \u001b[1;32mexcept\u001b[0m\u001b[1;33m:\u001b[0m\u001b[1;33m\u001b[0m\u001b[0m\n\u001b[1;32m---> 10\u001b[1;33m         \u001b[0mclustersAFFPRO\u001b[0m\u001b[1;33m[\u001b[0m\u001b[0mclusterPerAcc\u001b[0m\u001b[1;33m[\u001b[0m\u001b[0mi\u001b[0m\u001b[1;33m]\u001b[0m\u001b[1;33m]\u001b[0m\u001b[1;33m=\u001b[0m \u001b[1;33m[\u001b[0m\u001b[0mallCoord\u001b[0m\u001b[1;33m[\u001b[0m\u001b[0mi\u001b[0m\u001b[1;33m]\u001b[0m\u001b[1;33m]\u001b[0m\u001b[1;33m\u001b[0m\u001b[0m\n\u001b[0m\u001b[0;32m     11\u001b[0m     \u001b[1;31m#het.append([i[1], i[0]])\u001b[0m\u001b[1;33m\u001b[0m\u001b[1;33m\u001b[0m\u001b[0m\n\u001b[0;32m     12\u001b[0m     \u001b[1;32mif\u001b[0m \u001b[1;33m+\u001b[0m\u001b[1;33m+\u001b[0m\u001b[0malgo\u001b[0m\u001b[1;33m>\u001b[0m\u001b[1;36m100\u001b[0m\u001b[1;33m:\u001b[0m\u001b[1;33m\u001b[0m\u001b[0m\n",
      "\u001b[1;31mNameError\u001b[0m: name 'clusterPerAcc' is not defined"
     ]
    }
   ],
   "source": [
    "het=[]\n",
    "clustersAFFPRO=dict()\n",
    "#print clusterPerAcc\n",
    "#print af.core_sample_indices_.tolist()\n",
    "algo=0\n",
    "for i in range(len(allCoord)):\n",
    "    try:\n",
    "        clustersAFFPRO[af.predict(allCoord[i])]+= [allCoord[i]]\n",
    "    except:\n",
    "        clustersAFFPRO[clusterPerAcc[i]]= [allCoord[i]]\n",
    "    #het.append([i[1], i[0]])\n",
    "    if ++algo>100:\n",
    "        break\n",
    "\n",
    "print clustersAFFPRO.keys()"
   ]
  },
  {
   "cell_type": "code",
   "execution_count": null,
   "metadata": {
    "collapsed": true
   },
   "outputs": [],
   "source": [
    "createJSMulti('affinity',clustersAFFPRO)"
   ]
  },
  {
   "cell_type": "code",
   "execution_count": 13,
   "metadata": {
    "collapsed": false
   },
   "outputs": [
    {
     "data": {
      "text/plain": [
       "'#44bcab'"
      ]
     },
     "execution_count": 13,
     "metadata": {},
     "output_type": "execute_result"
    }
   ],
   "source": [
    "import random\n",
    "'#{:06x}'.format(random.randint(0, 0xffffff))"
   ]
  },
  {
   "cell_type": "code",
   "execution_count": 22,
   "metadata": {
    "collapsed": false
   },
   "outputs": [],
   "source": []
  },
  {
   "cell_type": "markdown",
   "metadata": {},
   "source": [
    "Dictionary and DataFrame utilities\n",
    "------------------------"
   ]
  },
  {
   "cell_type": "code",
   "execution_count": 31,
   "metadata": {
    "collapsed": false,
    "scrolled": false
   },
   "outputs": [],
   "source": [
    "import numpy as np\n",
    "import matplotlib\n",
    "matplotlib.rcParams['text.usetex'] = True\n",
    "matplotlib.rcParams['text.latex.unicode'] = True\n",
    "import matplotlib.pyplot as plt\n",
    "def countTypes(df, name):\n",
    "    return df.groupby(name)['NumeroDexpedient'].count()\n",
    "\n",
    "def countTypesDict(df, name):\n",
    "    return df.groupby(name)['NumeroDexpedient'].count().to_dict()\n",
    "   \n",
    "def dictMean(D):\n",
    "    return round(np.mean(D.values()),2)\n",
    "\n",
    "\n",
    "def printDict(D):\n",
    "    for key in D.keys():\n",
    "        print key+\": \"+ str(D[key])\n",
    "\n",
    "def getDictTop(D):\n",
    "    final= dict()\n",
    "    dtmp = [ (k,v) for k,v in D.iteritems() ]\n",
    "    dtmp.sort(reverse=True) \n",
    "    i=0\n",
    "    for k,v in dtmp:\n",
    "        if i>9:\n",
    "            return final\n",
    "        final[k]=v\n",
    "        i+=1\n",
    "    return final\n",
    "\n",
    "        \n",
    "def printSortDict(D):\n",
    "    dtmp = [ (v,k) for k,v in D.iteritems() ]\n",
    "    dtmp.sort(reverse=True) \n",
    "    \n",
    "    for v,k in dtmp:\n",
    "        print k+\": \"+str(round(float(v),2))"
   ]
  },
  {
   "cell_type": "markdown",
   "metadata": {},
   "source": [
    "Plot Utilities\n",
    "-----------------"
   ]
  },
  {
   "cell_type": "code",
   "execution_count": 54,
   "metadata": {
    "collapsed": false
   },
   "outputs": [],
   "source": [
    "\n",
    "\n",
    "def plotTypes(df, name):\n",
    "    general[i][name].value_counts().plot(kind='bar')\n",
    "\n",
    "def plotDict(D, average=False, plotName=None):\n",
    "    \n",
    "    plt.barh(range(len(D)), D.values(), align='center')\n",
    "    plt.yticks(range(len(D)), D.keys())\n",
    "    if average:\n",
    "        plt.axvline(dictMean(D), color='r', linestyle='dashed', linewidth=2)\n",
    "    if not plotName is None:\n",
    "        plt.savefig('Memoria/figuras/'+plotName+'.eps', format='eps', dpi=1000)\n",
    "        \n",
    "    plt.show()\n",
    "    \n",
    "        \n",
    "    \n",
    "def plotStackDict(D1, D2, name1=\"\", name2=\"\", plotName=None):\n",
    "    p1 = plt.barh(range(len(D1)), D1.values(),color='r', align='center')\n",
    "    p2 = plt.barh(range(len(D2)), D2.values(), color='g',align='center',\n",
    "                 left=D1.values())\n",
    "\n",
    "    \n",
    "    plt.yticks(range(len(D1)), D1.keys())\n",
    "    plt.legend((p1[0], p2[0]), (name1, name2), loc='upper left', bbox_to_anchor=(1.02, 1), borderaxespad=0)\n",
    "    if not plotName is None:\n",
    "        plt.savefig('Memoria/figuras/'+plotName+'.eps', format='eps', dpi=1000)\n",
    "    plt.show()\n",
    "    \n",
    "def plotStackDictTri(D1, D2, D3, name1=\"\", name2=\"\", name3=\"\", plotName=None):\n",
    "    p1 = plt.barh(range(len(D1)), D1.values(),color='r', align='center')\n",
    "    p2 = plt.barh(range(len(D2)), D2.values(), color='g',align='center',\n",
    "                 left=D1.values())\n",
    "    p3 = plt.barh(range(len(D3)), D3.values(), color='b',align='center',\n",
    "                 left=D1.values()+D2.values())\n",
    "\n",
    "    \n",
    "    plt.yticks(range(len(D1)), D1.keys())\n",
    "    plt.legend((p1[0], p2[0], p3[0]), (name1, name2, name3), loc='upper left', bbox_to_anchor=(1.02, 1), borderaxespad=0)\n",
    "    \n",
    "    if not plotName is None:\n",
    "        plt.savefig('Memoria/figuras/'+plotName+'.eps', format='eps', dpi=1000)\n",
    "    plt.show()\n",
    "\n",
    "\n",
    "def pieDict(D, plotName=None):\n",
    "    suma=float(sum(D.values()))\n",
    "    valuesPercent=[float(x)/suma for x in D.values()]\n",
    "    plt.axis(\"equal\")\n",
    "    plt.pie(valuesPercent,labels=D.keys(),autopct=None)\n",
    "    if not plotName is None:\n",
    "        plt.savefig('Memoria/figuras/'+plotName+'.eps', format='eps', dpi=1000)\n",
    "    plt.show()"
   ]
  },
  {
   "cell_type": "markdown",
   "metadata": {},
   "source": [
    "General Utilities\n",
    "--------------"
   ]
  },
  {
   "cell_type": "code",
   "execution_count": 39,
   "metadata": {
    "collapsed": false
   },
   "outputs": [],
   "source": [
    "def numPlotbyType(dflist,name):\n",
    "    totals= dict()\n",
    "    %matplotlib inline\n",
    "    for i in range(sizeYears):\n",
    "        tmp= countTypesDict(dflist[i],name)\n",
    "        print \"201\"+str(i)+\":\"\n",
    "        printSortDict(tmp)\n",
    "        plotDict(tmp,plotName=(name+'201'+str(i)))\n",
    "        for key in tmp.keys():\n",
    "            try:\n",
    "                totals[key]= totals[key]+ tmp[key]\n",
    "            except:\n",
    "                totals[key]= tmp[key]\n",
    "    print \"Totals:\"\n",
    "    printSortDict(totals)\n",
    "    plotDict(totals,plotName=(name+'TotalsBar'))\n",
    "    totalsMean = dict()\n",
    "    for key in totals.keys():\n",
    "        totalsMean[key]= float(totals[key])/float(sizeYears)\n",
    "    print \"Mean Anual:\"\n",
    "    printSortDict(totalsMean)\n",
    "    pieDict(totalsMean,plotName=(name+'MeanPie'))\n",
    "\n",
    "def numPlotbyTypeTop10(dflist,name):\n",
    "    totals= dict()\n",
    "    %matplotlib inline\n",
    "    for i in range(sizeYears):\n",
    "        tmp= countTypesDict(dflist[i],name)\n",
    "        topTmp=getDictTop(tmp)\n",
    "        print \"201\"+str(i)+\" top 10:\"\n",
    "        printSortDict(topTmp)\n",
    "        plotDict(topTmp,plotName=(name+'Top201'+str(i)))\n",
    "        for key in tmp.keys():\n",
    "            try:\n",
    "                totals[key]= totals[key]+ tmp[key]\n",
    "            except:\n",
    "                totals[key]= tmp[key]\n",
    "    print \"Totals top 10:\"\n",
    "    topTot=getDictTop(totals)\n",
    "    printSortDict(topTot)\n",
    "    plotDict(topTot,plotName=(name+'TopTotalsBar'))   \n",
    "    totalsMean = dict()\n",
    "    for key in totals.keys():\n",
    "        totalsMean[key]= round(float(totals[key])/float(sizeYears),2)\n",
    "    print \"Mean Anual:\"\n",
    "    topTotM=getDictTop(totalsMean)\n",
    "    printSortDict(topTotM)\n",
    "    pieDict(topTotM,plotName=(name+'TopMeanPie'))\n"
   ]
  },
  {
   "cell_type": "markdown",
   "metadata": {},
   "source": [
    "Anàlisis inicial de les dades\n",
    "============"
   ]
  },
  {
   "cell_type": "markdown",
   "metadata": {},
   "source": [
    "Números\n",
    "-------------------"
   ]
  },
  {
   "cell_type": "markdown",
   "metadata": {},
   "source": [
    "Accidents\n",
    "-----\n",
    "Accidents per any"
   ]
  },
  {
   "cell_type": "code",
   "execution_count": 40,
   "metadata": {
    "collapsed": false
   },
   "outputs": [
    {
     "name": "stdout",
     "output_type": "stream",
     "text": [
      "Num. Accidents per any\n",
      "2010: 9056\n",
      "2011: 8831\n",
      "2012: 9253\n",
      "2013: 9457\n",
      "2014: 9680\n",
      "2015: 10008\n",
      "MEAN: 9380.83\n"
     ]
    },
    {
     "data": {
      "image/png": "[encoded data removed]",
      "text/plain": [
       "<matplotlib.figure.Figure at 0x7f1ad1f14690>"
      ]
     },
     "metadata": {},
     "output_type": "display_data"
    }
   ],
   "source": [
    "print \"Num. Accidents per any\"\n",
    "accidents= dict()\n",
    "for i in range(sizeYears):\n",
    "    numA =  len(general[i].index)\n",
    "    print \"201\"+str(i)+\": \"+ str(numA)\n",
    "    accidents[\"201\"+str(i)]=numA\n",
    "print \"MEAN: \"+ str(dictMean(accidents))\n",
    "%matplotlib inline\n",
    "plotDict(accidents, True,plotName= 'TotalAccidentsPerAny')\n",
    "\n"
   ]
  },
  {
   "cell_type": "markdown",
   "metadata": {},
   "source": [
    "Per districte i any"
   ]
  },
  {
   "cell_type": "code",
   "execution_count": 41,
   "metadata": {
    "collapsed": false
   },
   "outputs": [
    {
     "name": "stdout",
     "output_type": "stream",
     "text": [
      "Num. Accidents per districte i any\n",
      "2010:\n",
      "Eixample: 2498.0\n",
      "Sant Martí: 1085.0\n",
      "Sarrià-Sant Gervasi: 1036.0\n",
      "Sants-Montjuïc: 972.0\n",
      "Horta-Guinardó: 752.0\n",
      "Les Corts: 653.0\n",
      "Sant Andreu: 556.0\n",
      "Gràcia: 518.0\n",
      "Ciutat Vella: 487.0\n",
      "Nou Barris: 479.0\n",
      "Desconegut: 20.0\n"
     ]
    },
    {
     "data": {
      "image/png": "[encoded data removed]",
      "text/plain": [
       "<matplotlib.figure.Figure at 0x7f1ad1efce10>"
      ]
     },
     "metadata": {},
     "output_type": "display_data"
    },
    {
     "name": "stdout",
     "output_type": "stream",
     "text": [
      "2011:\n",
      "Eixample: 2433.0\n",
      "Sant Martí: 1091.0\n",
      "Sarrià-Sant Gervasi: 1041.0\n",
      "Sants-Montjuïc: 904.0\n",
      "Horta-Guinardó: 669.0\n",
      "Les Corts: 624.0\n",
      "Ciutat Vella: 574.0\n",
      "Sant Andreu: 551.0\n",
      "Gràcia: 489.0\n",
      "Nou Barris: 433.0\n",
      "Desconegut: 22.0\n"
     ]
    },
    {
     "data": {
      "image/png": "[encoded data removed]",
      "text/plain": [
       "<matplotlib.figure.Figure at 0x7f1ad1e796d0>"
      ]
     },
     "metadata": {},
     "output_type": "display_data"
    },
    {
     "name": "stdout",
     "output_type": "stream",
     "text": [
      "2012:\n",
      "Eixample: 2636.0\n",
      "Sarrià-Sant Gervasi: 1124.0\n",
      "Sant Martí: 1065.0\n",
      "Sants-Montjuïc: 1006.0\n",
      "Les Corts: 621.0\n",
      "Horta-Guinardó: 609.0\n",
      "Sant Andreu: 588.0\n",
      "Ciutat Vella: 576.0\n",
      "Nou Barris: 540.0\n",
      "Gràcia: 470.0\n",
      "Desconegut: 18.0\n"
     ]
    },
    {
     "data": {
      "image/png": "[encoded data removed]",
      "text/plain": [
       "<matplotlib.figure.Figure at 0x7f1ae2ed12d0>"
      ]
     },
     "metadata": {},
     "output_type": "display_data"
    },
    {
     "name": "stdout",
     "output_type": "stream",
     "text": [
      "2013:\n",
      "Eixample: 2757.0\n",
      "Sarrià-Sant Gervasi: 1085.0\n",
      "Sant Martí: 1080.0\n",
      "Sants-Montjuïc: 1047.0\n",
      "Les Corts: 692.0\n",
      "Horta-Guinardó: 634.0\n",
      "Sant Andreu: 622.0\n",
      "Ciutat Vella: 576.0\n",
      "Nou Barris: 486.0\n",
      "Gràcia: 459.0\n",
      "Desconegut: 19.0\n"
     ]
    },
    {
     "data": {
      "image/png": "[encoded data removed]",
      "text/plain": [
       "<matplotlib.figure.Figure at 0x7f1ad2450390>"
      ]
     },
     "metadata": {},
     "output_type": "display_data"
    },
    {
     "name": "stdout",
     "output_type": "stream",
     "text": [
      "2014:\n",
      "Eixample: 2910.0\n",
      "Sant Martí: 1162.0\n",
      "Sarrià-Sant Gervasi: 1104.0\n",
      "Sants-Montjuïc: 1041.0\n",
      "Les Corts: 672.0\n",
      "Horta-Guinardó: 630.0\n",
      "Sant Andreu: 602.0\n",
      "Ciutat Vella: 529.0\n",
      "Nou Barris: 524.0\n",
      "Gràcia: 486.0\n",
      "Desconegut: 20.0\n"
     ]
    },
    {
     "data": {
      "image/png": "[encoded data removed]",
      "text/plain": [
       "<matplotlib.figure.Figure at 0x7f1ad9aec210>"
      ]
     },
     "metadata": {},
     "output_type": "display_data"
    },
    {
     "name": "stdout",
     "output_type": "stream",
     "text": [
      "2015:\n",
      "Eixample: 3029.0\n",
      "Sant Martí: 1157.0\n",
      "Sarrià-Sant Gervasi: 1105.0\n",
      "Sants-Montjuïc: 1041.0\n",
      "Horta-Guinardó: 734.0\n",
      "Les Corts: 695.0\n",
      "Sant Andreu: 637.0\n",
      "Ciutat Vella: 591.0\n",
      "Nou Barris: 506.0\n",
      "Gràcia: 500.0\n",
      "Desconegut: 13.0\n"
     ]
    },
    {
     "data": {
      "image/png": "[encoded data removed]",
      "text/plain": [
       "<matplotlib.figure.Figure at 0x7f1ad28cb790>"
      ]
     },
     "metadata": {},
     "output_type": "display_data"
    },
    {
     "name": "stdout",
     "output_type": "stream",
     "text": [
      "Totals:\n",
      "Eixample: 16263.0\n",
      "Sant Martí: 6640.0\n",
      "Sarrià-Sant Gervasi: 6495.0\n",
      "Sants-Montjuïc: 6011.0\n",
      "Horta-Guinardó: 4028.0\n",
      "Les Corts: 3957.0\n",
      "Sant Andreu: 3556.0\n",
      "Ciutat Vella: 3333.0\n",
      "Nou Barris: 2968.0\n",
      "Gràcia: 2922.0\n",
      "Desconegut: 112.0\n"
     ]
    },
    {
     "data": {
      "image/png": "[encoded data removed]",
      "text/plain": [
       "<matplotlib.figure.Figure at 0x7f1ad27d7bd0>"
      ]
     },
     "metadata": {},
     "output_type": "display_data"
    },
    {
     "name": "stdout",
     "output_type": "stream",
     "text": [
      "Mean Anual:\n",
      "Eixample: 2710.5\n",
      "Sant Martí: 1106.67\n",
      "Sarrià-Sant Gervasi: 1082.5\n",
      "Sants-Montjuïc: 1001.83\n",
      "Horta-Guinardó: 671.33\n",
      "Les Corts: 659.5\n",
      "Sant Andreu: 592.67\n",
      "Ciutat Vella: 555.5\n",
      "Nou Barris: 494.67\n",
      "Gràcia: 487.0\n",
      "Desconegut: 18.67\n"
     ]
    },
    {
     "data": {
      "image/png": "[encoded data removed]",
      "text/plain": [
       "<matplotlib.figure.Figure at 0x7f1ad1e79cd0>"
      ]
     },
     "metadata": {},
     "output_type": "display_data"
    }
   ],
   "source": [
    "print \"Num. Accidents per districte i any\"\n",
    "numPlotbyType(general, \"NomDistricte\")"
   ]
  },
  {
   "cell_type": "markdown",
   "metadata": {},
   "source": [
    "Accidents per barri"
   ]
  },
  {
   "cell_type": "code",
   "execution_count": 42,
   "metadata": {
    "collapsed": false,
    "scrolled": false
   },
   "outputs": [
    {
     "name": "stdout",
     "output_type": "stream",
     "text": [
      "Num. Accidents per barri i any\n",
      "2010 top 10:\n",
      "les Corts: 264.0\n",
      "la Vila de Gràcia: 186.0\n",
      "les Tres Torres: 123.0\n",
      "la Vila Olímpica del Poblenou: 109.0\n",
      "la Trinitat Vella: 72.0\n",
      "la Vall d'Hebron: 71.0\n",
      "la Verneda i la Pau: 68.0\n",
      "la Teixonera: 40.0\n",
      "les Roquetes: 39.0\n",
      "la Trinitat Nova: 39.0\n"
     ]
    },
    {
     "data": {
      "image/png": "[encoded data removed]",
      "text/plain": [
       "<matplotlib.figure.Figure at 0x7f1ad1efc450>"
      ]
     },
     "metadata": {},
     "output_type": "display_data"
    },
    {
     "name": "stdout",
     "output_type": "stream",
     "text": [
      "2011 top 10:\n",
      "les Corts: 264.0\n",
      "la Vila de Gràcia: 150.0\n",
      "les Tres Torres: 145.0\n",
      "la Vila Olímpica del Poblenou: 125.0\n",
      "la Verneda i la Pau: 88.0\n",
      "la Trinitat Vella: 74.0\n",
      "la Vall d'Hebron: 54.0\n",
      "la Trinitat Nova: 51.0\n",
      "les Roquetes: 41.0\n",
      "la Teixonera: 34.0\n"
     ]
    },
    {
     "data": {
      "image/png": "[encoded data removed]",
      "text/plain": [
       "<matplotlib.figure.Figure at 0x7f1ad2031e90>"
      ]
     },
     "metadata": {},
     "output_type": "display_data"
    },
    {
     "name": "stdout",
     "output_type": "stream",
     "text": [
      "2012 top 10:\n",
      "les Corts: 266.0\n",
      "la Vila de Gràcia: 177.0\n",
      "les Tres Torres: 145.0\n",
      "la Vila Olímpica del Poblenou: 102.0\n",
      "la Trinitat Vella: 79.0\n",
      "la Verneda i la Pau: 67.0\n",
      "la Trinitat Nova: 65.0\n",
      "la Vall d'Hebron: 50.0\n",
      "les Roquetes: 37.0\n",
      "la Teixonera: 27.0\n"
     ]
    },
    {
     "data": {
      "image/png": "[encoded data removed]",
      "text/plain": [
       "<matplotlib.figure.Figure at 0x7f1ad9aba490>"
      ]
     },
     "metadata": {},
     "output_type": "display_data"
    },
    {
     "name": "stdout",
     "output_type": "stream",
     "text": [
      "2013 top 10:\n",
      "les Corts: 290.0\n",
      "la Vila de Gràcia: 170.0\n",
      "les Tres Torres: 120.0\n",
      "la Vila Olímpica del Poblenou: 110.0\n",
      "la Trinitat Vella: 94.0\n",
      "la Verneda i la Pau: 68.0\n",
      "la Vall d'Hebron: 51.0\n",
      "la Trinitat Nova: 50.0\n",
      "les Roquetes: 42.0\n",
      "la Teixonera: 21.0\n"
     ]
    },
    {
     "data": {
      "image/png": "[encoded data removed]",
      "text/plain": [
       "<matplotlib.figure.Figure at 0x7f1ad9b28950>"
      ]
     },
     "metadata": {},
     "output_type": "display_data"
    },
    {
     "name": "stdout",
     "output_type": "stream",
     "text": [
      "2014 top 10:\n",
      "les Corts: 293.0\n",
      "la Vila de Gràcia: 168.0\n",
      "la Vila Olímpica del Poblenou: 121.0\n",
      "les Tres Torres: 115.0\n",
      "la Trinitat Vella: 87.0\n",
      "la Trinitat Nova: 69.0\n",
      "la Vall d'Hebron: 67.0\n",
      "la Verneda i la Pau: 58.0\n",
      "les Roquetes: 43.0\n",
      "la Teixonera: 33.0\n"
     ]
    },
    {
     "data": {
      "image/png": "[encoded data removed]",
      "text/plain": [
       "<matplotlib.figure.Figure at 0x7f1ad2436e50>"
      ]
     },
     "metadata": {},
     "output_type": "display_data"
    },
    {
     "name": "stdout",
     "output_type": "stream",
     "text": [
      "2015 top 10:\n",
      "les Corts: 324.0\n",
      "la Vila de Gràcia: 177.0\n",
      "les Tres Torres: 142.0\n",
      "la Vila Olímpica del Poblenou: 104.0\n",
      "la Trinitat Vella: 81.0\n",
      "la Vall d'Hebron: 77.0\n",
      "la Trinitat Nova: 70.0\n",
      "la Verneda i la Pau: 68.0\n",
      "les Roquetes: 51.0\n",
      "la Teixonera: 23.0\n"
     ]
    },
    {
     "data": {
      "image/png": "[encoded data removed]",
      "text/plain": [
       "<matplotlib.figure.Figure at 0x7f1ad1e86710>"
      ]
     },
     "metadata": {},
     "output_type": "display_data"
    },
    {
     "name": "stdout",
     "output_type": "stream",
     "text": [
      "Totals top 10:\n",
      "les Corts: 1701.0\n",
      "la Vila de Gràcia: 1028.0\n",
      "les Tres Torres: 790.0\n",
      "la Vila Olímpica del Poblenou: 671.0\n",
      "la Trinitat Vella: 487.0\n",
      "la Verneda i la Pau: 417.0\n",
      "la Vall d'Hebron: 370.0\n",
      "la Trinitat Nova: 344.0\n",
      "les Roquetes: 253.0\n",
      "la Teixonera: 178.0\n"
     ]
    },
    {
     "data": {
      "image/png": "[encoded data removed]",
      "text/plain": [
       "<matplotlib.figure.Figure at 0x7f1ad275ff90>"
      ]
     },
     "metadata": {},
     "output_type": "display_data"
    },
    {
     "name": "stdout",
     "output_type": "stream",
     "text": [
      "Mean Anual:\n",
      "les Corts: 283.5\n",
      "la Vila de Gràcia: 171.33\n",
      "les Tres Torres: 131.67\n",
      "la Vila Olímpica del Poblenou: 111.83\n",
      "la Trinitat Vella: 81.17\n",
      "la Verneda i la Pau: 69.5\n",
      "la Vall d'Hebron: 61.67\n",
      "la Trinitat Nova: 57.33\n",
      "les Roquetes: 42.17\n",
      "la Teixonera: 29.67\n"
     ]
    },
    {
     "data": {
      "image/png": "[encoded data removed]",
      "text/plain": [
       "<matplotlib.figure.Figure at 0x7f1ad2147d10>"
      ]
     },
     "metadata": {},
     "output_type": "display_data"
    }
   ],
   "source": [
    "print \"Num. Accidents per barri i any\"\n",
    "numPlotbyTypeTop10(general, \"NomBarri\")"
   ]
  },
  {
   "cell_type": "markdown",
   "metadata": {},
   "source": [
    "Per carrers"
   ]
  },
  {
   "cell_type": "code",
   "execution_count": 43,
   "metadata": {
    "collapsed": false
   },
   "outputs": [
    {
     "name": "stdout",
     "output_type": "stream",
     "text": [
      "Num. Accidents per barri i any\n",
      "2010 top 10:\n",
      "Zona Franca: 36.0\n",
      "Àlaba: 13.0\n",
      "Àvila: 7.0\n",
      "Àngels: 4.0\n",
      "Zamora: 3.0\n",
      "Xile: 3.0\n",
      "Àngel J. Baixeras: 2.0\n",
      "Àngel Guimerà: 1.0\n",
      "Xinxó: 1.0\n",
      "Xifré: 1.0\n"
     ]
    },
    {
     "data": {
      "image/png": "[encoded data removed]",
      "text/plain": [
       "<matplotlib.figure.Figure at 0x7f1ad26c6510>"
      ]
     },
     "metadata": {},
     "output_type": "display_data"
    },
    {
     "name": "stdout",
     "output_type": "stream",
     "text": [
      "2011 top 10:\n",
      "Zona Franca: 32.0\n",
      "Àvila: 5.0\n",
      "Àngels: 4.0\n",
      "Xile: 4.0\n",
      "Àlaba: 3.0\n",
      "Àngel Guimerà: 2.0\n",
      "Àngel: 2.0\n",
      "Zamora: 2.0\n",
      "Xuclà: 2.0\n",
      "Xiprer: 2.0\n"
     ]
    },
    {
     "data": {
      "image/png": "[encoded data removed]",
      "text/plain": [
       "<matplotlib.figure.Figure at 0x7f1ad2685f50>"
      ]
     },
     "metadata": {},
     "output_type": "display_data"
    },
    {
     "name": "stdout",
     "output_type": "stream",
     "text": [
      "2012 top 10:\n",
      "Zona Franca: 34.0\n",
      "Àlaba: 5.0\n",
      "Àliga: 4.0\n",
      "Zamora: 4.0\n",
      "Àngel: 3.0\n",
      "Xiprer: 2.0\n",
      "Xifré: 2.0\n",
      "Àvila: 1.0\n",
      "Àngels: 1.0\n",
      "Xile: 1.0\n"
     ]
    },
    {
     "data": {
      "image/png": "[encoded data removed]",
      "text/plain": [
       "<matplotlib.figure.Figure at 0x7f1ad27ba390>"
      ]
     },
     "metadata": {},
     "output_type": "display_data"
    },
    {
     "name": "stdout",
     "output_type": "stream",
     "text": [
      "2013 top 10:\n",
      "Zona Franca: 24.0\n",
      "Àlaba: 10.0\n",
      "Xile: 7.0\n",
      "Zamora: 5.0\n",
      "Àvila: 3.0\n",
      "Àngel Marquès: 1.0\n",
      "Àngel J. Baixeras: 1.0\n",
      "Àngel Guimerà: 1.0\n",
      "Àngel: 1.0\n",
      "Xuclà: 1.0\n"
     ]
    },
    {
     "data": {
      "image/png": "[encoded data removed]",
      "text/plain": [
       "<matplotlib.figure.Figure at 0x7f1ad28f1b90>"
      ]
     },
     "metadata": {},
     "output_type": "display_data"
    },
    {
     "name": "stdout",
     "output_type": "stream",
     "text": [
      "2014 top 10:\n",
      "Zona Franca: 41.0\n",
      "Àlaba: 10.0\n",
      "Àvila: 7.0\n",
      "Zamora: 4.0\n",
      "Àliga: 3.0\n",
      "Àngel: 2.0\n",
      "Xiprer: 2.0\n",
      "Àngels: 1.0\n",
      "Xipre: 1.0\n",
      "Xinxó: 1.0\n"
     ]
    },
    {
     "data": {
      "image/png": "[encoded data removed]",
      "text/plain": [
       "<matplotlib.figure.Figure at 0x7f1ad1e4e4d0>"
      ]
     },
     "metadata": {},
     "output_type": "display_data"
    },
    {
     "name": "stdout",
     "output_type": "stream",
     "text": [
      "2015 top 10:\n",
      "Zona Franca: 32.0\n",
      "Àlaba: 8.0\n",
      "Àvila: 6.0\n",
      "Zamora: 5.0\n",
      "Xiprer: 4.0\n",
      "Zuloaga: 3.0\n",
      "Àngels: 2.0\n",
      "Àngel Marquès: 1.0\n",
      "Àngel Guimerà: 1.0\n",
      "Àliga: 1.0\n"
     ]
    },
    {
     "data": {
      "image/png": "[encoded data removed]",
      "text/plain": [
       "<matplotlib.figure.Figure at 0x7f1ad2a07850>"
      ]
     },
     "metadata": {},
     "output_type": "display_data"
    },
    {
     "name": "stdout",
     "output_type": "stream",
     "text": [
      "Totals top 10:\n",
      "Zona Franca: 199.0\n",
      "Àlaba: 49.0\n",
      "Àvila: 29.0\n",
      "Àngels: 12.0\n",
      "Àngel: 8.0\n",
      "Àliga: 8.0\n",
      "Àngel Guimerà: 5.0\n",
      "Àngel J. Baixeras: 3.0\n",
      "Zuloaga: 3.0\n",
      "Àngel Marquès: 2.0\n"
     ]
    },
    {
     "data": {
      "image/png": "[encoded data removed]",
      "text/plain": [
       "<matplotlib.figure.Figure at 0x7f1ad20bb610>"
      ]
     },
     "metadata": {},
     "output_type": "display_data"
    },
    {
     "name": "stdout",
     "output_type": "stream",
     "text": [
      "Mean Anual:\n",
      "Zona Franca: 33.17\n",
      "Àlaba: 8.17\n",
      "Àvila: 4.83\n",
      "Àngels: 2.0\n",
      "Àngel: 1.33\n",
      "Àliga: 1.33\n",
      "Àngel Guimerà: 0.83\n",
      "Àngel J. Baixeras: 0.5\n",
      "Zuloaga: 0.5\n",
      "Àngel Marquès: 0.33\n"
     ]
    },
    {
     "data": {
      "image/png": "[encoded data removed]",
      "text/plain": [
       "<matplotlib.figure.Figure at 0x7f1ad28f05d0>"
      ]
     },
     "metadata": {},
     "output_type": "display_data"
    }
   ],
   "source": [
    "print \"Num. Accidents per barri i any\"\n",
    "numPlotbyTypeTop10(general, \"NomCarrer\")"
   ]
  },
  {
   "cell_type": "markdown",
   "metadata": {},
   "source": [
    "Per Mes"
   ]
  },
  {
   "cell_type": "code",
   "execution_count": 44,
   "metadata": {
    "collapsed": false
   },
   "outputs": [
    {
     "name": "stdout",
     "output_type": "stream",
     "text": [
      "Num. Accidents per Mes i any\n",
      "2010:\n",
      "Novembre: 880.0\n",
      "Juliol: 810.0\n",
      "Maig: 805.0\n",
      "Desembre: 786.0\n",
      "Juny: 781.0\n",
      "Octubre: 760.0\n",
      "Març: 760.0\n",
      "Gener: 750.0\n",
      "Setembre: 748.0\n",
      "Abril: 743.0\n",
      "Febrer: 709.0\n",
      "Agost: 524.0\n"
     ]
    },
    {
     "data": {
      "image/png": "[encoded data removed]",
      "text/plain": [
       "<matplotlib.figure.Figure at 0x7f1ad2907310>"
      ]
     },
     "metadata": {},
     "output_type": "display_data"
    },
    {
     "name": "stdout",
     "output_type": "stream",
     "text": [
      "2011:\n",
      "Setembre: 828.0\n",
      "Maig: 812.0\n",
      "Març: 785.0\n",
      "Octubre: 764.0\n",
      "Desembre: 755.0\n",
      "Juny: 747.0\n",
      "Febrer: 746.0\n",
      "Novembre: 745.0\n",
      "Juliol: 735.0\n",
      "Abril: 718.0\n",
      "Gener: 659.0\n",
      "Agost: 537.0\n"
     ]
    },
    {
     "data": {
      "image/png": "[encoded data removed]",
      "text/plain": [
       "<matplotlib.figure.Figure at 0x7f1ad241aa50>"
      ]
     },
     "metadata": {},
     "output_type": "display_data"
    },
    {
     "name": "stdout",
     "output_type": "stream",
     "text": [
      "2012:\n",
      "Març: 873.0\n",
      "Juliol: 843.0\n",
      "Maig: 842.0\n",
      "Juny: 832.0\n",
      "Novembre: 810.0\n",
      "Octubre: 804.0\n",
      "Desembre: 797.0\n",
      "Febrer: 770.0\n",
      "Gener: 728.0\n",
      "Abril: 707.0\n",
      "Setembre: 669.0\n",
      "Agost: 578.0\n"
     ]
    },
    {
     "data": {
      "image/png": "[encoded data removed]",
      "text/plain": [
       "<matplotlib.figure.Figure at 0x7f1ad1f6c590>"
      ]
     },
     "metadata": {},
     "output_type": "display_data"
    },
    {
     "name": "stdout",
     "output_type": "stream",
     "text": [
      "2013:\n",
      "Octubre: 872.0\n",
      "Juliol: 855.0\n",
      "Desembre: 837.0\n",
      "Novembre: 827.0\n",
      "Maig: 824.0\n",
      "Abril: 809.0\n",
      "Febrer: 794.0\n",
      "Juny: 786.0\n",
      "Gener: 785.0\n",
      "Setembre: 754.0\n",
      "Març: 754.0\n",
      "Agost: 560.0\n"
     ]
    },
    {
     "data": {
      "image/png": "[encoded data removed]",
      "text/plain": [
       "<matplotlib.figure.Figure at 0x7f1ad24aeed0>"
      ]
     },
     "metadata": {},
     "output_type": "display_data"
    },
    {
     "name": "stdout",
     "output_type": "stream",
     "text": [
      "2014:\n",
      "Octubre: 963.0\n",
      "Desembre: 862.0\n",
      "Juliol: 852.0\n",
      "Novembre: 847.0\n",
      "Abril: 836.0\n",
      "Març: 833.0\n",
      "Maig: 802.0\n",
      "Juny: 796.0\n",
      "Febrer: 783.0\n",
      "Gener: 757.0\n",
      "Setembre: 739.0\n",
      "Agost: 610.0\n"
     ]
    },
    {
     "data": {
      "image/png": "[encoded data removed]",
      "text/plain": [
       "<matplotlib.figure.Figure at 0x7f1ad2230350>"
      ]
     },
     "metadata": {},
     "output_type": "display_data"
    },
    {
     "name": "stdout",
     "output_type": "stream",
     "text": [
      "2015:\n",
      "Desembre: 906.0\n",
      "Novembre: 901.0\n",
      "Maig: 887.0\n",
      "Abril: 874.0\n",
      "Març: 870.0\n",
      "Octubre: 860.0\n",
      "Juliol: 857.0\n",
      "Juny: 844.0\n",
      "Febrer: 791.0\n",
      "Setembre: 786.0\n",
      "Gener: 783.0\n",
      "Agost: 649.0\n"
     ]
    },
    {
     "data": {
      "image/png": "[encoded data removed]",
      "text/plain": [
       "<matplotlib.figure.Figure at 0x7f1ad9b6a110>"
      ]
     },
     "metadata": {},
     "output_type": "display_data"
    },
    {
     "name": "stdout",
     "output_type": "stream",
     "text": [
      "Totals:\n",
      "Octubre: 5023.0\n",
      "Novembre: 5010.0\n",
      "Maig: 4972.0\n",
      "Juliol: 4952.0\n",
      "Desembre: 4943.0\n",
      "Març: 4875.0\n",
      "Juny: 4786.0\n",
      "Abril: 4687.0\n",
      "Febrer: 4593.0\n",
      "Setembre: 4524.0\n",
      "Gener: 4462.0\n",
      "Agost: 3458.0\n"
     ]
    },
    {
     "data": {
      "image/png": "[encoded data removed]",
      "text/plain": [
       "<matplotlib.figure.Figure at 0x7f1ad2a094d0>"
      ]
     },
     "metadata": {},
     "output_type": "display_data"
    },
    {
     "name": "stdout",
     "output_type": "stream",
     "text": [
      "Mean Anual:\n",
      "Octubre: 837.17\n",
      "Novembre: 835.0\n",
      "Maig: 828.67\n",
      "Juliol: 825.33\n",
      "Desembre: 823.83\n",
      "Març: 812.5\n",
      "Juny: 797.67\n",
      "Abril: 781.17\n",
      "Febrer: 765.5\n",
      "Setembre: 754.0\n",
      "Gener: 743.67\n",
      "Agost: 576.33\n"
     ]
    },
    {
     "data": {
      "image/png": "[encoded data removed]",
      "text/plain": [
       "<matplotlib.figure.Figure at 0x7f1ad1f37c90>"
      ]
     },
     "metadata": {},
     "output_type": "display_data"
    }
   ],
   "source": [
    "print \"Num. Accidents per Mes i any\"\n",
    "numPlotbyType(general, \"NomMes\")"
   ]
  },
  {
   "cell_type": "markdown",
   "metadata": {},
   "source": [
    "Num accidents segons dia setmana"
   ]
  },
  {
   "cell_type": "code",
   "execution_count": 47,
   "metadata": {
    "collapsed": false,
    "scrolled": false
   },
   "outputs": [
    {
     "name": "stdout",
     "output_type": "stream",
     "text": [
      "Num. Accidents per setmana i any\n",
      "2010:\n",
      "Divendres: 1520.0\n",
      "Dijous: 1501.0\n",
      "Dimarts: 1481.0\n",
      "Dimecres: 1460.0\n",
      "Dilluns: 1335.0\n",
      "Dissabte: 993.0\n",
      "Diumenge: 766.0\n"
     ]
    },
    {
     "data": {
      "image/png": "[encoded data removed]",
      "text/plain": [
       "<matplotlib.figure.Figure at 0x7f1ad2056f90>"
      ]
     },
     "metadata": {},
     "output_type": "display_data"
    },
    {
     "name": "stdout",
     "output_type": "stream",
     "text": [
      "2011:\n",
      "Divendres: 1548.0\n",
      "Dimecres: 1412.0\n",
      "Dijous: 1412.0\n",
      "Dimarts: 1384.0\n",
      "Dilluns: 1330.0\n",
      "Dissabte: 1012.0\n",
      "Diumenge: 733.0\n"
     ]
    },
    {
     "data": {
      "image/png": "[encoded data removed]",
      "text/plain": [
       "<matplotlib.figure.Figure at 0x7f1ad1fd1f50>"
      ]
     },
     "metadata": {},
     "output_type": "display_data"
    },
    {
     "name": "stdout",
     "output_type": "stream",
     "text": [
      "2012:\n",
      "Divendres: 1653.0\n",
      "Dimecres: 1571.0\n",
      "Dijous: 1485.0\n",
      "Dimarts: 1445.0\n",
      "Dilluns: 1442.0\n",
      "Dissabte: 951.0\n",
      "Diumenge: 706.0\n"
     ]
    },
    {
     "data": {
      "image/png": "[encoded data removed]",
      "text/plain": [
       "<matplotlib.figure.Figure at 0x7f1ad20dbf10>"
      ]
     },
     "metadata": {},
     "output_type": "display_data"
    },
    {
     "name": "stdout",
     "output_type": "stream",
     "text": [
      "2013:\n",
      "Divendres: 1667.0\n",
      "Dijous: 1541.0\n",
      "Dimecres: 1521.0\n",
      "Dimarts: 1462.0\n",
      "Dilluns: 1446.0\n",
      "Dissabte: 1021.0\n",
      "Diumenge: 799.0\n"
     ]
    },
    {
     "data": {
      "image/png": "[encoded data removed]",
      "text/plain": [
       "<matplotlib.figure.Figure at 0x7f1ad1e4ef90>"
      ]
     },
     "metadata": {},
     "output_type": "display_data"
    },
    {
     "name": "stdout",
     "output_type": "stream",
     "text": [
      "2014:\n",
      "Divendres: 1674.0\n",
      "Dijous: 1602.0\n",
      "Dimecres: 1577.0\n",
      "Dilluns: 1524.0\n",
      "Dimarts: 1502.0\n",
      "Dissabte: 1019.0\n",
      "Diumenge: 782.0\n"
     ]
    },
    {
     "data": {
      "image/png": "[encoded data removed]",
      "text/plain": [
       "<matplotlib.figure.Figure at 0x7f1ad23aec90>"
      ]
     },
     "metadata": {},
     "output_type": "display_data"
    },
    {
     "name": "stdout",
     "output_type": "stream",
     "text": [
      "2015:\n",
      "Divendres: 1733.0\n",
      "Dimecres: 1655.0\n",
      "Dijous: 1633.0\n",
      "Dimarts: 1609.0\n",
      "Dilluns: 1465.0\n",
      "Dissabte: 1068.0\n",
      "Diumenge: 845.0\n"
     ]
    },
    {
     "data": {
      "image/png": "[encoded data removed]",
      "text/plain": [
       "<matplotlib.figure.Figure at 0x7f1ad20bb510>"
      ]
     },
     "metadata": {},
     "output_type": "display_data"
    },
    {
     "name": "stdout",
     "output_type": "stream",
     "text": [
      "Totals:\n",
      "Divendres: 9795.0\n",
      "Dimecres: 9196.0\n",
      "Dijous: 9174.0\n",
      "Dimarts: 8883.0\n",
      "Dilluns: 8542.0\n",
      "Dissabte: 6064.0\n",
      "Diumenge: 4631.0\n"
     ]
    },
    {
     "data": {
      "image/png": "[encoded data removed]",
      "text/plain": [
       "<matplotlib.figure.Figure at 0x7f1ad281d690>"
      ]
     },
     "metadata": {},
     "output_type": "display_data"
    },
    {
     "name": "stdout",
     "output_type": "stream",
     "text": [
      "Mean Anual:\n",
      "Divendres: 1632.5\n",
      "Dimecres: 1532.67\n",
      "Dijous: 1529.0\n",
      "Dimarts: 1480.5\n",
      "Dilluns: 1423.67\n",
      "Dissabte: 1010.67\n",
      "Diumenge: 771.83\n"
     ]
    },
    {
     "data": {
      "image/png": "[encoded data removed]",
      "text/plain": [
       "<matplotlib.figure.Figure at 0x7f1ad9b17c90>"
      ]
     },
     "metadata": {},
     "output_type": "display_data"
    }
   ],
   "source": [
    "print \"Num. Accidents per setmana i any\"\n",
    "numPlotbyType(general, \"DescripcioDiaSetmana\")"
   ]
  },
  {
   "cell_type": "markdown",
   "metadata": {},
   "source": [
    "Persones\n",
    "---------------\n",
    "Persones implicades per any"
   ]
  },
  {
   "cell_type": "code",
   "execution_count": 48,
   "metadata": {
    "collapsed": false
   },
   "outputs": [
    {
     "name": "stdout",
     "output_type": "stream",
     "text": [
      "Num. Persones implicades per any\n",
      "2010:10805\n",
      "2011:10805\n",
      "2012:11065\n",
      "2013:11375\n",
      "2014:11386\n",
      "2015:11780\n",
      "MEAN: 11202.67\n"
     ]
    },
    {
     "data": {
      "image/png": "[encoded data removed]",
      "text/plain": [
       "<matplotlib.figure.Figure at 0x7f1ad1efc6d0>"
      ]
     },
     "metadata": {},
     "output_type": "display_data"
    }
   ],
   "source": [
    "print \"Num. Persones implicades per any\"\n",
    "accidents= dict()\n",
    "for i in range(sizeYears):\n",
    "    numA = len(persones[i].index)\n",
    "    print \"201\"+str(i)+\":\"+ str(numA)\n",
    "    accidents[\"201\"+str(i)]=numA\n",
    "%matplotlib inline\n",
    "print \"MEAN: \"+ str(dictMean(accidents))\n",
    "plotDict(accidents, True,plotName= 'TotalPersonesImplicadesPerAny')\n"
   ]
  },
  {
   "cell_type": "markdown",
   "metadata": {},
   "source": [
    "Per sexe"
   ]
  },
  {
   "cell_type": "code",
   "execution_count": 55,
   "metadata": {
    "collapsed": false
   },
   "outputs": [
    {
     "name": "stdout",
     "output_type": "stream",
     "text": [
      "Num. Persones implicades per any i sexe\n",
      "2010: Homes 6665  Dones 4139\n",
      "2011: Homes 6721  Dones 4084\n",
      "2012: Homes 6853  Dones 4212\n",
      "2013: Homes 7037  Dones 4338\n",
      "2014: Homes 6980  Dones 4406\n",
      "2015: Homes 7372  Dones 4405\n",
      "MEAN: Homes 6938.0  Dones 4264.0\n"
     ]
    },
    {
     "data": {
      "image/png": "[encoded data removed]",
      "text/plain": [
       "<matplotlib.figure.Figure at 0x7f1ad26b37d0>"
      ]
     },
     "metadata": {},
     "output_type": "display_data"
    },
    {
     "name": "stdout",
     "output_type": "stream",
     "text": [
      "Totals: Homes 41628  Dones 25584\n"
     ]
    },
    {
     "data": {
      "image/png": "[encoded data removed]",
      "text/plain": [
       "<matplotlib.figure.Figure at 0x7f1ad1e90a90>"
      ]
     },
     "metadata": {},
     "output_type": "display_data"
    }
   ],
   "source": [
    "print \"Num. Persones implicades per any i sexe\"\n",
    "dictH= dict()\n",
    "dictD= dict()\n",
    "for i in range(sizeYears):\n",
    "    numH = len(persones[i][persones[i][\"DescripcioSexe\"]==\"Home\"].index)\n",
    "    numD = len(persones[i][persones[i][\"DescripcioSexe\"]==\"Dona\"].index)\n",
    "    print \"201\"+str(i)+\": Homes \"+ str(numH)+\"  Dones \"+ str(numD)\n",
    "    dictH[\"201\"+str(i)]=numH\n",
    "    dictD[\"201\"+str(i)]=numD\n",
    "%matplotlib inline\n",
    "print \"MEAN: Homes \"+ str(dictMean(dictH))+\"  Dones \"+ str(dictMean(dictD))\n",
    "plotStackDict(dictH, dictD,\"Homes\", \"Dones\", plotName= 'TotalPersonesImplicadesPerSexeAny')\n",
    "sumH= sum(dictH.values())\n",
    "sumD= sum(dictD.values())\n",
    "print \"Totals: Homes \"+ str(sumH)+\"  Dones \"+ str(sumD)\n",
    "pieDict({\"Homes\": sumH, \"Dones\":sumD }, plotName= 'PieMeanPersonesImplicadesPerSexeAny')\n"
   ]
  },
  {
   "cell_type": "markdown",
   "metadata": {},
   "source": [
    "Tipus de persona \n",
    "# TODO"
   ]
  },
  {
   "cell_type": "code",
   "execution_count": 50,
   "metadata": {
    "collapsed": false
   },
   "outputs": [
    {
     "name": "stdout",
     "output_type": "stream",
     "text": [
      "Num. Vehicles implicats per any\n",
      "2010: 9056\n",
      "2011: 8831\n",
      "2012: 9253\n",
      "2013: 9457\n",
      "2014: 9680\n",
      "2015: 10008\n",
      "MEAN: 9380.83\n"
     ]
    },
    {
     "data": {
      "image/png": "[encoded data removed]",
      "text/plain": [
       "<matplotlib.figure.Figure at 0x7f1ad1f96d10>"
      ]
     },
     "metadata": {},
     "output_type": "display_data"
    }
   ],
   "source": [
    "print \"Num. Vehicles implicats per any\"\n",
    "accidents= dict()\n",
    "for i in range(sizeYears):\n",
    "    numA =  len(general[i].index)\n",
    "    print \"201\"+str(i)+\": \"+ str(numA)\n",
    "    accidents[\"201\"+str(i)]=numA\n",
    "print \"MEAN: \"+ str(dictMean(accidents))\n",
    "%matplotlib inline\n",
    "plotDict(accidents, True, plotName= 'TipusPersonesImplicadesAny')\n"
   ]
  },
  {
   "cell_type": "markdown",
   "metadata": {},
   "source": [
    "Vehicles\n",
    "----------\n",
    "Total vehicles implicats"
   ]
  },
  {
   "cell_type": "code",
   "execution_count": 51,
   "metadata": {
    "collapsed": false,
    "scrolled": true
   },
   "outputs": [
    {
     "name": "stdout",
     "output_type": "stream",
     "text": [
      "Num. Vehicles implicats per any\n",
      "2010:17382\n",
      "2011:16803\n",
      "2012:17959\n",
      "2013:18283\n",
      "2014:18604\n",
      "2015:19237\n",
      "MEAN: 18044.67\n"
     ]
    },
    {
     "data": {
      "image/png": "[encoded data removed]",
      "text/plain": [
       "<matplotlib.figure.Figure at 0x7f1ad229c610>"
      ]
     },
     "metadata": {},
     "output_type": "display_data"
    }
   ],
   "source": [
    "print \"Num. Vehicles implicats per any\"\n",
    "accidents= dict()\n",
    "for i in range(sizeYears):\n",
    "    numA = len(vehicles[i].index)\n",
    "    print \"201\"+str(i)+\":\"+ str(numA)\n",
    "    accidents[\"201\"+str(i)]=numA\n",
    "%matplotlib inline\n",
    "print \"MEAN: \"+ str(dictMean(accidents))\n",
    "plotDict(accidents, True, plotName= 'VehiclesTotalsImplicadesAny')"
   ]
  },
  {
   "cell_type": "code",
   "execution_count": null,
   "metadata": {
    "collapsed": false,
    "scrolled": true
   },
   "outputs": [],
   "source": [
    "\n",
    "for i in range(sizeYears):\n",
    "    print \"201\"+str(i)+\":\"\n",
    "    print \"Total accidents:\"\n",
    "    print general[i].NumeroDexpedient.count()\n",
    "    print \"Total tipus:\"\n",
    "    print tipus[i].NumeroDexpedient.count()\n",
    "    print \"Total vehicles implicats:\"\n",
    "    print vehicles[i].CodiDexpedient.count()\n",
    "\n",
    "    print \"Per districte :\"\n",
    "    print countTypesDict(general[i],\"NomDistricte\")\n",
    "    print \"Per Barri :\"\n",
    "    print countTypes(general[i],\"NomBarri\")\n",
    "    print \"Per carrer :\"\n",
    "    print countTypes(general[i],\"NomCarrer\")\n",
    "    print \"Per numero postal :\"\n",
    "    print countTypes(general[i],\"NumPostalCaption\")\n",
    "    print \"Per dia de la setmana:\"\n",
    "    print countTypes(general[i],\"NumPostalCaption\")\n",
    "    print \"------------------------\\n\\n\"\n",
    "    \n",
    "    "
   ]
  },
  {
   "cell_type": "code",
   "execution_count": 52,
   "metadata": {
    "collapsed": true
   },
   "outputs": [],
   "source": [
    "finalGeneral = pd.concat(general.values())"
   ]
  },
  {
   "cell_type": "code",
   "execution_count": 53,
   "metadata": {
    "collapsed": false
   },
   "outputs": [
    {
     "name": "stdout",
     "output_type": "stream",
     "text": [
      "Num. accidents implicades per any i pluja\n",
      "2010: Pluja 326  No pluja 8730\n",
      "2011: Pluja 1452  No pluja 7379\n",
      "2012: Pluja 932  No pluja 8321\n",
      "2013: Pluja 1684  No pluja 7773\n",
      "2014: Pluja 1803  No pluja 7877\n",
      "2015: Pluja 1224  No pluja 8784\n",
      "MEAN: Pluja 1236.83  No pluja 8144.0\n"
     ]
    },
    {
     "data": {
      "image/png": "[encoded data removed]",
      "text/plain": [
       "<matplotlib.figure.Figure at 0x7f1ad9b30990>"
      ]
     },
     "metadata": {},
     "output_type": "display_data"
    },
    {
     "name": "stdout",
     "output_type": "stream",
     "text": [
      "Totals: Pluja 7421  No Pluja 48864\n"
     ]
    },
    {
     "data": {
      "image/png": "[encoded data removed]",
      "text/plain": [
       "<matplotlib.figure.Figure at 0x7f1ad1e4ee10>"
      ]
     },
     "metadata": {},
     "output_type": "display_data"
    },
    {
     "name": "stdout",
     "output_type": "stream",
     "text": [
      "Mitja accidents per dia de pluja o no\n"
     ]
    },
    {
     "data": {
      "image/png": "[encoded data removed]",
      "text/plain": [
       "<matplotlib.figure.Figure at 0x7f1ad2a1d410>"
      ]
     },
     "metadata": {},
     "output_type": "display_data"
    },
    {
     "name": "stdout",
     "output_type": "stream",
     "text": [
      "Mitja d'accidents per dia de pluja 25.6241402902 i per di de no pluja 25.6593713219\n"
     ]
    },
    {
     "data": {
      "image/png": "[encoded data removed]",
      "text/plain": [
       "<matplotlib.figure.Figure at 0x7f1ad289d590>"
      ]
     },
     "metadata": {},
     "output_type": "display_data"
    }
   ],
   "source": [
    "print \"Num. accidents implicades per any i pluja\"\n",
    "dictPluja= dict()\n",
    "dictNoPluja= dict()\n",
    "for i in range(sizeYears):\n",
    "    numPluja = len(general[i][general[i][\"Pluja\"]==True].index)\n",
    "    numNoPluja = len(general[i][general[i][\"Pluja\"]==False].index)\n",
    "    print \"201\"+str(i)+\": Pluja \"+ str(numPluja)+\"  No pluja \"+ str(numNoPluja)\n",
    "    dictPluja[\"201\"+str(i)]=numPluja\n",
    "    dictNoPluja[\"201\"+str(i)]=numNoPluja\n",
    "%matplotlib inline\n",
    "print \"MEAN: Pluja \"+ str(dictMean(dictPluja))+\"  No pluja \"+ str(dictMean(dictNoPluja))\n",
    "plotStackDict(dictPluja, dictNoPluja,\"Pluja\", \"No Pluja\", plotName= 'AccidentsTotalPlujesAny')\n",
    "sumH= sum(dictPluja.values())\n",
    "sumD= sum(dictNoPluja.values())\n",
    "print \"Totals: Pluja \"+ str(sumH)+\"  No Pluja \"+ str(sumD)\n",
    "pieDict({\"Pluja\": sumH, \"No Pluja\":sumD }, plotName= 'AccidentsTotalMeanPiePlujesAny')\n",
    "\n",
    "dictPluja= dict()\n",
    "dictNoPluja= dict()\n",
    "dictDiesPluja= dict()\n",
    "dictDiesNoPluja= dict()\n",
    "for i in range(sizeYears):\n",
    "    dfPlogut= general[i][general[i][\"Pluja\"]==True]\n",
    "    diesPloguts=countTypesDict(dfPlogut, 'Data').keys()\n",
    "    totsDies=countTypesDict(general[i], 'Data')\n",
    "    for data in totsDies.keys():\n",
    "        if data in diesPloguts:\n",
    "            try:\n",
    "                dictPluja[\"201\"+str(i)]+=totsDies[data]\n",
    "                dictDiesPluja[\"201\"+str(i)]+=1\n",
    "            except:\n",
    "                dictPluja[\"201\"+str(i)]=totsDies[data]\n",
    "                dictDiesPluja[\"201\"+str(i)]=1\n",
    "        else:\n",
    "            try:\n",
    "                dictNoPluja[\"201\"+str(i)]+=totsDies[data]\n",
    "                dictDiesNoPluja[\"201\"+str(i)]+=1\n",
    "            except:\n",
    "                dictNoPluja[\"201\"+str(i)]=totsDies[data]\n",
    "                dictDiesNoPluja[\"201\"+str(i)]=1\n",
    "totalDiesPluja=0\n",
    "totalDiesNoPluja=0\n",
    "for i in range(sizeYears):\n",
    "    dictPluja[\"201\"+str(i)]=dictPluja[\"201\"+str(i)]*1.0/dictDiesPluja[\"201\"+str(i)]\n",
    "    dictNoPluja[\"201\"+str(i)]=dictNoPluja[\"201\"+str(i)]*1.0/dictDiesNoPluja[\"201\"+str(i)] \n",
    "    totalDiesPluja+=dictPluja[\"201\"+str(i)]\n",
    "    totalDiesNoPluja+=dictNoPluja[\"201\"+str(i)]\n",
    "dictPluja[\"Mean\"]=totalDiesPluja*1.0/sizeYears\n",
    "dictNoPluja[\"Mean\"]=totalDiesNoPluja*1.0/sizeYears\n",
    "print 'Mitja accidents per dia de pluja o no'\n",
    "plotStackDict(dictPluja, dictNoPluja,\"Pluja\", \"No Pluja\", plotName= 'AccidentsDiaPlujesAny')\n",
    "print \"Mitja d'accidents per dia de pluja\", dictPluja[\"Mean\"],'i per di de no pluja',dictNoPluja[\"Mean\"]\n",
    "pieDict({\"Pluja\": dictPluja[\"Mean\"], \"No Pluja\":dictNoPluja[\"Mean\"] }, plotName= 'AccidentsDiaMeanPiePlujesAny')"
   ]
  },
  {
   "cell_type": "markdown",
   "metadata": {},
   "source": [
    "## Algunes conclusions\n",
    "- El mes amb mes accidents és l'Octubre\n",
    "- El mes amb menys accidents és l'Agost\n",
    "- EL dia laborable amb menys accidents es el dilluns i el divendres amb més\n",
    "- Al cap de setmana baixen els accidents sobretot diumenge.\n",
    "- Segons les dades "
   ]
  },
  {
   "cell_type": "code",
   "execution_count": null,
   "metadata": {
    "collapsed": true
   },
   "outputs": [],
   "source": []
  },
  {
   "cell_type": "markdown",
   "metadata": {
    "collapsed": true
   },
   "source": [
    "Grafiques de les Dades\n",
    "-----------\n",
    "**TODO**"
   ]
  },
  {
   "cell_type": "code",
   "execution_count": null,
   "metadata": {
    "collapsed": true,
    "scrolled": false
   },
   "outputs": [],
   "source": []
  },
  {
   "cell_type": "markdown",
   "metadata": {},
   "source": [
    "Heat Map\n",
    "------------\n"
   ]
  },
  {
   "cell_type": "markdown",
   "metadata": {},
   "source": [
    "[Mapa](http://nicofo.github.io/Estudi-Transit-BCN/mapa.html)\n",
    "**TODO**\n",
    "\n",
    "CANVIAR"
   ]
  },
  {
   "cell_type": "code",
   "execution_count": 14,
   "metadata": {
    "collapsed": false,
    "scrolled": false
   },
   "outputs": [],
   "source": [
    "def createJSMulti():\n",
    "\n",
    "    #mesosAny={'1':'de Gener','2': 'de Febrer','3': 'de Març','4':\"d'Abril\",'5': 'de Maig','6': 'de Juny','7': 'de Juliol','8': \"d'Agost\",'9': 'de Setembre','10': \"d'Octubre\",'11': 'de Novembre','12': 'de Desembre'}\n",
    "\n",
    "\n",
    "\n",
    "    \n",
    "    #print dates\n",
    "    fout= open(\"accidentsMulti.js\", 'w')\n",
    "    for i in range(sizeYears):\n",
    "        result = general[i]#pd.concat(general)\n",
    "        result.sort_values(by='DataNumeric', ascending=False)\n",
    "        dates=result.groupby(['Data'])['Data']\n",
    "        posarComaEntre=False\n",
    "        fout.write('var accidents'+str(i)+' = {\\n')\n",
    "        fout.write('  \"type\": \"FeatureCollection\",\\n')\n",
    "        fout.write('  \"features\": [\\n')\n",
    "        for data in dates.groups:\n",
    "\n",
    "\n",
    "            if posarComaEntre:\n",
    "                fout.write(',\\n')\n",
    "            posarComaEntre=True\n",
    "            dataInfo=result[result['Data'] == data]\n",
    "\n",
    "            fout.write('    {\\n')\n",
    "            fout.write('      \"type\": \"Feature\",\\n')\n",
    "            fout.write('      \"properties\": {\\n')\n",
    "            fout.write('        \"start\": \"'+ str(dataInfo[\"Data\"].iloc[0])+'\",\\n')\n",
    "\n",
    "\n",
    "            fout.write('      },\\n')\n",
    "            fout.write('      \"geometry\": { \\n')\n",
    "            fout.write('        \"type\":\"MultiPoint\",\\n')\n",
    "            fout.write('        \"coordinates\":[')\n",
    "            posarComa=False\n",
    "            for index, info in result[result['Data'] == data].iterrows(): \n",
    "                try:\n",
    "\n",
    "                    if posarComa:\n",
    "                        fout.write(', ')\n",
    "                    posarComa=True\n",
    "\n",
    "                    #coord=utm.to_latlon(float(str(info[\"Coordenada UTM (X)\"]).replace(',', '.')), float(str(info[\"Coordenada UTM (Y)\"]).replace(',', '.')),  31, 'T')\n",
    "                    fout.write('['+str(info['Lon'])+', '+ str(info['Lat'])+']')\n",
    "                except:\n",
    "                    print float(str(info[\"Coordenada UTM (X)\"]).replace(',', '.')), float(str(info[\"Coordenada UTM (Y)\"]).replace(',', '.'))\n",
    "\n",
    "            fout.write(']\\n      }\\n')\n",
    "            fout.write('    }')            \n",
    "        fout.write('\\n  ]\\n')\n",
    "        fout.write('};\\n')\n",
    "\n",
    "    fout.close()\n",
    "\n",
    "createJSMulti()"
   ]
  },
  {
   "cell_type": "code",
   "execution_count": null,
   "metadata": {
    "collapsed": true,
    "scrolled": false
   },
   "outputs": [],
   "source": []
  }
 ],
 "metadata": {
  "kernelspec": {
   "display_name": "Python 2",
   "language": "python",
   "name": "python2"
  },
  "language_info": {
   "codemirror_mode": {
    "name": "ipython",
    "version": 2
   },
   "file_extension": ".py",
   "mimetype": "text/x-python",
   "name": "python",
   "nbconvert_exporter": "python",
   "pygments_lexer": "ipython2",
   "version": "2.7.11"
  }
 },
 "nbformat": 4,
 "nbformat_minor": 0
}
